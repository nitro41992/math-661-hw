{
 "cells": [
  {
   "cell_type": "markdown",
   "metadata": {},
   "source": [
    "### 5.10 What is wrong?  \n",
    "**a)** The Central Limit Theorem does not imply that the population mean is normal but instead states that when n is large, the sample mean of the sample distribution is approximately normal.  \n",
    "**b)** For large n, the distribution of observed values is not Normal. Instead, it is the mean of the sampling distribution that is normal.  \n",
    "**c)** For sufficiently large n, the 68–95–99.7 rule does not say that x̅ should be within μ ± 2σ about 95% of the\n",
    "time. Instead, it is saying that 95% of all samples will have x̅ within 2 standard deviations of μ "
   ]
  },
  {
   "cell_type": "markdown",
   "metadata": {},
   "source": [
    "### 5.14 Total sleep time of college students.  \n",
    "In Example 5.1, the total sleep time per night among college students was approximately Normally\n",
    "distributed with mean μ = 6.78 hours and standard deviation σ = 1.24 hours. You plan to take an SRS of\n",
    "size n = 150 and compute the average total sleep time.\n",
    "\n",
    "**a)** What is the standard deviation for the average time?"
   ]
  },
  {
   "cell_type": "code",
   "execution_count": 22,
   "metadata": {},
   "outputs": [
    {
     "name": "stdout",
     "output_type": "stream",
     "text": [
      "Standard deviation of the average time: 0.101"
     ]
    }
   ],
   "source": [
    "popSD = 1.24\n",
    "n = 150\n",
    "mu = 6.78\n",
    "\n",
    "sampSD = popSD / sqrt(n)\n",
    "cat('Standard deviation of the average time:', round(sampSD, 3))"
   ]
  },
  {
   "cell_type": "markdown",
   "metadata": {},
   "source": [
    "**b)** Use the 95 part of the 68–95–99.7 rule to describe the variability of this sample mean."
   ]
  },
  {
   "cell_type": "code",
   "execution_count": 21,
   "metadata": {},
   "outputs": [
    {
     "name": "stdout",
     "output_type": "stream",
     "text": [
      "Variability is 6.78 ± 0.2"
     ]
    }
   ],
   "source": [
    "# 95% of all samples xbar within 2sigma of mu\n",
    "cat(sprintf(\"Variability is %s ± %s\", mu, round(2*sampSD, 2)))"
   ]
  },
  {
   "cell_type": "markdown",
   "metadata": {},
   "source": [
    "**c)** What is the probability that your average will be below 6.9 hours?  "
   ]
  },
  {
   "cell_type": "code",
   "execution_count": 41,
   "metadata": {},
   "outputs": [
    {
     "name": "stdout",
     "output_type": "stream",
     "text": [
      "Pr(xbar < 6.9)= 0.882"
     ]
    }
   ],
   "source": [
    "xbar = 6.9\n",
    "Zval = (xbar - mu)/(sampSD)\n",
    "cat('Pr(xbar < 6.9)=', round(pnorm(Zval), 4))"
   ]
  },
  {
   "cell_type": "markdown",
   "metadata": {},
   "source": [
    "### 5.15 Determining sample size.  \n",
    "Refer to the previous exercise. Now you want to use a sample size such that about 95% of the averages fall\n",
    "within ±10 minutes (0.17 hours) of the true mean μ = 6.78.  \n",
    "\n",
    "**a)** Based on your answer to part (b) in Exercise 5.14, should the sample size be larger or smaller than 150?\n",
    "Explain.  \n",
    "\n",
    "You want the sample size to be larger because a larger sample size meanst that sample standard deviation will go down since sample standard deviation is population standard deviation divided by the square root of n. Since 95% of the averages fell 0.2 hours from the true mean, increasing the sample size should decrease the sample standard deviation to 0.17 hours.  \n",
    "\n",
    "**b)** What standard deviation of x̅ do you need such that 95% of all samples will have a mean within 10\n",
    "minutes of μ?  "
   ]
  },
  {
   "cell_type": "code",
   "execution_count": 58,
   "metadata": {},
   "outputs": [
    {
     "name": "stdout",
     "output_type": "stream",
     "text": [
      "Standard deviation of the sample mean: 0.085"
     ]
    }
   ],
   "source": [
    "SD = 0.17\n",
    "sampSD = SD / 2\n",
    "cat('Standard deviation of the sample mean:', sampSD) # 95%: μ ± 2σ"
   ]
  },
  {
   "cell_type": "markdown",
   "metadata": {},
   "source": [
    "**c)** Using the standard deviation you calculated in part (b), determine the number of students you need to\n",
    "sample."
   ]
  },
  {
   "cell_type": "code",
   "execution_count": 60,
   "metadata": {},
   "outputs": [
    {
     "name": "stdout",
     "output_type": "stream",
     "text": [
      "Number of students: 851"
     ]
    }
   ],
   "source": [
    "# sampSD = popSD / sqrt(n) => popSD = sampSD*sqrt(n) => n = (popSD/sampSD)^2\n",
    "n = ((2*popSD)/sampSD)^2\n",
    "cat('Number of students:', round(n))"
   ]
  },
  {
   "cell_type": "markdown",
   "metadata": {},
   "source": [
    "### 5.17 Bottling an energy drink.\n",
    "A bottling company uses a filling machine to fill cans with an energy drink. The cans are supposed to\n",
    "contain 250 milliliters (ml). The machine, however, has some variability, so the standard deviation of the\n",
    "volume is σ = 0.5 ml. A sample of 4 cans is inspected each hour for process control purposes, and records\n",
    "are kept of the sample mean volume. If the process mean is exactly equal to the target value, what will be\n",
    "the mean and standard deviation of the numbers recorded?\n"
   ]
  },
  {
   "cell_type": "code",
   "execution_count": 83,
   "metadata": {},
   "outputs": [
    {
     "name": "stdout",
     "output_type": "stream",
     "text": [
      "Mean: 250\n",
      "Standard Deviation 0.25"
     ]
    }
   ],
   "source": [
    "mu =250\n",
    "sd = 0.5\n",
    "\n",
    "cat('Mean:', mu)\n",
    "cat('\\n')\n",
    "cat('Standard Deviation', sd/sqrt(4))"
   ]
  },
  {
   "cell_type": "markdown",
   "metadata": {},
   "source": [
    "### 5.19 Can volumes.  \n",
    "Averages are less variable than individual observations. It is reasonable to assume that the can volumes in\n",
    "Exercise 5.17 vary according to a Normal distribution. In that case, the mean x̅ of an SRS of cans also has\n",
    "a Normal distribution.  \n",
    "\n",
    "**a)** Make a sketch of the Normal curve for a single can. Add the Normal curve for the mean of an SRS of 4\n",
    "cans on the same sketch."
   ]
  },
  {
   "cell_type": "code",
   "execution_count": 107,
   "metadata": {},
   "outputs": [
    {
     "data": {
      "image/png": "[encoded data removed]",
      "text/plain": [
       "plot without title"
      ]
     },
     "metadata": {},
     "output_type": "display_data"
    }
   ],
   "source": [
    "x <- seq(243, 257, length=1000)\n",
    "\n",
    "y <- dnorm(x, mean=250, sd=1/sqrt(4))\n",
    "y2 <- dnorm(x, mean=250, sd=1)\n",
    "\n",
    "plot(x, y, type=\"l\", lwd=1)\n",
    "lines(x, y2)"
   ]
  },
  {
   "cell_type": "markdown",
   "metadata": {},
   "source": [
    "**b)** What is the probability that the volume of a single randomly chosen can differs from the target value by\n",
    "1 ml or more?"
   ]
  },
  {
   "cell_type": "code",
   "execution_count": 148,
   "metadata": {},
   "outputs": [
    {
     "name": "stdout",
     "output_type": "stream",
     "text": [
      "Probability: 0.0455"
     ]
    }
   ],
   "source": [
    "# less than 249 or greater than 251\n",
    "zValLow = (248 - 250) \n",
    "zValHigh = (252 - 250) \n",
    "prob = pnorm(zValLow) + (1 - pnorm(zValHigh))\n",
    "                         \n",
    "cat('Probability:', round(prob, 5))"
   ]
  },
  {
   "cell_type": "markdown",
   "metadata": {},
   "source": [
    "**c)** What is the probability that the mean volume of an SRS of 4 cans differs from the target value by 1 ml\n",
    "or more?"
   ]
  },
  {
   "cell_type": "code",
   "execution_count": 163,
   "metadata": {},
   "outputs": [
    {
     "name": "stdout",
     "output_type": "stream",
     "text": [
      "Probability: 6.334248e-05"
     ]
    }
   ],
   "source": [
    "sd = 1/sqrt(4)\n",
    "\n",
    "zValLow = (248 - 250) / sd\n",
    "zValHigh = (252 - 250) / sd\n",
    "prob = pnorm(zValLow) + (1 - pnorm(zValHigh))\n",
    "\n",
    "cat('Probability:', prob)"
   ]
  },
  {
   "cell_type": "markdown",
   "metadata": {},
   "source": [
    "### 5.21 Cholesterol levels of teenagers.\n",
    "A study of the health of teenagers plans to measure the blood cholesterol level of an SRS of 13-to 16-yearolds. The researchers will report the mean x̅ from their sample as an estimate of the mean cholesterol\n",
    "level μ in this population.  \n",
    "\n",
    "**a)** Explain to someone who knows no statistics what it means to say that x̅ is an “unbiased” estimator of μ  \n",
    "\n",
    "x̅ does not approach μ from either direction and is not less or more than μ. Instead, it approximates the average.\n",
    "\n",
    "**b)** The sample result x̅ is an unbiased estimator of the population truth μ no matter what size SRS the\n",
    "study chooses. Explain to someone who knows no statistics why a large sample gives more trustworthy\n",
    "results than a small sample.\n",
    "\n",
    "As the sample size increases, x̅ is more likely to be close to μ because there are more and more data points which correlate to the population truth. The more data associated with the population, the more that x̅ approaches μ.\n"
   ]
  },
  {
   "cell_type": "markdown",
   "metadata": {},
   "source": [
    "### 5.47 What is wrong?  \n",
    "Explain what is wrong in each of the following scenarios.  \n",
    "**a)** If you toss a fair coin four times and a head appears each time, then the next toss is more likely to be a\n",
    "tail than a head.  \n",
    "\n",
    "The likelihood is independent because the coin is fair so the probability of tails is the same each time a coin is tossed.\n",
    "\n",
    "**b)** If you toss a fair coin four times and observe the pattern HTHT, then the next toss is more likely to be a\n",
    "head than a tail.  \n",
    "\n",
    "The likelihood is independent because the coin is fair so the probability of tails is the same each time a coin is tossed. This is true even for patterns of heads and tails with multiple combinations fo tosses.\n",
    "\n",
    "**c)** The quantity p^ is one of the parameters for a binomial distribution.\n",
    "\n",
    "The parameters for binomial distribution do not include p^ and are only n and p\n",
    "\n",
    "**d)** The binomial distribution can be used to model the daily number of pedestrian/cyclist near-crash events\n",
    "on campus.\n",
    "\n",
    "The Poisson distribution is a more appropriate model because the events are independent.\n"
   ]
  },
  {
   "cell_type": "markdown",
   "metadata": {},
   "source": [
    "### 5.48 What is wrong?\n",
    "Explain what is wrong in each of the following scenarios.  \n",
    "**a)** In the binomial setting, X is a proportion.  \n",
    "\n",
    "X is not a proportion but a count of successes.\n",
    "\n",
    "**b)** The variance for a binomial count is p(1−p)/n.\n",
    "\n",
    "The formual is for the standard deviation for proportions, not variance.\n",
    "\n",
    "**c)** The Normal approximation to the binomial distribution is always accurate when n is greater than 1000. \n",
    "\n",
    "The criteria is np ≥ 10 and n(1 – p) ≥ 10. Therefore, a p value less than 0.001 and n at 1000 is less than 10 and therefor fails the criteria.\n",
    "\n",
    "**d)** We can use the binomial distribution to approximate the sampling distribution of p^ when we draw an SRS of size n = 50 students from a population of 500 students.\n",
    "\n",
    "The binomial sampling distribution for counts can be used when the population is at least 20 times as large as the sample. Since the population is less than 20 times 50, it cannot approximate the sampling distribution."
   ]
  },
  {
   "cell_type": "markdown",
   "metadata": {},
   "source": [
    "### 5.50 Should you use the binomial distribution?  \n",
    "In each of the following situations, is it reasonable to use a binomial distribution for the random variable\n",
    "X? Give reasons for your answer in each case.  \n",
    "**a)** In a random sample of students in a fitness study, X is the mean daily exercise time of the sample.  \n",
    "\n",
    "Since Exercise time is a continuous variable, it cannot be modeled using a binomial distribution.\n",
    "\n",
    "**b)** A manufacturer of running shoes picks a random sample of 20 shoes from the production of shoes each\n",
    "day for a detailed inspection. X is the number of pairs of shoes with a defect.  \n",
    "\n",
    "Binomial distribution can be used because we can categorize the success and failures of the number of pairs of shoes, in this case shoes without or with a defect respectively.\n",
    "\n",
    "**c)** A nutrition study chooses an SRS of college students. They are asked whether or not they usually eat at\n",
    "least five servings of fruits or vegetables per day. X is the number who say that they do.  \n",
    "\n",
    "Binomial distribution can be used because we can categorize the success, number of people who eat five servings of fruits per day, and failures, number of people who do not eat five servings of fruits per day.\n",
    "\n",
    "**d)** X is the number of days during the school year when you skip a class.  \n",
    "\n",
    "Binomial distribution can be used because we can categorize the success and failures of the number of days, in this case days not skipped or days skipped respectively."
   ]
  },
  {
   "cell_type": "markdown",
   "metadata": {},
   "source": [
    "### 5.74 Number of colony-forming units.  \n",
    "In microbiology, colony-forming units (CFUs) are used to measure the number of microorganisms present\n",
    "in a sample. To determine the number of CFUs, the sample is prepared, spread uniformly on an agar plate, and then incubated at some suitable temperature. Suppose that the number of CFUs that appear after incubation follows a Poisson distribution with μ = 15.  \n",
    "\n",
    "**a)** If the area of the agar plate is 75 square centimeters (cm2), what is the probability of observing fewer\n",
    "than 4 CFUs in a 25 cm2 area of the plate?  "
   ]
  },
  {
   "cell_type": "code",
   "execution_count": 185,
   "metadata": {},
   "outputs": [
    {
     "name": "stdout",
     "output_type": "stream",
     "text": [
      "P(3; 15)= 0.265"
     ]
    }
   ],
   "source": [
    "mu = 15 * (25/75)\n",
    "x = 4\n",
    "# Pr(x<4)\n",
    "# P(3; 15)\n",
    "\n",
    "P=0\n",
    "for (i in seq(from=x-1, to=0, by=-1)) {\n",
    "    P = P + (exp(-mu) * (mu^(i))) / factorial(i)\n",
    "}\n",
    "\n",
    "\n",
    "cat('P(3; 15)=', round(P,4))"
   ]
  },
  {
   "cell_type": "markdown",
   "metadata": {},
   "source": [
    "**b)** If you were to count the total number of CFUs in 5 plates, what is the probability you would observe more than 90 CFUs? Use the Poisson distribution to obtain this probability."
   ]
  },
  {
   "cell_type": "code",
   "execution_count": 215,
   "metadata": {},
   "outputs": [
    {
     "name": "stdout",
     "output_type": "stream",
     "text": [
      "P(90; 15)= 0.0399"
     ]
    }
   ],
   "source": [
    "mu = 15 * 5\n",
    "x = 90\n",
    "\n",
    "P=0\n",
    "for (i in seq(from=0, to=x, by=1)) {\n",
    "    P = P + (exp(-mu) * (mu^(i))) / factorial(i)\n",
    "}\n",
    "PPois = round(1-P,4)\n",
    "\n",
    "cat('P(90; 15)=', PPois)"
   ]
  },
  {
   "cell_type": "markdown",
   "metadata": {},
   "source": [
    "**c)** Repeat the probability calculation in part (b) but now use the Normal approximation. How close is your answer to your answer in part (b)?"
   ]
  },
  {
   "cell_type": "code",
   "execution_count": 221,
   "metadata": {},
   "outputs": [
    {
     "name": "stdout",
     "output_type": "stream",
     "text": [
      "Probability of Normal Distribution: 0.03233584\n",
      "Difference: -0.007564156"
     ]
    }
   ],
   "source": [
    "mu = 15 * 5\n",
    "xbar = 91\n",
    "sd = sqrt(mu)\n",
    "\n",
    "Z = (xbar - mu) / sd\n",
    "PNorm = 1 - pnorm(Z)\n",
    "\n",
    "cat('Probability of Normal Distribution:', PNorm)\n",
    "cat('\\n')\n",
    "cat('Difference:', PNorm - PPois)"
   ]
  }
 ],
 "metadata": {
  "kernelspec": {
   "display_name": "R",
   "language": "R",
   "name": "ir"
  },
  "language_info": {
   "codemirror_mode": "r",
   "file_extension": ".r",
   "mimetype": "text/x-r-source",
   "name": "R",
   "pygments_lexer": "r",
   "version": "3.5.1"
  }
 },
 "nbformat": 4,
 "nbformat_minor": 2
}

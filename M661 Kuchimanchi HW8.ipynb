{
 "cells": [
  {
   "cell_type": "markdown",
   "metadata": {},
   "source": [
    "### 6.30 Fuel efficiency.  \n",
    "**a)**"
   ]
  },
  {
   "cell_type": "code",
   "execution_count": 83,
   "metadata": {},
   "outputs": [
    {
     "name": "stdout",
     "output_type": "stream",
     "text": [
      "mean = 43.17\n",
      "standard deviation = 4.414939"
     ]
    }
   ],
   "source": [
    "mpg = c(41.5, 50.7, 36.6, 37.3, 34.2, 45.0, 48.0, 43.2, 47.7, 42.2, \n",
    "        43.2, 44.6, 48.4, 46.4, 46.8, 39.2, 37.3, 43.5, 44.3, 43.3)\n",
    "\n",
    "s = summary(mpg)\n",
    "mean = s['Mean']\n",
    "sd = sd(mpg)\n",
    "cat('mean =', mean)\n",
    "cat('\\n')\n",
    "cat('standard deviation =', sd)"
   ]
  },
  {
   "cell_type": "markdown",
   "metadata": {},
   "source": [
    "**b)**  Based on the histogram below and the summary above, a normal distribution would be appropriate for the dataset, especially because there is no skew and the sample size is greater than 15."
   ]
  },
  {
   "cell_type": "code",
   "execution_count": 84,
   "metadata": {},
   "outputs": [
    {
     "data": {
      "image/png": "[encoded data removed]",
      "text/plain": [
       "Plot with title \"Histogram of mpg\""
      ]
     },
     "metadata": {},
     "output_type": "display_data"
    }
   ],
   "source": [
    "hist(mpg, xlab = \"MPG\", xlim = c(30,55))"
   ]
  },
  {
   "cell_type": "markdown",
   "metadata": {},
   "source": [
    "**c)**"
   ]
  },
  {
   "cell_type": "code",
   "execution_count": 85,
   "metadata": {},
   "outputs": [
    {
     "name": "stdout",
     "output_type": "stream",
     "text": [
      "The confidence interval is between 41.636 and 44.704"
     ]
    }
   ],
   "source": [
    "# For 95%, Z = 1.96\n",
    "\n",
    "pop_sd = 3.5\n",
    "z= 1.96\n",
    "\n",
    "low = mean - z*(pop_sd/sqrt(length(mpg)))\n",
    "high = mean + z*(pop_sd/sqrt(length(mpg)))\n",
    "\n",
    "cat(sprintf('The confidence interval is between %s and %s', round(low, 3), round(high, 3)))"
   ]
  },
  {
   "cell_type": "markdown",
   "metadata": {},
   "source": [
    "### 6.31 Fuel efficiency in metric units."
   ]
  },
  {
   "cell_type": "code",
   "execution_count": 86,
   "metadata": {},
   "outputs": [
    {
     "name": "stdout",
     "output_type": "stream",
     "text": [
      "mean = 18.3505\n",
      "standard deviation = 1.875146\n",
      "Margin of Error = 0.652"
     ]
    }
   ],
   "source": [
    "# 1 mile / gallon * 1.609 km / 1 mile * 1 gallon / 3.785 liters = 1.609 / 3.785\n",
    "\n",
    "ratio = 1.609 / 3.785\n",
    "kpl_pop_sd = ratio * pop_sd \n",
    "\n",
    "kpl = c();\n",
    "for (x in mpg) {\n",
    "    kpl = c(kpl, round(ratio * x, 2))\n",
    "}\n",
    "s = summary(kpl)\n",
    "mean = s['Mean']\n",
    "sd = sd(kpl)\n",
    "cat('mean =', mean)\n",
    "cat('\\n')\n",
    "cat('standard deviation =', sd)\n",
    "\n",
    "# Margin of Error : z * pop_sd / sqrt(n)\n",
    "\n",
    "moe = z*(kpl_pop_sd/sqrt(length(kpl)))\n",
    "cat('\\n')\n",
    "cat('Margin of Error =', round(moe, 3))\n"
   ]
  },
  {
   "cell_type": "markdown",
   "metadata": {},
   "source": [
    "### 7.30 Fuel efficiency t test.  \n",
    "**a)**  Since there are no outliers and no apparent skewness and the linear distribution in tht Q-Q plot, it is appropriate to analyze these data using methods based on Normal distributions"
   ]
  },
  {
   "cell_type": "code",
   "execution_count": 89,
   "metadata": {},
   "outputs": [
    {
     "data": {
      "image/png": "[encoded data removed]",
      "text/plain": [
       "Plot with title \"Normal Q-Q Plot\""
      ]
     },
     "metadata": {},
     "output_type": "display_data"
    }
   ],
   "source": [
    "qqnorm(mpg)"
   ]
  },
  {
   "cell_type": "markdown",
   "metadata": {},
   "source": [
    "**b)**"
   ]
  },
  {
   "cell_type": "code",
   "execution_count": 132,
   "metadata": {},
   "outputs": [
    {
     "name": "stdout",
     "output_type": "stream",
     "text": [
      "mean = 43.17\n",
      "standard deviation = 4.415\n",
      "standard error = 0.987\n",
      "margin of error = 2.066"
     ]
    }
   ],
   "source": [
    "s = summary(mpg)\n",
    "mean = s['Mean']\n",
    "sd = sd(mpg)\n",
    "cat('mean =', mean)\n",
    "cat('\\n')\n",
    "cat('standard deviation =', round(sd, 3))\n",
    "\n",
    "# Standard error = sd / sqrt(n)\n",
    "se = sd/sqrt(length(mpg))\n",
    "cat('\\n')\n",
    "cat('standard error =', round(se, 3))\n",
    "\n",
    "# 95% Margin of error = t(alpha/2) × Standard error for population mean\n",
    "df = length(mpg) - 1\n",
    "t = abs(qt(0.05/2, df))\n",
    "cat('\\n')\n",
    "cat('margin of error =', round(t * se, 3))"
   ]
  },
  {
   "cell_type": "markdown",
   "metadata": {},
   "source": [
    "**c)**"
   ]
  },
  {
   "cell_type": "code",
   "execution_count": 117,
   "metadata": {},
   "outputs": [
    {
     "name": "stdout",
     "output_type": "stream",
     "text": [
      "The confidence interval is between 41.104 and 45.236"
     ]
    }
   ],
   "source": [
    "# CI = xbar +- t(alpha/2) × Standard error for population mean\n",
    "low = mean - (t * se)\n",
    "high = mean + (t * se)\n",
    "cat(sprintf('The confidence interval is between %s and %s', round(low, 3), round(high, 3)))"
   ]
  },
  {
   "cell_type": "markdown",
   "metadata": {},
   "source": [
    "### 7.39 Fuel efficiency comparison t test.  \n",
    "**a)**  \n",
    "* H0: There **isn't** a significant difference between the means of two calculations.  \n",
    "* Ha: There **is** a significant difference between the means of two calculations.  \n",
    "\n",
    "**b)**  Based on the p-value being less than the significance level (0.05), we can reject the null hypothesis (h0)"
   ]
  },
  {
   "cell_type": "code",
   "execution_count": 154,
   "metadata": {},
   "outputs": [
    {
     "name": "stdout",
     "output_type": "stream",
     "text": [
      "t-stat: 4.358\n",
      "p-value: 0.00034"
     ]
    }
   ],
   "source": [
    "comp = c(41.5, 50.7, 36.6, 37.3, 34.2, 45.0, 48.0, 43.2, 47.7, 42.2,\n",
    "        43.2, 44.6, 48.4, 46.4, 46.8, 39.2, 37.3, 43.5, 44.3, 43.3)\n",
    "driver = c(36.5, 44.2, 37.2, 35.6, 30.5, 40.5, 40.0, 41.0, 42.8, 39.2,\n",
    "          38.8, 44.5, 45.4, 45.3, 45.7, 34.2, 35.2, 39.8, 44.9, 47.5)\n",
    "\n",
    "diff = c();\n",
    "for (i in 1:length(comp)) {\n",
    "    diff = c(diff, round((comp[i] - driver[i]), 2))\n",
    "}\n",
    "\n",
    "test = t.test(diff)\n",
    "cat('t-stat:', round(test$statistic, 3))\n",
    "cat('\\n')\n",
    "cat('p-value:', round(test$p.value, 5))"
   ]
  },
  {
   "cell_type": "markdown",
   "metadata": {},
   "source": [
    "### 6.37 More than one confidence interval.  \n",
    "**a)**"
   ]
  },
  {
   "cell_type": "code",
   "execution_count": 171,
   "metadata": {},
   "outputs": [
    {
     "name": "stdout",
     "output_type": "stream",
     "text": [
      "p(X=5)= 0.77378"
     ]
    }
   ],
   "source": [
    "n = 5 # intervals\n",
    "prob = 0.95\n",
    "size = 5 # successes\n",
    "\n",
    "bp5 = dbinom(n, size, prob)\n",
    "\n",
    "cat('p(X=5)=', round(bp5, 5)) # success of all five intervals"
   ]
  },
  {
   "cell_type": "markdown",
   "metadata": {},
   "source": [
    "**b)**"
   ]
  },
  {
   "cell_type": "code",
   "execution_count": 175,
   "metadata": {},
   "outputs": [
    {
     "name": "stdout",
     "output_type": "stream",
     "text": [
      "\n",
      "p(X>=4) = p(X=4) + p(X=5) = 0.97741"
     ]
    }
   ],
   "source": [
    "bp4 = dbinom(4, 5, prob) # success of 4 intervals\n",
    "\n",
    "cat('\\n')\n",
    "cat('p(X>=4) = p(X=4) + p(X=5) =', round(bp4 + bp5, 5))"
   ]
  },
  {
   "cell_type": "markdown",
   "metadata": {},
   "source": [
    "### 6.52 What’s wrong?  \n",
    "**a)**  Testing for the sample mean does not make sense because the assumption is that we already know the sample mean. Instead we should be testing for the population using the sample mean.  \n",
    "**b)** The standard error for a sample is standard / sqrt(n). The calculation is missing the square root around the sample size.  \n",
    "**c)** We cannot have statistical evidence for the population mean being greater than 50 because the sample mean is 45 which is less than 50.  \n",
    "**d)** We cannot be conclusive when determining the null hypothesis. Instead, we can reject the null hypothesis."
   ]
  },
  {
   "cell_type": "markdown",
   "metadata": {},
   "source": [
    "### 6.58 Computing the P-value.  "
   ]
  },
  {
   "cell_type": "code",
   "execution_count": 198,
   "metadata": {},
   "outputs": [
    {
     "name": "stdout",
     "output_type": "stream",
     "text": [
      "P(X > 1.77) = 0.0384\n",
      "P(X > 1.77) = 0.9616\n",
      "P(X > |1.77|) = 0.0767"
     ]
    }
   ],
   "source": [
    "# Ha:μ > μ0\n",
    "\n",
    "Z = 1.77\n",
    "pMoreThanZ = pnorm(Z, lower.tail = FALSE)\n",
    "cat(sprintf('P(X > %s) = %s', Z, round(pMoreThanZ, 4)))\n",
    "\n",
    "# Ha:μ < μ0\n",
    "\n",
    "pLessThanZ = pnorm(Z, lower.tail = TRUE)\n",
    "cat('\\n')\n",
    "cat(sprintf('P(X > %s) = %s', Z, round(pLessThanZ, 4)))\n",
    "\n",
    "# Ha:μ != μ0\n",
    "\n",
    "pNotEqualZ = 2 * pnorm(Z, lower.tail = FALSE)\n",
    "cat('\\n')\n",
    "cat(sprintf('P(X > |%s|) = %s', Z, round(pNotEqualZ, 4)))"
   ]
  },
  {
   "cell_type": "markdown",
   "metadata": {},
   "source": [
    "### 6.129 Blood phosphorus level in dialysis patients.  \n",
    "**a)**"
   ]
  },
  {
   "cell_type": "code",
   "execution_count": 227,
   "metadata": {},
   "outputs": [
    {
     "name": "stdout",
     "output_type": "stream",
     "text": [
      "The confidence interval is between 4.613 and 6.053"
     ]
    }
   ],
   "source": [
    "blood = c(5.4, 5.2, 4.5, 4.9, 5.7, 6.3)\n",
    "n = length(blood)\n",
    "mean = mean(blood)\n",
    "pop_sd = 0.9\n",
    "Z = 1.96 # For 95% Confidence\n",
    "\n",
    "low = mean - Z*(pop_sd/sqrt(n))\n",
    "high = mean + Z*(pop_sd/sqrt(n))\n",
    "\n",
    "cat(sprintf('The confidence interval is between %s and %s', round(low, 3), round(high, 3)))"
   ]
  },
  {
   "cell_type": "markdown",
   "metadata": {},
   "source": [
    "**b)** Based on the probability calcualted below (~0.073), we can conclude that there isn't enough evidence that the eman exceeds 4.8."
   ]
  },
  {
   "cell_type": "code",
   "execution_count": 235,
   "metadata": {},
   "outputs": [
    {
     "name": "stdout",
     "output_type": "stream",
     "text": [
      "H0: The mean equals 4.8\n",
      "Ha: The mean is greater than 4.8\n",
      "P(X > 4.8) = 0.07331"
     ]
    }
   ],
   "source": [
    "pop_mean = 4.8\n",
    "df = n - 1\n",
    "\n",
    "cat('H0: The mean equals', pop_mean)\n",
    "cat('\\n')\n",
    "cat('Ha: The mean is greater than', pop_mean)\n",
    "\n",
    "# t-statistic = (xbar-mu)/(pop_sd/sqrt(n)))\n",
    "\n",
    "t = (mean-pop_mean)/(pop_sd/sqrt(n))\n",
    "p = pnorm(-abs(t))\n",
    "\n",
    "cat('\\n')\n",
    "cat('P(X > 4.8) =', round(p, 5))"
   ]
  },
  {
   "cell_type": "markdown",
   "metadata": {},
   "source": [
    "### 7.17 Finding the critical value t*  \n",
    "**a)**"
   ]
  },
  {
   "cell_type": "code",
   "execution_count": 59,
   "metadata": {},
   "outputs": [
    {
     "name": "stdout",
     "output_type": "stream",
     "text": [
      "t* = 2.201"
     ]
    }
   ],
   "source": [
    "n = 12\n",
    "df = n - 1\n",
    "alpha = 0.05 #For 95% confidence interval\n",
    "\n",
    "t_crit = abs(qt(alpha/2, df)) # t* for the required confidence interval 95%.\n",
    "cat('t* =', round(t_crit, 4))"
   ]
  },
  {
   "cell_type": "markdown",
   "metadata": {},
   "source": [
    "**b)**"
   ]
  },
  {
   "cell_type": "code",
   "execution_count": 61,
   "metadata": {},
   "outputs": [
    {
     "name": "stdout",
     "output_type": "stream",
     "text": [
      "t* = 2.086"
     ]
    }
   ],
   "source": [
    "n = 21\n",
    "df = n - 1\n",
    "alpha = 0.05 #For 95% confidence interval\n",
    "\n",
    "t_crit = abs(qt(alpha/2, df)) # t* for the required confidence interval 95%.\n",
    "cat('t* =', round(t_crit, 4))"
   ]
  },
  {
   "cell_type": "markdown",
   "metadata": {},
   "source": [
    "**c)**"
   ]
  },
  {
   "cell_type": "code",
   "execution_count": 64,
   "metadata": {},
   "outputs": [
    {
     "name": "stdout",
     "output_type": "stream",
     "text": [
      "t* = 1.7247"
     ]
    }
   ],
   "source": [
    "n = 21\n",
    "df = n - 1\n",
    "alpha = 0.1 #For 90% confidence interval\n",
    "\n",
    "t_crit = abs(qt(alpha/2, df)) # t* for the required confidence interval 90%.\n",
    "cat('t* =', round(t_crit, 4))"
   ]
  },
  {
   "cell_type": "markdown",
   "metadata": {},
   "source": [
    "**d)**  The critival value t star, according to the examples above, decreases with increasing sample size for the same confidence interval. This is probably because as sample size increases, the sample gets closer to the population size and therefore the margin of error decreases. t* also decreases with decreasing confidence for the same sample size as shown between b) and c). This is because a larger confidence imples a larger toleration for the margin of error."
   ]
  },
  {
   "cell_type": "markdown",
   "metadata": {},
   "source": [
    "### 7.18 Distribution of the t statistic."
   ]
  },
  {
   "cell_type": "code",
   "execution_count": 109,
   "metadata": {},
   "outputs": [
    {
     "name": "stdout",
     "output_type": "stream",
     "text": [
      "t* = 2.131"
     ]
    },
    {
     "data": {
      "image/png": "[encoded data removed]",
      "text/plain": [
       "Plot with title \"Distribution Plot\""
      ]
     },
     "metadata": {},
     "output_type": "display_data"
    }
   ],
   "source": [
    "n = 16\n",
    "df = n - 1\n",
    "alpha = 0.05 \n",
    "\n",
    "t_crit = round(abs(qt(alpha/2, df)), 3) \n",
    "cat('t* =', t_crit)\n",
    "\n",
    "\n",
    "xlim=4\n",
    "x=seq(-xlim,xlim,length=200)\n",
    "y=dnorm(x,mean=0,sd=1)\n",
    "plot(x,y,type=\"l\", main=\"Distribution Plot\", ylab='Density')\n",
    "\n",
    "\n",
    "x=seq(t_crit,xlim,length=200)\n",
    "y=dnorm(x,mean=0,sd=1)\n",
    "polygon(c(t_crit,x,xlim),c(0,y,0),col=\"gray\")\n",
    "\n",
    "\n",
    "x=seq(-xlim,-t_crit,length=200)\n",
    "y=dnorm(x,mean=0,sd=1)\n",
    "polygon(c(-xlim,x,-t_crit),c(0,y,0),col=\"gray\")\n",
    "\n",
    "text(t_crit, 0, labels=t_crit, cex= 0.9, pos=2)\n",
    "text(-t_crit, 0, labels=-t_crit, cex= 0.9, pos=4)\n",
    "text(3, 0.5, labels=-t_crit, cex= 0.9, pos=4)"
   ]
  }
 ],
 "metadata": {
  "kernelspec": {
   "display_name": "R",
   "language": "R",
   "name": "ir"
  },
  "language_info": {
   "codemirror_mode": "r",
   "file_extension": ".r",
   "mimetype": "text/x-r-source",
   "name": "R",
   "pygments_lexer": "r",
   "version": "3.5.1"
  }
 },
 "nbformat": 4,
 "nbformat_minor": 2
}

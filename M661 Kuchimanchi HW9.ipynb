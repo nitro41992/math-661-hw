{
 "cells": [
  {
   "cell_type": "markdown",
   "metadata": {},
   "source": [
    "### 8.12 How did you use your cell phone?  \n",
    "**a)** The sample size is 1003 and the count is 462.  \n",
    "\n",
    "**b)**"
   ]
  },
  {
   "cell_type": "code",
   "execution_count": 12,
   "metadata": {},
   "outputs": [
    {
     "name": "stdout",
     "output_type": "stream",
     "text": [
      "Sample Proportion: 0.4606"
     ]
    }
   ],
   "source": [
    "# Sample Proportion = count/sample size\n",
    "n = 1003\n",
    "x = 462\n",
    "sp = x/n\n",
    "cat('Sample Proportion:', round(sp, 4))"
   ]
  },
  {
   "cell_type": "markdown",
   "metadata": {},
   "source": [
    "**c)** The sample proportion is equal to the population proportion plus any random error that exists."
   ]
  },
  {
   "cell_type": "markdown",
   "metadata": {},
   "source": [
    "### 8.15 How did you use your cell phone?  \n",
    "**a)**"
   ]
  },
  {
   "cell_type": "code",
   "execution_count": 13,
   "metadata": {},
   "outputs": [
    {
     "name": "stdout",
     "output_type": "stream",
     "text": [
      "Sample Proportion: 0.4606\n",
      "Standard Error: 0.0157\n",
      "Margin of Error: 0.0308"
     ]
    }
   ],
   "source": [
    "# Standard Error = sqrt((sample proportion(1 - sample proportion)) / n)\n",
    "se = sqrt((sp * (1 - sp)) / n)\n",
    "\n",
    "# Margin of error = z * sqrt((sample proportion(1 - sample proportion)) / n)\n",
    "z = 1.96 # Z score for 95% confidence interval\n",
    "moe = z * se\n",
    "\n",
    "\n",
    "cat('Sample Proportion:', round(sp, 4))\n",
    "cat('\\n')\n",
    "cat('Standard Error:', round(se, 4))\n",
    "cat('\\n')\n",
    "cat('Margin of Error:', round(moe, 4))"
   ]
  },
  {
   "cell_type": "markdown",
   "metadata": {},
   "source": [
    "**b)**  Yes, the conditions are satisfied. The sample is random as stated in 5.12 and there are more than 10 successes and 10 failures.  \n",
    "**c)**"
   ]
  },
  {
   "cell_type": "code",
   "execution_count": 19,
   "metadata": {},
   "outputs": [
    {
     "name": "stdout",
     "output_type": "stream",
     "text": [
      "The Large Size Confidence Interval of 95% is between 0.4298 and 0.4915"
     ]
    }
   ],
   "source": [
    "# Large Size Confidence Interval = sample proportion ± margin of error\n",
    "\n",
    "LSCI_low = round(sp - moe, 4)\n",
    "LSCI_high = round(sp + moe, 4)\n",
    "\n",
    "cat(sprintf('The Large Size Confidence Interval of 95%% is between %s and %s', LSCI_low, LSCI_high))"
   ]
  },
  {
   "cell_type": "markdown",
   "metadata": {},
   "source": [
    "**d)**  Because the Large Size Confidence Interval conditions are met, we can say with 95% confidence that the percent of people who called a friend or family from inside the store is approximately between 43% and 49%"
   ]
  },
  {
   "cell_type": "markdown",
   "metadata": {},
   "source": [
    "### 8.60 Exergaming in Canada.  \n",
    "**a)**\n",
    "* Population 1: All the students that are stressed about their health\n",
    "* Population 2: All the students are not stressed about their health  \n",
    "\n",
    "**b)**"
   ]
  },
  {
   "cell_type": "code",
   "execution_count": 31,
   "metadata": {},
   "outputs": [
    {
     "name": "stdout",
     "output_type": "stream",
     "text": [
      "The counts of students who are stressed, as opposed to not stressed are 358 and 851 respectively\n",
      "\n",
      "The proportions of students who are stressed, as opposed to not stressed are 0.299 and 0.208 respectively\n",
      "\n",
      "The sample populations of students who are stressed, as opposed to not stressed are 107 and 177 respectively\n",
      "\n"
     ]
    }
   ],
   "source": [
    "pop1 = 358\n",
    "pop2 = 851\n",
    "\n",
    "p1 =  29.9 / 100\n",
    "p2 =  20.8 / 100\n",
    "\n",
    "sp1 = round(p1 * pop1)\n",
    "sp2 = round(p2 * pop2)\n",
    "\n",
    "\n",
    "cat(sprintf('The counts of students who are stressed, as opposed to not stressed are %s and %s respectively'\n",
    "            , pop1, pop2))\n",
    "cat('\\n\\n')\n",
    "cat(sprintf('The proportions of students who are stressed, as opposed to not stressed are %s and %s respectively'\n",
    "            , p1, p2))\n",
    "cat('\\n\\n')\n",
    "cat(sprintf('The sample populations of students who are stressed, as opposed to not stressed are %s and %s respectively'\n",
    "            , sp1, sp2))\n",
    "cat('\\n\\n')\n"
   ]
  },
  {
   "cell_type": "markdown",
   "metadata": {},
   "source": [
    "**c)** Because both np and n(1-p) for both sample populations is greater than 10 and because both samples are random, the conditions for Large Size Confidence Interval are satisfied."
   ]
  },
  {
   "cell_type": "code",
   "execution_count": 40,
   "metadata": {},
   "outputs": [
    {
     "name": "stdout",
     "output_type": "stream",
     "text": [
      "For stressed out students: np = 31.993 >=10 and n(1-p) = 75.007 >= 10\n",
      "For non-stressed out students: np = 36.816 >=10 and n(1-p) = 140.184 >= 10"
     ]
    }
   ],
   "source": [
    "c1sp1 = sp1*p1\n",
    "c2sp1 = sp1*(1-p1)\n",
    "\n",
    "c1sp2 = sp2*p2\n",
    "c2sp2 = sp2*(1-p2)\n",
    "\n",
    "\n",
    "cat(sprintf('For stressed out students: np = %s >=10 and n(1-p) = %s >= 10', c1sp1, c2sp1))\n",
    "cat('\\n')\n",
    "cat(sprintf('For non-stressed out students: np = %s >=10 and n(1-p) = %s >= 10', c1sp2, c2sp2))"
   ]
  },
  {
   "cell_type": "markdown",
   "metadata": {},
   "source": [
    "**d)** Because both np and n(1-p) for both sample populations is greater than 10, The population is at least 10 times as large as either of the samples, and because both samples are random the conditions for a large-sample significance test is satisfied."
   ]
  },
  {
   "cell_type": "markdown",
   "metadata": {},
   "source": [
    "### 9.52 Goodness of fit to the uniform distribution.  \n",
    "**a)** Since the probabilities are stated to all be the same, we can divide one by the number of possible outcomes, therefore, the probability is 1/5 or 0.2. \n",
    "\n",
    "**b)** \n",
    "* H0: The data is uniformly distributed\n",
    "* Ha: The data is not uniformly distributed        "
   ]
  },
  {
   "cell_type": "code",
   "execution_count": 89,
   "metadata": {},
   "outputs": [
    {
     "name": "stdout",
     "output_type": "stream",
     "text": [
      "chi-squared: 5.5\n",
      "p-value: 0.2397\n",
      "Since the chi-squared (5.5) is less than the critical value (9.488), we fail to reject the null hypothesis."
     ]
    }
   ],
   "source": [
    "probability = 0.2\n",
    "total = 500\n",
    "n = 5\n",
    "df = n - 1\n",
    "observed = c(114, 92, 108, 101, 85);\n",
    "\n",
    "# Expected = total * probability\n",
    "expected = total * probability\n",
    "\n",
    "# X^2 = ((observed - expected)^2) / expected\n",
    "chi_squared = c();\n",
    "for (i in 1:5) {\n",
    "    chi_squared = c(chi_squared, ((observed[i] - expected)^2) / expected)\n",
    "}\n",
    "\n",
    "chi_squared = sum(chi_squared)\n",
    "p_chi = pchisq(chi_squared, df=df, lower.tail=FALSE)\n",
    "\n",
    "critical_t = round(qchisq(0.05, df, lower.tail=FALSE), 3)\n",
    "\n",
    "cat('chi-squared:', round(chi_squared, 2))\n",
    "cat('\\n')\n",
    "cat('p-value:', round(p_chi, 4))\n",
    "cat('\\n')\n",
    "cat(sprintf('Since the chi-squared (%s) is less than the critical value (%s), we fail to reject the null hypothesis.'\n",
    "   , chi_squared, critical_t))"
   ]
  },
  {
   "cell_type": "markdown",
   "metadata": {},
   "source": [
    "### 9.55 Is there a random distribution of trees?  \n",
    "**a)** If there is an equal distribution then the probability of the count of trees in a quadrant is 100 (total amount of trees) divided by the number of quadrants (4), which equals 25.  \n",
    "**b)** Because correlation does not equal causation and because of randomness, we do not expect the exact number assumed by an idealized probability.  \n",
    "**c)**  \n",
    "* H0: The data is uniformly distributed\n",
    "* Ha: The data is not uniformly distributed "
   ]
  },
  {
   "cell_type": "code",
   "execution_count": 93,
   "metadata": {},
   "outputs": [
    {
     "name": "stdout",
     "output_type": "stream",
     "text": [
      "chi-squared: 10.8\n",
      "p-value: 0.0129\n",
      "Since the chi-squared (10.8) is greater than the critical value (7.815), we can reject the null hypothesis."
     ]
    }
   ],
   "source": [
    "probability = 0.25\n",
    "total = 100\n",
    "n = 4\n",
    "df = n - 1\n",
    "observed = c(18, 22, 39, 21);\n",
    "\n",
    "# Expected = total * probability\n",
    "expected = total * probability\n",
    "\n",
    "# X^2 = ((observed - expected)^2) / expected\n",
    "chi_squared = c();\n",
    "for (i in 1:4) {\n",
    "    chi_squared = c(chi_squared, ((observed[i] - expected)^2) / expected)\n",
    "}\n",
    "\n",
    "chi_squared = sum(chi_squared)\n",
    "p_chi = pchisq(chi_squared, df=df, lower.tail=FALSE)\n",
    "\n",
    "critical_t = round(qchisq(0.05, df, lower.tail=FALSE), 3)\n",
    "\n",
    "cat('chi-squared:', round(chi_squared, 2))\n",
    "cat('\\n')\n",
    "cat('p-value:', round(p_chi, 4))\n",
    "cat('\\n')\n",
    "cat(sprintf('Since the chi-squared (%s) is greater than the critical value (%s), we can reject the null hypothesis.'\n",
    "   , chi_squared, critical_t))"
   ]
  }
 ],
 "metadata": {
  "kernelspec": {
   "display_name": "R",
   "language": "R",
   "name": "ir"
  },
  "language_info": {
   "codemirror_mode": "r",
   "file_extension": ".r",
   "mimetype": "text/x-r-source",
   "name": "R",
   "pygments_lexer": "r",
   "version": "3.6.0"
  }
 },
 "nbformat": 4,
 "nbformat_minor": 2
}

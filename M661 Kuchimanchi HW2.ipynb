{
 "cells": [
  {
   "cell_type": "markdown",
   "metadata": {},
   "source": [
    "### 1.61 Gosset's data on double stout sales\n",
    "**a)**"
   ]
  },
  {
   "cell_type": "code",
   "execution_count": 9,
   "metadata": {},
   "outputs": [
    {
     "name": "stdout",
     "output_type": "stream",
     "text": [
      "Mean:"
     ]
    },
    {
     "data": {
      "text/html": [
       "122.92"
      ],
      "text/latex": [
       "122.92"
      ],
      "text/markdown": [
       "122.92"
      ],
      "text/plain": [
       "[1] 122.92"
      ]
     },
     "metadata": {},
     "output_type": "display_data"
    }
   ],
   "source": [
    "ratios = c(94, 112, 78, 68, 46, 111, 66, 140, 428, 190, 118, 24)\n",
    "cat('Mean:')\n",
    "round(mean(ratios),2)"
   ]
  },
  {
   "cell_type": "markdown",
   "metadata": {},
   "source": [
    "**b)**"
   ]
  },
  {
   "cell_type": "code",
   "execution_count": 10,
   "metadata": {},
   "outputs": [
    {
     "name": "stdout",
     "output_type": "stream",
     "text": [
      "Median:"
     ]
    },
    {
     "data": {
      "text/html": [
       "102.5"
      ],
      "text/latex": [
       "102.5"
      ],
      "text/markdown": [
       "102.5"
      ],
      "text/plain": [
       "[1] 102.5"
      ]
     },
     "metadata": {},
     "output_type": "display_data"
    }
   ],
   "source": [
    "cat('Median:')\n",
    "median(ratios)"
   ]
  },
  {
   "cell_type": "markdown",
   "metadata": {},
   "source": [
    "**c)**"
   ]
  },
  {
   "cell_type": "code",
   "execution_count": 12,
   "metadata": {},
   "outputs": [
    {
     "data": {
      "image/png": "[encoded data removed]",
      "text/plain": [
       "Plot with title \"Histogram of ratios\""
      ]
     },
     "metadata": {},
     "output_type": "display_data"
    }
   ],
   "source": [
    "hist(ratios)"
   ]
  },
  {
   "cell_type": "markdown",
   "metadata": {},
   "source": [
    "The median is preferable when outliers are present because the median is not influenced by outliers. London in this case is an outlier based on the histogram above and therefore the median is preferable because its more representative of the center."
   ]
  },
  {
   "cell_type": "markdown",
   "metadata": {},
   "source": [
    "### 1.62 Measures of spread for the double stout data.  \n",
    "**a)**"
   ]
  },
  {
   "cell_type": "code",
   "execution_count": 13,
   "metadata": {},
   "outputs": [
    {
     "name": "stdout",
     "output_type": "stream",
     "text": [
      "Standard Deviation:"
     ]
    },
    {
     "data": {
      "text/html": [
       "105.73"
      ],
      "text/latex": [
       "105.73"
      ],
      "text/markdown": [
       "105.73"
      ],
      "text/plain": [
       "[1] 105.73"
      ]
     },
     "metadata": {},
     "output_type": "display_data"
    }
   ],
   "source": [
    "ratios = c(94, 112, 78, 68, 46, 111, 66, 140, 428, 190, 118, 24)\n",
    "cat('Standard Deviation:')\n",
    "round(sd(ratios),2)"
   ]
  },
  {
   "cell_type": "markdown",
   "metadata": {},
   "source": [
    "**b)**"
   ]
  },
  {
   "cell_type": "code",
   "execution_count": 16,
   "metadata": {},
   "outputs": [
    {
     "data": {
      "text/html": [
       "<dl class=dl-horizontal>\n",
       "\t<dt>0%</dt>\n",
       "\t\t<dd>24</dd>\n",
       "\t<dt>25%</dt>\n",
       "\t\t<dd>67.5</dd>\n",
       "\t<dt>50%</dt>\n",
       "\t\t<dd>102.5</dd>\n",
       "\t<dt>75%</dt>\n",
       "\t\t<dd>123.5</dd>\n",
       "\t<dt>100%</dt>\n",
       "\t\t<dd>428</dd>\n",
       "</dl>\n"
      ],
      "text/latex": [
       "\\begin{description*}\n",
       "\\item[0\\textbackslash{}\\%] 24\n",
       "\\item[25\\textbackslash{}\\%] 67.5\n",
       "\\item[50\\textbackslash{}\\%] 102.5\n",
       "\\item[75\\textbackslash{}\\%] 123.5\n",
       "\\item[100\\textbackslash{}\\%] 428\n",
       "\\end{description*}\n"
      ],
      "text/markdown": [
       "0%\n",
       ":   2425%\n",
       ":   67.550%\n",
       ":   102.575%\n",
       ":   123.5100%\n",
       ":   428\n",
       "\n"
      ],
      "text/plain": [
       "   0%   25%   50%   75%  100% \n",
       " 24.0  67.5 102.5 123.5 428.0 "
      ]
     },
     "metadata": {},
     "output_type": "display_data"
    }
   ],
   "source": [
    "quantile(ratios)"
   ]
  },
  {
   "cell_type": "markdown",
   "metadata": {},
   "source": [
    "**c)**  \n",
    "The quartiles, like the median, is not influenced by outliers and therefore are better representation of the spread than the standard deviation which is influenced byt the outliers."
   ]
  },
  {
   "cell_type": "markdown",
   "metadata": {},
   "source": [
    "### 1.63 Are there outliers in the double stout data?  \n",
    "**a)**"
   ]
  },
  {
   "cell_type": "code",
   "execution_count": 25,
   "metadata": {},
   "outputs": [
    {
     "name": "stdout",
     "output_type": "stream",
     "text": [
      "IQR:"
     ]
    },
    {
     "data": {
      "text/html": [
       "56"
      ],
      "text/latex": [
       "56"
      ],
      "text/markdown": [
       "56"
      ],
      "text/plain": [
       "[1] 56"
      ]
     },
     "metadata": {},
     "output_type": "display_data"
    }
   ],
   "source": [
    "cat('IQR:')\n",
    "iqr = IQR(ratios)\n",
    "iqr"
   ]
  },
  {
   "cell_type": "markdown",
   "metadata": {},
   "source": [
    "**b)**"
   ]
  },
  {
   "cell_type": "code",
   "execution_count": 77,
   "metadata": {},
   "outputs": [
    {
     "name": "stdout",
     "output_type": "stream",
     "text": [
      "Lower quartile:"
     ]
    },
    {
     "data": {
      "text/html": [
       "<strong>25%:</strong> 67.5"
      ],
      "text/latex": [
       "\\textbf{25\\textbackslash{}\\%:} 67.5"
      ],
      "text/markdown": [
       "**25%:** 67.5"
      ],
      "text/plain": [
       " 25% \n",
       "67.5 "
      ]
     },
     "metadata": {},
     "output_type": "display_data"
    },
    {
     "name": "stdout",
     "output_type": "stream",
     "text": [
      "Upper quartile:"
     ]
    },
    {
     "data": {
      "text/html": [
       "<strong>75%:</strong> 123.5"
      ],
      "text/latex": [
       "\\textbf{75\\textbackslash{}\\%:} 123.5"
      ],
      "text/markdown": [
       "**75%:** 123.5"
      ],
      "text/plain": [
       "  75% \n",
       "123.5 "
      ]
     },
     "metadata": {},
     "output_type": "display_data"
    },
    {
     "name": "stdout",
     "output_type": "stream",
     "text": [
      "Lower threshold:"
     ]
    },
    {
     "data": {
      "text/html": [
       "<strong>25%:</strong> -16.5"
      ],
      "text/latex": [
       "\\textbf{25\\textbackslash{}\\%:} -16.5"
      ],
      "text/markdown": [
       "**25%:** -16.5"
      ],
      "text/plain": [
       "  25% \n",
       "-16.5 "
      ]
     },
     "metadata": {},
     "output_type": "display_data"
    },
    {
     "name": "stdout",
     "output_type": "stream",
     "text": [
      "Upper threshold:"
     ]
    },
    {
     "data": {
      "text/html": [
       "<strong>75%:</strong> 207.5"
      ],
      "text/latex": [
       "\\textbf{75\\textbackslash{}\\%:} 207.5"
      ],
      "text/markdown": [
       "**75%:** 207.5"
      ],
      "text/plain": [
       "  75% \n",
       "207.5 "
      ]
     },
     "metadata": {},
     "output_type": "display_data"
    },
    {
     "name": "stdout",
     "output_type": "stream",
     "text": [
      "Outliers:"
     ]
    },
    {
     "data": {
      "text/html": [
       "428"
      ],
      "text/latex": [
       "428"
      ],
      "text/markdown": [
       "428"
      ],
      "text/plain": [
       "[1] 428"
      ]
     },
     "metadata": {},
     "output_type": "display_data"
    }
   ],
   "source": [
    "lowerq = quantile(ratios)[2]\n",
    "upperq = quantile(ratios)[4]\n",
    "\n",
    "cat('Lower quartile:')\n",
    "lowerq\n",
    "\n",
    "cat('Upper quartile:')\n",
    "upperq\n",
    "\n",
    "mild.threshold.upper = (iqr * 1.5) + upperq\n",
    "mild.threshold.lower = lowerq - (iqr * 1.5)\n",
    "\n",
    "cat('Lower threshold:')\n",
    "mild.threshold.lower\n",
    "\n",
    "cat('Upper threshold:')\n",
    "mild.threshold.upper\n",
    "\n",
    "outliers = c();\n",
    "for (ratio in ratios) {\n",
    "    if (ratio <= mild.threshold.lower | ratio >= mild.threshold.upper) {\n",
    "        outliers = append(outliers, ratio)\n",
    "    }\n",
    "}\n",
    "cat('Outliers:')\n",
    "outliers"
   ]
  },
  {
   "cell_type": "markdown",
   "metadata": {},
   "source": [
    "**c)**"
   ]
  },
  {
   "cell_type": "code",
   "execution_count": 76,
   "metadata": {},
   "outputs": [
    {
     "data": {
      "image/png": "[encoded data removed]",
      "text/plain": [
       "plot without title"
      ]
     },
     "metadata": {},
     "output_type": "display_data"
    }
   ],
   "source": [
    "boxplot(ratios, horizontal=TRUE, outline=FALSE)"
   ]
  },
  {
   "cell_type": "markdown",
   "metadata": {},
   "source": [
    "The lowest observation is approximately 20 where as the highest observation is around 180. The median is about 100. The lower quartile is around 60 and the upper quartile is around 130. The IQR is therefore approximately 70 according to the box plot."
   ]
  },
  {
   "cell_type": "markdown",
   "metadata": {},
   "source": [
    "**d)**"
   ]
  },
  {
   "cell_type": "code",
   "execution_count": 78,
   "metadata": {},
   "outputs": [
    {
     "data": {
      "image/png": "[encoded data removed]",
      "text/plain": [
       "plot without title"
      ]
     },
     "metadata": {},
     "output_type": "display_data"
    }
   ],
   "source": [
    "boxplot(ratios, horizontal=TRUE, outline=TRUE)"
   ]
  },
  {
   "cell_type": "markdown",
   "metadata": {},
   "source": [
    "The box plot itself is largely the same as the standard box plot, but the modified box plot includes the outlier of 428."
   ]
  },
  {
   "cell_type": "code",
   "execution_count": 80,
   "metadata": {},
   "outputs": [
    {
     "name": "stdout",
     "output_type": "stream",
     "text": [
      "\n",
      "  The decimal point is 2 digit(s) to the right of the |\n",
      "\n",
      "  0 | 257789\n",
      "  1 | 11249\n",
      "  2 | \n",
      "  3 | \n",
      "  4 | 3\n",
      "\n"
     ]
    }
   ],
   "source": [
    "stem(ratios)"
   ]
  },
  {
   "cell_type": "markdown",
   "metadata": {},
   "source": [
    "The modified box plot is advantageous because it shows outliers along with the distribution of data although the distribution is not as clear as the regular box plot where the outlier is removed. The stem and leaf plot also clearly displays the outlier as well as the general distribution of data but its not as easy to visualize as the box plot."
   ]
  },
  {
   "cell_type": "markdown",
   "metadata": {},
   "source": [
    "### 1.69 Remove the outliers for alcohol content of beer.  \n",
    "**a)**"
   ]
  },
  {
   "cell_type": "code",
   "execution_count": 138,
   "metadata": {},
   "outputs": [
    {
     "name": "stdout",
     "output_type": "stream",
     "text": [
      "Outliers:"
     ]
    },
    {
     "data": {
      "text/html": [
       "<ol class=list-inline>\n",
       "\t<li>2.4</li>\n",
       "\t<li>7.8</li>\n",
       "\t<li>11.5</li>\n",
       "\t<li>9.2</li>\n",
       "\t<li>10.2</li>\n",
       "\t<li>8.3</li>\n",
       "\t<li>8.3</li>\n",
       "\t<li>9.9</li>\n",
       "\t<li>7.8</li>\n",
       "\t<li>0.4</li>\n",
       "\t<li>7.5</li>\n",
       "\t<li>8</li>\n",
       "\t<li>2.5</li>\n",
       "\t<li>9.6</li>\n",
       "\t<li>8.1</li>\n",
       "\t<li>8.1</li>\n",
       "</ol>\n"
      ],
      "text/latex": [
       "\\begin{enumerate*}\n",
       "\\item 2.4\n",
       "\\item 7.8\n",
       "\\item 11.5\n",
       "\\item 9.2\n",
       "\\item 10.2\n",
       "\\item 8.3\n",
       "\\item 8.3\n",
       "\\item 9.9\n",
       "\\item 7.8\n",
       "\\item 0.4\n",
       "\\item 7.5\n",
       "\\item 8\n",
       "\\item 2.5\n",
       "\\item 9.6\n",
       "\\item 8.1\n",
       "\\item 8.1\n",
       "\\end{enumerate*}\n"
      ],
      "text/markdown": [
       "1. 2.4\n",
       "2. 7.8\n",
       "3. 11.5\n",
       "4. 9.2\n",
       "5. 10.2\n",
       "6. 8.3\n",
       "7. 8.3\n",
       "8. 9.9\n",
       "9. 7.8\n",
       "10. 0.4\n",
       "11. 7.5\n",
       "12. 8\n",
       "13. 2.5\n",
       "14. 9.6\n",
       "15. 8.1\n",
       "16. 8.1\n",
       "\n",
       "\n"
      ],
      "text/plain": [
       " [1]  2.4  7.8 11.5  9.2 10.2  8.3  8.3  9.9  7.8  0.4  7.5  8.0  2.5  9.6  8.1\n",
       "[16]  8.1"
      ]
     },
     "metadata": {},
     "output_type": "display_data"
    },
    {
     "name": "stdout",
     "output_type": "stream",
     "text": [
      "Mean without outliers:"
     ]
    },
    {
     "data": {
      "text/html": [
       "5.01"
      ],
      "text/latex": [
       "5.01"
      ],
      "text/markdown": [
       "5.01"
      ],
      "text/plain": [
       "[1] 5.01"
      ]
     },
     "metadata": {},
     "output_type": "display_data"
    },
    {
     "name": "stdout",
     "output_type": "stream",
     "text": [
      "Mean with outliers:"
     ]
    },
    {
     "data": {
      "text/html": [
       "5.24"
      ],
      "text/latex": [
       "5.24"
      ],
      "text/markdown": [
       "5.24"
      ],
      "text/plain": [
       "[1] 5.24"
      ]
     },
     "metadata": {},
     "output_type": "display_data"
    }
   ],
   "source": [
    "beer.data <- read.csv(\"beerInfo.csv\", header=TRUE, fileEncoding=\"UTF-8-BOM\", sep=\",\")\n",
    "percents = beer.data$percent\n",
    "\n",
    "lowerq = quantile(percents)[2]\n",
    "upperq = quantile(percents)[4]\n",
    "\n",
    "iqr = IQR(percents)\n",
    "\n",
    "mild.threshold.upper = (iqr * 1.5) + upperq\n",
    "mild.threshold.lower = lowerq - (iqr * 1.5)\n",
    "\n",
    "percentOutliers = c();\n",
    "for (percent in percents) {\n",
    "    if (percent <= mild.threshold.lower | percent >= mild.threshold.upper) {\n",
    "        percentOutliers = append(percentOutliers, percent)\n",
    "    }\n",
    "}\n",
    "\n",
    "percentsWithoutOutliers = percents[!(percents %in% percentOutliers)]\n",
    "\n",
    "cat('Outliers:')\n",
    "percentOutliers\n",
    "\n",
    "cat('Mean without outliers:')\n",
    "round(mean(percentsWithoutOutliers),2)\n",
    "\n",
    "cat('Mean with outliers:')\n",
    "round(mean(percents),2)\n"
   ]
  },
  {
   "cell_type": "markdown",
   "metadata": {},
   "source": [
    "The outlier influences the mean a lot and increases it toward the outlier value.  \n",
    "\n",
    "**b)**"
   ]
  },
  {
   "cell_type": "code",
   "execution_count": 109,
   "metadata": {},
   "outputs": [
    {
     "name": "stdout",
     "output_type": "stream",
     "text": [
      "Median without outliers:"
     ]
    },
    {
     "data": {
      "text/html": [
       "4.9"
      ],
      "text/latex": [
       "4.9"
      ],
      "text/markdown": [
       "4.9"
      ],
      "text/plain": [
       "[1] 4.9"
      ]
     },
     "metadata": {},
     "output_type": "display_data"
    },
    {
     "name": "stdout",
     "output_type": "stream",
     "text": [
      "Median with outliers:"
     ]
    },
    {
     "data": {
      "text/html": [
       "4.94"
      ],
      "text/latex": [
       "4.94"
      ],
      "text/markdown": [
       "4.94"
      ],
      "text/plain": [
       "[1] 4.94"
      ]
     },
     "metadata": {},
     "output_type": "display_data"
    }
   ],
   "source": [
    "cat('Median without outliers:')\n",
    "round(median(percentsWithoutOutliers),2)\n",
    "\n",
    "cat('Median with outliers:')\n",
    "round(median(percents),2)"
   ]
  },
  {
   "cell_type": "markdown",
   "metadata": {},
   "source": [
    "The median is not as influenced by the outlier nearly as much as the mean and is only varied slightly by the removal of the outlier from the original value."
   ]
  },
  {
   "cell_type": "markdown",
   "metadata": {},
   "source": [
    "**c)**\n",
    "The mean is much more influenced byt the outlier than the median. This is because the mean is an average of the values where as the median is calculated based on the ordered position of the values. Because an outlier is a large deviation of the value away from the center of the distribution, it has a much large influence on the mean than the median."
   ]
  },
  {
   "cell_type": "markdown",
   "metadata": {},
   "source": [
    "### 1.70 Calories in beer.  \n",
    "**a)**"
   ]
  },
  {
   "cell_type": "code",
   "execution_count": 139,
   "metadata": {},
   "outputs": [
    {
     "data": {
      "text/plain": [
       "   Min. 1st Qu.  Median    Mean 3rd Qu.    Max. \n",
       "   55.0   132.0   152.0   155.5   173.2   330.0 "
      ]
     },
     "metadata": {},
     "output_type": "display_data"
    },
    {
     "data": {
      "image/png": "[encoded data removed]",
      "text/plain": [
       "Plot with title \"density.default(x = calories)\""
      ]
     },
     "metadata": {},
     "output_type": "display_data"
    }
   ],
   "source": [
    "calories = beer.data$calories\n",
    "summary(calories)\n",
    "plot(density(calories))"
   ]
  },
  {
   "cell_type": "markdown",
   "metadata": {},
   "source": [
    "The distribution is slightly skewed to the right with a mean of 155.5, a median of 152.0 and an IQR of 41.25."
   ]
  },
  {
   "cell_type": "code",
   "execution_count": 140,
   "metadata": {},
   "outputs": [
    {
     "name": "stdout",
     "output_type": "stream",
     "text": [
      "Outliers:"
     ]
    },
    {
     "data": {
      "text/html": [
       "<ol class=list-inline>\n",
       "\t<li>55</li>\n",
       "\t<li>313</li>\n",
       "\t<li>271</li>\n",
       "\t<li>314</li>\n",
       "\t<li>238</li>\n",
       "\t<li>288</li>\n",
       "\t<li>64</li>\n",
       "\t<li>70</li>\n",
       "\t<li>67</li>\n",
       "\t<li>330</li>\n",
       "</ol>\n"
      ],
      "text/latex": [
       "\\begin{enumerate*}\n",
       "\\item 55\n",
       "\\item 313\n",
       "\\item 271\n",
       "\\item 314\n",
       "\\item 238\n",
       "\\item 288\n",
       "\\item 64\n",
       "\\item 70\n",
       "\\item 67\n",
       "\\item 330\n",
       "\\end{enumerate*}\n"
      ],
      "text/markdown": [
       "1. 55\n",
       "2. 313\n",
       "3. 271\n",
       "4. 314\n",
       "5. 238\n",
       "6. 288\n",
       "7. 64\n",
       "8. 70\n",
       "9. 67\n",
       "10. 330\n",
       "\n",
       "\n"
      ],
      "text/plain": [
       " [1]  55 313 271 314 238 288  64  70  67 330"
      ]
     },
     "metadata": {},
     "output_type": "display_data"
    }
   ],
   "source": [
    "lowerq = quantile(calories)[2]\n",
    "upperq = quantile(calories)[4]\n",
    "\n",
    "iqr = IQR(calories)\n",
    "\n",
    "mild.threshold.upper = (iqr * 1.5) + upperq\n",
    "mild.threshold.lower = lowerq - (iqr * 1.5)\n",
    "\n",
    "calorieOutliers = c();\n",
    "for (calorie in calories) {\n",
    "    if (calorie <= mild.threshold.lower | calorie >= mild.threshold.upper) {\n",
    "        calorieOutliers = append(calorieOutliers, calorie)\n",
    "    }\n",
    "}\n",
    "\n",
    "cat('Outliers:')\n",
    "calorieOutliers"
   ]
  },
  {
   "cell_type": "markdown",
   "metadata": {},
   "source": [
    "Most of the same brands that are outliers for alcohol percents are the same brands that are outliers for "
   ]
  },
  {
   "cell_type": "code",
   "execution_count": null,
   "metadata": {},
   "outputs": [],
   "source": []
  }
 ],
 "metadata": {
  "kernelspec": {
   "display_name": "R",
   "language": "R",
   "name": "ir"
  },
  "language_info": {
   "codemirror_mode": "r",
   "file_extension": ".r",
   "mimetype": "text/x-r-source",
   "name": "R",
   "pygments_lexer": "r",
   "version": "3.6.0"
  }
 },
 "nbformat": 4,
 "nbformat_minor": 2
}

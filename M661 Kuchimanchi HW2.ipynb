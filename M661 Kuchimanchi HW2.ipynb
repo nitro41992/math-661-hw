{
 "cells": [
  {
   "cell_type": "markdown",
   "metadata": {},
   "source": [
    "### 1.61 Gosset's data on double stout sales\n",
    "**a)**"
   ]
  },
  {
   "cell_type": "code",
   "execution_count": 9,
   "metadata": {},
   "outputs": [
    {
     "name": "stdout",
     "output_type": "stream",
     "text": [
      "Mean:"
     ]
    },
    {
     "data": {
      "text/html": [
       "122.92"
      ],
      "text/latex": [
       "122.92"
      ],
      "text/markdown": [
       "122.92"
      ],
      "text/plain": [
       "[1] 122.92"
      ]
     },
     "metadata": {},
     "output_type": "display_data"
    }
   ],
   "source": [
    "ratios = c(94, 112, 78, 68, 46, 111, 66, 140, 428, 190, 118, 24)\n",
    "cat('Mean:')\n",
    "round(mean(ratios),2)"
   ]
  },
  {
   "cell_type": "markdown",
   "metadata": {},
   "source": [
    "**b)**"
   ]
  },
  {
   "cell_type": "code",
   "execution_count": 10,
   "metadata": {},
   "outputs": [
    {
     "name": "stdout",
     "output_type": "stream",
     "text": [
      "Median:"
     ]
    },
    {
     "data": {
      "text/html": [
       "102.5"
      ],
      "text/latex": [
       "102.5"
      ],
      "text/markdown": [
       "102.5"
      ],
      "text/plain": [
       "[1] 102.5"
      ]
     },
     "metadata": {},
     "output_type": "display_data"
    }
   ],
   "source": [
    "cat('Median:')\n",
    "median(ratios)"
   ]
  },
  {
   "cell_type": "markdown",
   "metadata": {},
   "source": [
    "**c)**"
   ]
  },
  {
   "cell_type": "code",
   "execution_count": 12,
   "metadata": {},
   "outputs": [
    {
     "data": {
      "image/png": "[encoded data removed]",
      "text/plain": [
       "Plot with title \"Histogram of ratios\""
      ]
     },
     "metadata": {},
     "output_type": "display_data"
    }
   ],
   "source": [
    "hist(ratios)"
   ]
  },
  {
   "cell_type": "markdown",
   "metadata": {},
   "source": [
    "The median is preferable when outliers are present because the median is not influenced by outliers. London in this case is an outlier based on the histogram above and therefore the median is preferable because its more representative of the center."
   ]
  },
  {
   "cell_type": "markdown",
   "metadata": {},
   "source": [
    "### 1.62 Measures of spread for the double stout data.  \n",
    "**a)**"
   ]
  },
  {
   "cell_type": "code",
   "execution_count": 13,
   "metadata": {},
   "outputs": [
    {
     "name": "stdout",
     "output_type": "stream",
     "text": [
      "Standard Deviation:"
     ]
    },
    {
     "data": {
      "text/html": [
       "105.73"
      ],
      "text/latex": [
       "105.73"
      ],
      "text/markdown": [
       "105.73"
      ],
      "text/plain": [
       "[1] 105.73"
      ]
     },
     "metadata": {},
     "output_type": "display_data"
    }
   ],
   "source": [
    "ratios = c(94, 112, 78, 68, 46, 111, 66, 140, 428, 190, 118, 24)\n",
    "cat('Standard Deviation:')\n",
    "round(sd(ratios),2)"
   ]
  },
  {
   "cell_type": "markdown",
   "metadata": {},
   "source": [
    "**b)**"
   ]
  },
  {
   "cell_type": "code",
   "execution_count": 16,
   "metadata": {},
   "outputs": [
    {
     "data": {
      "text/html": [
       "<dl class=dl-horizontal>\n",
       "\t<dt>0%</dt>\n",
       "\t\t<dd>24</dd>\n",
       "\t<dt>25%</dt>\n",
       "\t\t<dd>67.5</dd>\n",
       "\t<dt>50%</dt>\n",
       "\t\t<dd>102.5</dd>\n",
       "\t<dt>75%</dt>\n",
       "\t\t<dd>123.5</dd>\n",
       "\t<dt>100%</dt>\n",
       "\t\t<dd>428</dd>\n",
       "</dl>\n"
      ],
      "text/latex": [
       "\\begin{description*}\n",
       "\\item[0\\textbackslash{}\\%] 24\n",
       "\\item[25\\textbackslash{}\\%] 67.5\n",
       "\\item[50\\textbackslash{}\\%] 102.5\n",
       "\\item[75\\textbackslash{}\\%] 123.5\n",
       "\\item[100\\textbackslash{}\\%] 428\n",
       "\\end{description*}\n"
      ],
      "text/markdown": [
       "0%\n",
       ":   2425%\n",
       ":   67.550%\n",
       ":   102.575%\n",
       ":   123.5100%\n",
       ":   428\n",
       "\n"
      ],
      "text/plain": [
       "   0%   25%   50%   75%  100% \n",
       " 24.0  67.5 102.5 123.5 428.0 "
      ]
     },
     "metadata": {},
     "output_type": "display_data"
    }
   ],
   "source": [
    "quantile(ratios)"
   ]
  },
  {
   "cell_type": "markdown",
   "metadata": {},
   "source": [
    "**c)**  \n",
    "The quartiles, like the median, is not influenced by outliers and therefore are better representation of the spread than the standard deviation which is influenced byt the outliers."
   ]
  },
  {
   "cell_type": "markdown",
   "metadata": {},
   "source": [
    "### 1.63 Are there outliers in the double stout data?  \n",
    "**a)**"
   ]
  },
  {
   "cell_type": "code",
   "execution_count": 25,
   "metadata": {},
   "outputs": [
    {
     "name": "stdout",
     "output_type": "stream",
     "text": [
      "IQR:"
     ]
    },
    {
     "data": {
      "text/html": [
       "56"
      ],
      "text/latex": [
       "56"
      ],
      "text/markdown": [
       "56"
      ],
      "text/plain": [
       "[1] 56"
      ]
     },
     "metadata": {},
     "output_type": "display_data"
    }
   ],
   "source": [
    "cat('IQR:')\n",
    "iqr = IQR(ratios)\n",
    "iqr"
   ]
  },
  {
   "cell_type": "markdown",
   "metadata": {},
   "source": [
    "**b)**"
   ]
  },
  {
   "cell_type": "code",
   "execution_count": 77,
   "metadata": {},
   "outputs": [
    {
     "name": "stdout",
     "output_type": "stream",
     "text": [
      "Lower quartile:"
     ]
    },
    {
     "data": {
      "text/html": [
       "<strong>25%:</strong> 67.5"
      ],
      "text/latex": [
       "\\textbf{25\\textbackslash{}\\%:} 67.5"
      ],
      "text/markdown": [
       "**25%:** 67.5"
      ],
      "text/plain": [
       " 25% \n",
       "67.5 "
      ]
     },
     "metadata": {},
     "output_type": "display_data"
    },
    {
     "name": "stdout",
     "output_type": "stream",
     "text": [
      "Upper quartile:"
     ]
    },
    {
     "data": {
      "text/html": [
       "<strong>75%:</strong> 123.5"
      ],
      "text/latex": [
       "\\textbf{75\\textbackslash{}\\%:} 123.5"
      ],
      "text/markdown": [
       "**75%:** 123.5"
      ],
      "text/plain": [
       "  75% \n",
       "123.5 "
      ]
     },
     "metadata": {},
     "output_type": "display_data"
    },
    {
     "name": "stdout",
     "output_type": "stream",
     "text": [
      "Lower threshold:"
     ]
    },
    {
     "data": {
      "text/html": [
       "<strong>25%:</strong> -16.5"
      ],
      "text/latex": [
       "\\textbf{25\\textbackslash{}\\%:} -16.5"
      ],
      "text/markdown": [
       "**25%:** -16.5"
      ],
      "text/plain": [
       "  25% \n",
       "-16.5 "
      ]
     },
     "metadata": {},
     "output_type": "display_data"
    },
    {
     "name": "stdout",
     "output_type": "stream",
     "text": [
      "Upper threshold:"
     ]
    },
    {
     "data": {
      "text/html": [
       "<strong>75%:</strong> 207.5"
      ],
      "text/latex": [
       "\\textbf{75\\textbackslash{}\\%:} 207.5"
      ],
      "text/markdown": [
       "**75%:** 207.5"
      ],
      "text/plain": [
       "  75% \n",
       "207.5 "
      ]
     },
     "metadata": {},
     "output_type": "display_data"
    },
    {
     "name": "stdout",
     "output_type": "stream",
     "text": [
      "Outliers:"
     ]
    },
    {
     "data": {
      "text/html": [
       "428"
      ],
      "text/latex": [
       "428"
      ],
      "text/markdown": [
       "428"
      ],
      "text/plain": [
       "[1] 428"
      ]
     },
     "metadata": {},
     "output_type": "display_data"
    }
   ],
   "source": [
    "lowerq = quantile(ratios)[2]\n",
    "upperq = quantile(ratios)[4]\n",
    "\n",
    "cat('Lower quartile:')\n",
    "lowerq\n",
    "\n",
    "cat('Upper quartile:')\n",
    "upperq\n",
    "\n",
    "mild.threshold.upper = (iqr * 1.5) + upperq\n",
    "mild.threshold.lower = lowerq - (iqr * 1.5)\n",
    "\n",
    "cat('Lower threshold:')\n",
    "mild.threshold.lower\n",
    "\n",
    "cat('Upper threshold:')\n",
    "mild.threshold.upper\n",
    "\n",
    "outliers = c();\n",
    "for (ratio in ratios) {\n",
    "    if (ratio <= mild.threshold.lower | ratio >= mild.threshold.upper) {\n",
    "        outliers = append(outliers, ratio)\n",
    "    }\n",
    "}\n",
    "cat('Outliers:')\n",
    "outliers"
   ]
  },
  {
   "cell_type": "markdown",
   "metadata": {},
   "source": [
    "**c)**"
   ]
  },
  {
   "cell_type": "code",
   "execution_count": 76,
   "metadata": {},
   "outputs": [
    {
     "data": {
      "image/png": "[encoded data removed]",
      "text/plain": [
       "plot without title"
      ]
     },
     "metadata": {},
     "output_type": "display_data"
    }
   ],
   "source": [
    "boxplot(ratios, horizontal=TRUE, outline=FALSE)"
   ]
  },
  {
   "cell_type": "markdown",
   "metadata": {},
   "source": [
    "The lowest observation is approximately 20 where as the highest observation is around 180. The median is about 100. The lower quartile is around 60 and the upper quartile is around 130. The IQR is therefore approximately 70 according to the box plot."
   ]
  },
  {
   "cell_type": "markdown",
   "metadata": {},
   "source": [
    "**d)**"
   ]
  },
  {
   "cell_type": "code",
   "execution_count": 78,
   "metadata": {},
   "outputs": [
    {
     "data": {
      "image/png": "[encoded data removed]",
      "text/plain": [
       "plot without title"
      ]
     },
     "metadata": {},
     "output_type": "display_data"
    }
   ],
   "source": [
    "boxplot(ratios, horizontal=TRUE, outline=TRUE)"
   ]
  },
  {
   "cell_type": "markdown",
   "metadata": {},
   "source": [
    "The box plot itself is largely the same as the standard box plot, but the modified box plot includes the outlier of 428."
   ]
  },
  {
   "cell_type": "code",
   "execution_count": 80,
   "metadata": {},
   "outputs": [
    {
     "name": "stdout",
     "output_type": "stream",
     "text": [
      "\n",
      "  The decimal point is 2 digit(s) to the right of the |\n",
      "\n",
      "  0 | 257789\n",
      "  1 | 11249\n",
      "  2 | \n",
      "  3 | \n",
      "  4 | 3\n",
      "\n"
     ]
    }
   ],
   "source": [
    "stem(ratios)"
   ]
  },
  {
   "cell_type": "markdown",
   "metadata": {},
   "source": [
    "The modified box plot is advantageous because it shows outliers along with the distribution of data although the distribution is not as clear as the regular box plot where the outlier is removed. The stem and leaf plot also clearly displays the outlier as well as the general distribution of data but its not as esy to visualize as the box plot."
   ]
  },
  {
   "cell_type": "code",
   "execution_count": null,
   "metadata": {},
   "outputs": [],
   "source": []
  }
 ],
 "metadata": {
  "kernelspec": {
   "display_name": "R",
   "language": "R",
   "name": "ir"
  },
  "language_info": {
   "codemirror_mode": "r",
   "file_extension": ".r",
   "mimetype": "text/x-r-source",
   "name": "R",
   "pygments_lexer": "r",
   "version": "3.6.0"
  }
 },
 "nbformat": 4,
 "nbformat_minor": 2
}

{
 "cells": [
  {
   "cell_type": "markdown",
   "metadata": {},
   "source": [
    "### 1.61 Gosset's data on double stout sales\n",
    "**a)**"
   ]
  },
  {
   "cell_type": "code",
   "execution_count": 9,
   "metadata": {},
   "outputs": [
    {
     "name": "stdout",
     "output_type": "stream",
     "text": [
      "Mean:"
     ]
    },
    {
     "data": {
      "text/html": [
       "122.92"
      ],
      "text/latex": [
       "122.92"
      ],
      "text/markdown": [
       "122.92"
      ],
      "text/plain": [
       "[1] 122.92"
      ]
     },
     "metadata": {},
     "output_type": "display_data"
    }
   ],
   "source": [
    "ratios = c(94, 112, 78, 68, 46, 111, 66, 140, 428, 190, 118, 24)\n",
    "cat('Mean:')\n",
    "round(mean(ratios),2)"
   ]
  },
  {
   "cell_type": "markdown",
   "metadata": {},
   "source": [
    "**b)**"
   ]
  },
  {
   "cell_type": "code",
   "execution_count": 10,
   "metadata": {},
   "outputs": [
    {
     "name": "stdout",
     "output_type": "stream",
     "text": [
      "Median:"
     ]
    },
    {
     "data": {
      "text/html": [
       "102.5"
      ],
      "text/latex": [
       "102.5"
      ],
      "text/markdown": [
       "102.5"
      ],
      "text/plain": [
       "[1] 102.5"
      ]
     },
     "metadata": {},
     "output_type": "display_data"
    }
   ],
   "source": [
    "cat('Median:')\n",
    "median(ratios)"
   ]
  },
  {
   "cell_type": "markdown",
   "metadata": {},
   "source": [
    "**c)**"
   ]
  },
  {
   "cell_type": "code",
   "execution_count": 12,
   "metadata": {},
   "outputs": [
    {
     "data": {
      "image/png": "[encoded data removed]",
      "text/plain": [
       "Plot with title \"Histogram of ratios\""
      ]
     },
     "metadata": {},
     "output_type": "display_data"
    }
   ],
   "source": [
    "hist(ratios)"
   ]
  },
  {
   "cell_type": "markdown",
   "metadata": {},
   "source": [
    "The median is preferable when outliers are present because the median is not influenced by outliers. London in this case is an outlier based on the histogram above and therefore the median is preferable because its more representative of the center."
   ]
  },
  {
   "cell_type": "markdown",
   "metadata": {},
   "source": [
    "### 1.62 Measures of spread for the double stout data.  \n",
    "**a)**"
   ]
  },
  {
   "cell_type": "code",
   "execution_count": 13,
   "metadata": {},
   "outputs": [
    {
     "name": "stdout",
     "output_type": "stream",
     "text": [
      "Standard Deviation:"
     ]
    },
    {
     "data": {
      "text/html": [
       "105.73"
      ],
      "text/latex": [
       "105.73"
      ],
      "text/markdown": [
       "105.73"
      ],
      "text/plain": [
       "[1] 105.73"
      ]
     },
     "metadata": {},
     "output_type": "display_data"
    }
   ],
   "source": [
    "ratios = c(94, 112, 78, 68, 46, 111, 66, 140, 428, 190, 118, 24)\n",
    "cat('Standard Deviation:')\n",
    "round(sd(ratios),2)"
   ]
  },
  {
   "cell_type": "markdown",
   "metadata": {},
   "source": [
    "**b)**"
   ]
  },
  {
   "cell_type": "code",
   "execution_count": 16,
   "metadata": {},
   "outputs": [
    {
     "data": {
      "text/html": [
       "<dl class=dl-horizontal>\n",
       "\t<dt>0%</dt>\n",
       "\t\t<dd>24</dd>\n",
       "\t<dt>25%</dt>\n",
       "\t\t<dd>67.5</dd>\n",
       "\t<dt>50%</dt>\n",
       "\t\t<dd>102.5</dd>\n",
       "\t<dt>75%</dt>\n",
       "\t\t<dd>123.5</dd>\n",
       "\t<dt>100%</dt>\n",
       "\t\t<dd>428</dd>\n",
       "</dl>\n"
      ],
      "text/latex": [
       "\\begin{description*}\n",
       "\\item[0\\textbackslash{}\\%] 24\n",
       "\\item[25\\textbackslash{}\\%] 67.5\n",
       "\\item[50\\textbackslash{}\\%] 102.5\n",
       "\\item[75\\textbackslash{}\\%] 123.5\n",
       "\\item[100\\textbackslash{}\\%] 428\n",
       "\\end{description*}\n"
      ],
      "text/markdown": [
       "0%\n",
       ":   2425%\n",
       ":   67.550%\n",
       ":   102.575%\n",
       ":   123.5100%\n",
       ":   428\n",
       "\n"
      ],
      "text/plain": [
       "   0%   25%   50%   75%  100% \n",
       " 24.0  67.5 102.5 123.5 428.0 "
      ]
     },
     "metadata": {},
     "output_type": "display_data"
    }
   ],
   "source": [
    "quantile(ratios)"
   ]
  },
  {
   "cell_type": "markdown",
   "metadata": {},
   "source": [
    "**c)**  \n",
    "The quartiles, like the median, is not influenced by outliers and therefore are better representation of the spread than the standard deviation which is influenced byt the outliers."
   ]
  },
  {
   "cell_type": "markdown",
   "metadata": {},
   "source": [
    "### 1.63 Are there outliers in the double stout data?  \n",
    "**a)**"
   ]
  },
  {
   "cell_type": "code",
   "execution_count": 25,
   "metadata": {},
   "outputs": [
    {
     "name": "stdout",
     "output_type": "stream",
     "text": [
      "IQR:"
     ]
    },
    {
     "data": {
      "text/html": [
       "56"
      ],
      "text/latex": [
       "56"
      ],
      "text/markdown": [
       "56"
      ],
      "text/plain": [
       "[1] 56"
      ]
     },
     "metadata": {},
     "output_type": "display_data"
    }
   ],
   "source": [
    "cat('IQR:')\n",
    "iqr = IQR(ratios)\n",
    "iqr"
   ]
  },
  {
   "cell_type": "markdown",
   "metadata": {},
   "source": [
    "**b)**"
   ]
  },
  {
   "cell_type": "code",
   "execution_count": 77,
   "metadata": {},
   "outputs": [
    {
     "name": "stdout",
     "output_type": "stream",
     "text": [
      "Lower quartile:"
     ]
    },
    {
     "data": {
      "text/html": [
       "<strong>25%:</strong> 67.5"
      ],
      "text/latex": [
       "\\textbf{25\\textbackslash{}\\%:} 67.5"
      ],
      "text/markdown": [
       "**25%:** 67.5"
      ],
      "text/plain": [
       " 25% \n",
       "67.5 "
      ]
     },
     "metadata": {},
     "output_type": "display_data"
    },
    {
     "name": "stdout",
     "output_type": "stream",
     "text": [
      "Upper quartile:"
     ]
    },
    {
     "data": {
      "text/html": [
       "<strong>75%:</strong> 123.5"
      ],
      "text/latex": [
       "\\textbf{75\\textbackslash{}\\%:} 123.5"
      ],
      "text/markdown": [
       "**75%:** 123.5"
      ],
      "text/plain": [
       "  75% \n",
       "123.5 "
      ]
     },
     "metadata": {},
     "output_type": "display_data"
    },
    {
     "name": "stdout",
     "output_type": "stream",
     "text": [
      "Lower threshold:"
     ]
    },
    {
     "data": {
      "text/html": [
       "<strong>25%:</strong> -16.5"
      ],
      "text/latex": [
       "\\textbf{25\\textbackslash{}\\%:} -16.5"
      ],
      "text/markdown": [
       "**25%:** -16.5"
      ],
      "text/plain": [
       "  25% \n",
       "-16.5 "
      ]
     },
     "metadata": {},
     "output_type": "display_data"
    },
    {
     "name": "stdout",
     "output_type": "stream",
     "text": [
      "Upper threshold:"
     ]
    },
    {
     "data": {
      "text/html": [
       "<strong>75%:</strong> 207.5"
      ],
      "text/latex": [
       "\\textbf{75\\textbackslash{}\\%:} 207.5"
      ],
      "text/markdown": [
       "**75%:** 207.5"
      ],
      "text/plain": [
       "  75% \n",
       "207.5 "
      ]
     },
     "metadata": {},
     "output_type": "display_data"
    },
    {
     "name": "stdout",
     "output_type": "stream",
     "text": [
      "Outliers:"
     ]
    },
    {
     "data": {
      "text/html": [
       "428"
      ],
      "text/latex": [
       "428"
      ],
      "text/markdown": [
       "428"
      ],
      "text/plain": [
       "[1] 428"
      ]
     },
     "metadata": {},
     "output_type": "display_data"
    }
   ],
   "source": [
    "lowerq = quantile(ratios)[2]\n",
    "upperq = quantile(ratios)[4]\n",
    "\n",
    "cat('Lower quartile:')\n",
    "lowerq\n",
    "\n",
    "cat('Upper quartile:')\n",
    "upperq\n",
    "\n",
    "mild.threshold.upper = (iqr * 1.5) + upperq\n",
    "mild.threshold.lower = lowerq - (iqr * 1.5)\n",
    "\n",
    "cat('Lower threshold:')\n",
    "mild.threshold.lower\n",
    "\n",
    "cat('Upper threshold:')\n",
    "mild.threshold.upper\n",
    "\n",
    "outliers = c();\n",
    "for (ratio in ratios) {\n",
    "    if (ratio <= mild.threshold.lower | ratio >= mild.threshold.upper) {\n",
    "        outliers = append(outliers, ratio)\n",
    "    }\n",
    "}\n",
    "cat('Outliers:')\n",
    "outliers"
   ]
  },
  {
   "cell_type": "markdown",
   "metadata": {},
   "source": [
    "**c)**"
   ]
  },
  {
   "cell_type": "code",
   "execution_count": 76,
   "metadata": {},
   "outputs": [
    {
     "data": {
      "image/png": "[encoded data removed]",
      "text/plain": [
       "plot without title"
      ]
     },
     "metadata": {},
     "output_type": "display_data"
    }
   ],
   "source": [
    "boxplot(ratios, horizontal=TRUE, outline=FALSE)"
   ]
  },
  {
   "cell_type": "markdown",
   "metadata": {},
   "source": [
    "The lowest observation is approximately 20 where as the highest observation is around 180. The median is about 100. The lower quartile is around 60 and the upper quartile is around 130. The IQR is therefore approximately 70 according to the box plot."
   ]
  },
  {
   "cell_type": "markdown",
   "metadata": {},
   "source": [
    "**d)**"
   ]
  },
  {
   "cell_type": "code",
   "execution_count": 78,
   "metadata": {},
   "outputs": [
    {
     "data": {
      "image/png": "[encoded data removed]",
      "text/plain": [
       "plot without title"
      ]
     },
     "metadata": {},
     "output_type": "display_data"
    }
   ],
   "source": [
    "boxplot(ratios, horizontal=TRUE, outline=TRUE)"
   ]
  },
  {
   "cell_type": "markdown",
   "metadata": {},
   "source": [
    "The box plot itself is largely the same as the standard box plot, but the modified box plot includes the outlier of 428."
   ]
  },
  {
   "cell_type": "code",
   "execution_count": 80,
   "metadata": {},
   "outputs": [
    {
     "name": "stdout",
     "output_type": "stream",
     "text": [
      "\n",
      "  The decimal point is 2 digit(s) to the right of the |\n",
      "\n",
      "  0 | 257789\n",
      "  1 | 11249\n",
      "  2 | \n",
      "  3 | \n",
      "  4 | 3\n",
      "\n"
     ]
    }
   ],
   "source": [
    "stem(ratios)"
   ]
  },
  {
   "cell_type": "markdown",
   "metadata": {},
   "source": [
    "The modified box plot is advantageous because it shows outliers along with the distribution of data although the distribution is not as clear as the regular box plot where the outlier is removed. The stem and leaf plot also clearly displays the outlier as well as the general distribution of data but its not as easy to visualize as the box plot."
   ]
  },
  {
   "cell_type": "markdown",
   "metadata": {},
   "source": [
    "### 1.69 Remove the outliers for alcohol content of beer.  \n",
    "**a)**"
   ]
  },
  {
   "cell_type": "code",
   "execution_count": 138,
   "metadata": {},
   "outputs": [
    {
     "name": "stdout",
     "output_type": "stream",
     "text": [
      "Outliers:"
     ]
    },
    {
     "data": {
      "text/html": [
       "<ol class=list-inline>\n",
       "\t<li>2.4</li>\n",
       "\t<li>7.8</li>\n",
       "\t<li>11.5</li>\n",
       "\t<li>9.2</li>\n",
       "\t<li>10.2</li>\n",
       "\t<li>8.3</li>\n",
       "\t<li>8.3</li>\n",
       "\t<li>9.9</li>\n",
       "\t<li>7.8</li>\n",
       "\t<li>0.4</li>\n",
       "\t<li>7.5</li>\n",
       "\t<li>8</li>\n",
       "\t<li>2.5</li>\n",
       "\t<li>9.6</li>\n",
       "\t<li>8.1</li>\n",
       "\t<li>8.1</li>\n",
       "</ol>\n"
      ],
      "text/latex": [
       "\\begin{enumerate*}\n",
       "\\item 2.4\n",
       "\\item 7.8\n",
       "\\item 11.5\n",
       "\\item 9.2\n",
       "\\item 10.2\n",
       "\\item 8.3\n",
       "\\item 8.3\n",
       "\\item 9.9\n",
       "\\item 7.8\n",
       "\\item 0.4\n",
       "\\item 7.5\n",
       "\\item 8\n",
       "\\item 2.5\n",
       "\\item 9.6\n",
       "\\item 8.1\n",
       "\\item 8.1\n",
       "\\end{enumerate*}\n"
      ],
      "text/markdown": [
       "1. 2.4\n",
       "2. 7.8\n",
       "3. 11.5\n",
       "4. 9.2\n",
       "5. 10.2\n",
       "6. 8.3\n",
       "7. 8.3\n",
       "8. 9.9\n",
       "9. 7.8\n",
       "10. 0.4\n",
       "11. 7.5\n",
       "12. 8\n",
       "13. 2.5\n",
       "14. 9.6\n",
       "15. 8.1\n",
       "16. 8.1\n",
       "\n",
       "\n"
      ],
      "text/plain": [
       " [1]  2.4  7.8 11.5  9.2 10.2  8.3  8.3  9.9  7.8  0.4  7.5  8.0  2.5  9.6  8.1\n",
       "[16]  8.1"
      ]
     },
     "metadata": {},
     "output_type": "display_data"
    },
    {
     "name": "stdout",
     "output_type": "stream",
     "text": [
      "Mean without outliers:"
     ]
    },
    {
     "data": {
      "text/html": [
       "5.01"
      ],
      "text/latex": [
       "5.01"
      ],
      "text/markdown": [
       "5.01"
      ],
      "text/plain": [
       "[1] 5.01"
      ]
     },
     "metadata": {},
     "output_type": "display_data"
    },
    {
     "name": "stdout",
     "output_type": "stream",
     "text": [
      "Mean with outliers:"
     ]
    },
    {
     "data": {
      "text/html": [
       "5.24"
      ],
      "text/latex": [
       "5.24"
      ],
      "text/markdown": [
       "5.24"
      ],
      "text/plain": [
       "[1] 5.24"
      ]
     },
     "metadata": {},
     "output_type": "display_data"
    }
   ],
   "source": [
    "beer.data <- read.csv(\"beerInfo.csv\", header=TRUE, fileEncoding=\"UTF-8-BOM\", sep=\",\")\n",
    "percents = beer.data$percent\n",
    "\n",
    "lowerq = quantile(percents)[2]\n",
    "upperq = quantile(percents)[4]\n",
    "\n",
    "iqr = IQR(percents)\n",
    "\n",
    "mild.threshold.upper = (iqr * 1.5) + upperq\n",
    "mild.threshold.lower = lowerq - (iqr * 1.5)\n",
    "\n",
    "percentOutliers = c();\n",
    "for (percent in percents) {\n",
    "    if (percent <= mild.threshold.lower | percent >= mild.threshold.upper) {\n",
    "        percentOutliers = append(percentOutliers, percent)\n",
    "    }\n",
    "}\n",
    "\n",
    "percentsWithoutOutliers = percents[!(percents %in% percentOutliers)]\n",
    "\n",
    "cat('Outliers:')\n",
    "percentOutliers\n",
    "\n",
    "cat('Mean without outliers:')\n",
    "round(mean(percentsWithoutOutliers),2)\n",
    "\n",
    "cat('Mean with outliers:')\n",
    "round(mean(percents),2)\n"
   ]
  },
  {
   "cell_type": "markdown",
   "metadata": {},
   "source": [
    "The outlier influences the mean a lot and increases it toward the outlier value.  \n",
    "\n",
    "**b)**"
   ]
  },
  {
   "cell_type": "code",
   "execution_count": 109,
   "metadata": {},
   "outputs": [
    {
     "name": "stdout",
     "output_type": "stream",
     "text": [
      "Median without outliers:"
     ]
    },
    {
     "data": {
      "text/html": [
       "4.9"
      ],
      "text/latex": [
       "4.9"
      ],
      "text/markdown": [
       "4.9"
      ],
      "text/plain": [
       "[1] 4.9"
      ]
     },
     "metadata": {},
     "output_type": "display_data"
    },
    {
     "name": "stdout",
     "output_type": "stream",
     "text": [
      "Median with outliers:"
     ]
    },
    {
     "data": {
      "text/html": [
       "4.94"
      ],
      "text/latex": [
       "4.94"
      ],
      "text/markdown": [
       "4.94"
      ],
      "text/plain": [
       "[1] 4.94"
      ]
     },
     "metadata": {},
     "output_type": "display_data"
    }
   ],
   "source": [
    "cat('Median without outliers:')\n",
    "round(median(percentsWithoutOutliers),2)\n",
    "\n",
    "cat('Median with outliers:')\n",
    "round(median(percents),2)"
   ]
  },
  {
   "cell_type": "markdown",
   "metadata": {},
   "source": [
    "The median is not as influenced by the outlier nearly as much as the mean and is only varied slightly by the removal of the outlier from the original value."
   ]
  },
  {
   "cell_type": "markdown",
   "metadata": {},
   "source": [
    "**c)**\n",
    "The mean is much more influenced byt the outlier than the median. This is because the mean is an average of the values where as the median is calculated based on the ordered position of the values. Because an outlier is a large deviation of the value away from the center of the distribution, it has a much large influence on the mean than the median."
   ]
  },
  {
   "cell_type": "markdown",
   "metadata": {},
   "source": [
    "### 1.70 Calories in beer.  \n",
    "**a)**"
   ]
  },
  {
   "cell_type": "code",
   "execution_count": 139,
   "metadata": {},
   "outputs": [
    {
     "data": {
      "text/plain": [
       "   Min. 1st Qu.  Median    Mean 3rd Qu.    Max. \n",
       "   55.0   132.0   152.0   155.5   173.2   330.0 "
      ]
     },
     "metadata": {},
     "output_type": "display_data"
    },
    {
     "data": {
      "image/png": "[encoded data removed]",
      "text/plain": [
       "Plot with title \"density.default(x = calories)\""
      ]
     },
     "metadata": {},
     "output_type": "display_data"
    }
   ],
   "source": [
    "calories = beer.data$calories\n",
    "summary(calories)\n",
    "plot(density(calories))"
   ]
  },
  {
   "cell_type": "markdown",
   "metadata": {},
   "source": [
    "The distribution is slightly skewed to the right with a mean of 155.5, a median of 152.0 and an IQR of 41.25."
   ]
  },
  {
   "cell_type": "code",
   "execution_count": 140,
   "metadata": {},
   "outputs": [
    {
     "name": "stdout",
     "output_type": "stream",
     "text": [
      "Outliers:"
     ]
    },
    {
     "data": {
      "text/html": [
       "<ol class=list-inline>\n",
       "\t<li>55</li>\n",
       "\t<li>313</li>\n",
       "\t<li>271</li>\n",
       "\t<li>314</li>\n",
       "\t<li>238</li>\n",
       "\t<li>288</li>\n",
       "\t<li>64</li>\n",
       "\t<li>70</li>\n",
       "\t<li>67</li>\n",
       "\t<li>330</li>\n",
       "</ol>\n"
      ],
      "text/latex": [
       "\\begin{enumerate*}\n",
       "\\item 55\n",
       "\\item 313\n",
       "\\item 271\n",
       "\\item 314\n",
       "\\item 238\n",
       "\\item 288\n",
       "\\item 64\n",
       "\\item 70\n",
       "\\item 67\n",
       "\\item 330\n",
       "\\end{enumerate*}\n"
      ],
      "text/markdown": [
       "1. 55\n",
       "2. 313\n",
       "3. 271\n",
       "4. 314\n",
       "5. 238\n",
       "6. 288\n",
       "7. 64\n",
       "8. 70\n",
       "9. 67\n",
       "10. 330\n",
       "\n",
       "\n"
      ],
      "text/plain": [
       " [1]  55 313 271 314 238 288  64  70  67 330"
      ]
     },
     "metadata": {},
     "output_type": "display_data"
    }
   ],
   "source": [
    "lowerq = quantile(calories)[2]\n",
    "upperq = quantile(calories)[4]\n",
    "\n",
    "iqr = IQR(calories)\n",
    "\n",
    "mild.threshold.upper = (iqr * 1.5) + upperq\n",
    "mild.threshold.lower = lowerq - (iqr * 1.5)\n",
    "\n",
    "calorieOutliers = c();\n",
    "for (calorie in calories) {\n",
    "    if (calorie <= mild.threshold.lower | calorie >= mild.threshold.upper) {\n",
    "        calorieOutliers = append(calorieOutliers, calorie)\n",
    "    }\n",
    "}\n",
    "\n",
    "cat('Outliers:')\n",
    "calorieOutliers"
   ]
  },
  {
   "cell_type": "markdown",
   "metadata": {},
   "source": [
    "**b)** Most of the same brands that are outliers for alcohol percents are the same brands that are outliers for calories which implies a correlation between the alcohol percentage and calorie count."
   ]
  },
  {
   "cell_type": "markdown",
   "metadata": {},
   "source": [
    "### 1.71 Potatoes.  \n",
    "**a)**"
   ]
  },
  {
   "cell_type": "code",
   "execution_count": 165,
   "metadata": {},
   "outputs": [
    {
     "name": "stdout",
     "output_type": "stream",
     "text": [
      "Numerical Summary:"
     ]
    },
    {
     "data": {
      "text/plain": [
       "   Min. 1st Qu.  Median    Mean 3rd Qu.    Max. \n",
       "  3.700   5.200   6.700   6.424   7.800   8.000 "
      ]
     },
     "metadata": {},
     "output_type": "display_data"
    },
    {
     "name": "stdout",
     "output_type": "stream",
     "text": [
      "Standard Deviation:"
     ]
    },
    {
     "data": {
      "text/html": [
       "1.4"
      ],
      "text/latex": [
       "1.4"
      ],
      "text/markdown": [
       "1.4"
      ],
      "text/plain": [
       "[1] 1.4"
      ]
     },
     "metadata": {},
     "output_type": "display_data"
    },
    {
     "data": {
      "image/png": "[encoded data removed]",
      "text/plain": [
       "Plot with title \"Histogram of potatoes\""
      ]
     },
     "metadata": {},
     "output_type": "display_data"
    }
   ],
   "source": [
    "potatoes = c(7.6, 7.9, 8.0, 6.9, 6.7, 7.9, 7.9, 7.9, 7.6, 7.8, 7.0, 4.7, \n",
    "             7.6, 6.3, 4.7, 4.7, 4.7, 6.3, 6.0, 5.3, 4.3, 7.9, 5.2, 6.0, 3.7)\n",
    "cat('Numerical Summary:')\n",
    "summary(potatoes)\n",
    "cat('Standard Deviation:')\n",
    "round(sd(potatoes),2)\n",
    "hist(potatoes)"
   ]
  },
  {
   "cell_type": "markdown",
   "metadata": {},
   "source": [
    "**b)** Numerical summaries do a good job of representing the data because they allow you to guage the skew by comparing themean with the median and allow you to gauge the spread based on the quartiles and their deviation away from the median.  \n",
    "**c)**  "
   ]
  },
  {
   "cell_type": "code",
   "execution_count": 161,
   "metadata": {},
   "outputs": [
    {
     "name": "stdout",
     "output_type": "stream",
     "text": [
      "Large Potatoes:\n",
      "\n",
      "Mean:"
     ]
    },
    {
     "data": {
      "text/html": [
       "7.67"
      ],
      "text/latex": [
       "7.67"
      ],
      "text/markdown": [
       "7.67"
      ],
      "text/plain": [
       "[1] 7.67"
      ]
     },
     "metadata": {},
     "output_type": "display_data"
    },
    {
     "name": "stdout",
     "output_type": "stream",
     "text": [
      "Standard Devation:"
     ]
    },
    {
     "data": {
      "text/html": [
       "0.36"
      ],
      "text/latex": [
       "0.36"
      ],
      "text/markdown": [
       "0.36"
      ],
      "text/plain": [
       "[1] 0.36"
      ]
     },
     "metadata": {},
     "output_type": "display_data"
    },
    {
     "data": {
      "image/png": "[encoded data removed]",
      "text/plain": [
       "Plot with title \"Histogram of largeTots\""
      ]
     },
     "metadata": {},
     "output_type": "display_data"
    }
   ],
   "source": [
    "median = summary(potatoes)['Median']\n",
    "\n",
    "largeTots=c();\n",
    "smallTots=c();\n",
    "for (potato in potatoes){\n",
    "    if (potato > median){\n",
    "        largeTots = append(largeTots, potato)\n",
    "    } else {\n",
    "        smallTots = append(smallTots, potato)\n",
    "    }\n",
    "}\n",
    "\n",
    "cat('Large Potatoes:\\n\\n')\n",
    "cat('Mean:')\n",
    "round(mean(largeTots),2)\n",
    "cat('Standard Devation:')\n",
    "round(sd(largeTots),2)\n",
    "hist(largeTots)"
   ]
  },
  {
   "cell_type": "code",
   "execution_count": 166,
   "metadata": {},
   "outputs": [
    {
     "name": "stdout",
     "output_type": "stream",
     "text": [
      "Small Potatoes:\n",
      "\n",
      "Mean:"
     ]
    },
    {
     "data": {
      "text/html": [
       "5.28"
      ],
      "text/latex": [
       "5.28"
      ],
      "text/markdown": [
       "5.28"
      ],
      "text/plain": [
       "[1] 5.28"
      ]
     },
     "metadata": {},
     "output_type": "display_data"
    },
    {
     "name": "stdout",
     "output_type": "stream",
     "text": [
      "Standard Devation:"
     ]
    },
    {
     "data": {
      "text/html": [
       "0.91"
      ],
      "text/latex": [
       "0.91"
      ],
      "text/markdown": [
       "0.91"
      ],
      "text/plain": [
       "[1] 0.91"
      ]
     },
     "metadata": {},
     "output_type": "display_data"
    },
    {
     "data": {
      "image/png": "[encoded data removed]",
      "text/plain": [
       "Plot with title \"Histogram of smallTots\""
      ]
     },
     "metadata": {},
     "output_type": "display_data"
    }
   ],
   "source": [
    "cat('Small Potatoes:\\n\\n')\n",
    "cat('Mean:')\n",
    "round(mean(smallTots),2)\n",
    "cat('Standard Devation:')\n",
    "round(sd(smallTots),2)\n",
    "hist(smallTots)"
   ]
  },
  {
   "cell_type": "markdown",
   "metadata": {},
   "source": [
    "Clustering the data is more beneficial in this case because it allows us to correlate the patterns better and visualize outliers easily. It also allows us to get a more meaningful mean because it eliminates the large variability across the data set and allows us to focus on seperate classifications of the larger subset."
   ]
  },
  {
   "cell_type": "markdown",
   "metadata": {},
   "source": [
    "### 1.72 Longleaf pine trees.  \n",
    "**a)**"
   ]
  },
  {
   "cell_type": "code",
   "execution_count": 181,
   "metadata": {},
   "outputs": [
    {
     "data": {
      "text/plain": [
       "   Min. 1st Qu.  Median    Mean 3rd Qu.    Max. \n",
       "   2.20   11.12   28.50   27.29   41.20   69.30 "
      ]
     },
     "metadata": {},
     "output_type": "display_data"
    }
   ],
   "source": [
    "trees = c(10.3, 13.3, 26.0, 18.3, 52.2, 9.2, 26.1, 17.6, 40.5, 31.8,\n",
    "          47.2, 11.4, 2.7, 69.3, 44.4, 16.9, 35.7, 5.4, 44.2, 2.2,\n",
    "          4.3, 7.8, 38.1, 2.2, 11.4, 51.5, 4.9, 39.7, 32.6, 51.8,\n",
    "          43.6, 2.3, 44.6, 31.5, 40.3, 22.3, 43.3, 37.5, 29.1, 27.9)\n",
    "summary(trees)"
   ]
  },
  {
   "cell_type": "markdown",
   "metadata": {},
   "source": [
    "**b)**"
   ]
  },
  {
   "cell_type": "code",
   "execution_count": 182,
   "metadata": {},
   "outputs": [
    {
     "data": {
      "image/png": "[encoded data removed]",
      "text/plain": [
       "plot without title"
      ]
     },
     "metadata": {},
     "output_type": "display_data"
    }
   ],
   "source": [
    "boxplot(trees)"
   ]
  },
  {
   "cell_type": "markdown",
   "metadata": {},
   "source": [
    "**c)**"
   ]
  },
  {
   "cell_type": "code",
   "execution_count": 183,
   "metadata": {},
   "outputs": [
    {
     "data": {
      "image/png": "[encoded data removed]",
      "text/plain": [
       "Plot with title \"Histogram of trees\""
      ]
     },
     "metadata": {},
     "output_type": "display_data"
    }
   ],
   "source": [
    "hist(trees)"
   ]
  },
  {
   "cell_type": "markdown",
   "metadata": {},
   "source": [
    "**d)** The boxplot is preferable to visualize the distribution and the center of the set of data along with the spread and the skew."
   ]
  },
  {
   "cell_type": "markdown",
   "metadata": {},
   "source": [
    "### 1.73 Blood proteins in children from Papua New Guinea.  \n",
    "**a)**"
   ]
  },
  {
   "cell_type": "code",
   "execution_count": 184,
   "metadata": {},
   "outputs": [
    {
     "data": {
      "text/plain": [
       "   Min. 1st Qu.  Median    Mean 3rd Qu.    Max. \n",
       "  0.000   0.000   5.085  10.032   9.420  73.200 "
      ]
     },
     "metadata": {},
     "output_type": "display_data"
    }
   ],
   "source": [
    "crp = c(0.00, 3.90, 5.64, 8.22, 0.00, 5.62, \n",
    "        3.92, 6.81, 30.61, 0.00, 73.20, 0.00,\n",
    "        46.70, 0.00, 0.00, 26.41, 22.82, 0.00,\n",
    "        0.00, 3.49, 0.00, 0.00, 4.81, 9.57, 5.36, \n",
    "        0.00, 5.66, 0.00, 59.76, 12.38, 15.74, 0.00,\n",
    "        0.00, 0.00, 0.00, 9.37, 20.78, 7.10, 7.89, 5.53)\n",
    "summary(crp)"
   ]
  },
  {
   "cell_type": "markdown",
   "metadata": {},
   "source": [
    "**b)**"
   ]
  },
  {
   "cell_type": "code",
   "execution_count": 191,
   "metadata": {},
   "outputs": [
    {
     "name": "stdout",
     "output_type": "stream",
     "text": [
      "Modified Box Plot:"
     ]
    },
    {
     "data": {
      "image/png": "[encoded data removed]",
      "text/plain": [
       "plot without title"
      ]
     },
     "metadata": {},
     "output_type": "display_data"
    }
   ],
   "source": [
    "cat('Modified Box Plot:')\n",
    "boxplot(crp)"
   ]
  },
  {
   "cell_type": "code",
   "execution_count": 193,
   "metadata": {},
   "outputs": [
    {
     "name": "stdout",
     "output_type": "stream",
     "text": [
      "Box Plot:"
     ]
    },
    {
     "data": {
      "image/png": "[encoded data removed]",
      "text/plain": [
       "plot without title"
      ]
     },
     "metadata": {},
     "output_type": "display_data"
    }
   ],
   "source": [
    "cat('Box Plot:')\n",
    "boxplot(crp, outline=FALSE)"
   ]
  },
  {
   "cell_type": "markdown",
   "metadata": {},
   "source": [
    "**c)**"
   ]
  },
  {
   "cell_type": "code",
   "execution_count": 195,
   "metadata": {},
   "outputs": [
    {
     "data": {
      "image/png": "[encoded data removed]",
      "text/plain": [
       "Plot with title \"Histogram of crp\""
      ]
     },
     "metadata": {},
     "output_type": "display_data"
    }
   ],
   "source": [
    "hist(crp)"
   ]
  },
  {
   "cell_type": "markdown",
   "metadata": {},
   "source": [
    "**d)** The boxplot is preferable to visualize the distribution and the center of the set of data along with the spread and the skew."
   ]
  },
  {
   "cell_type": "markdown",
   "metadata": {},
   "source": [
    "### 1.74 Does a log transform reduce the skewness?\n",
    "**a)**"
   ]
  },
  {
   "cell_type": "code",
   "execution_count": 217,
   "metadata": {},
   "outputs": [],
   "source": [
    "modCRP = c();\n",
    "for (value in crp) {\n",
    "    if(value == 0.00){\n",
    "        modCRP=append(modCRP, value+1)\n",
    "    }\n",
    "    else{\n",
    "        modCRP=append(modCRP, value)\n",
    "    }\n",
    "}\n",
    "logCRP = log10(modCRP)"
   ]
  },
  {
   "cell_type": "code",
   "execution_count": 218,
   "metadata": {},
   "outputs": [
    {
     "name": "stdout",
     "output_type": "stream",
     "text": [
      "Summary:"
     ]
    },
    {
     "data": {
      "text/plain": [
       "   Min. 1st Qu.  Median    Mean 3rd Qu.    Max. \n",
       " 0.0000  0.0000  0.7057  0.6192  0.9740  1.8645 "
      ]
     },
     "metadata": {},
     "output_type": "display_data"
    }
   ],
   "source": [
    "cat('Summary:')\n",
    "summary(logCRP)"
   ]
  },
  {
   "cell_type": "code",
   "execution_count": 219,
   "metadata": {},
   "outputs": [
    {
     "name": "stdout",
     "output_type": "stream",
     "text": [
      "Modified Box Plot:"
     ]
    },
    {
     "data": {
      "image/png": "[encoded data removed]",
      "text/plain": [
       "plot without title"
      ]
     },
     "metadata": {},
     "output_type": "display_data"
    }
   ],
   "source": [
    "cat('Modified Box Plot:')\n",
    "boxplot(logCRP)"
   ]
  },
  {
   "cell_type": "code",
   "execution_count": 220,
   "metadata": {},
   "outputs": [
    {
     "name": "stdout",
     "output_type": "stream",
     "text": [
      "Histogram:"
     ]
    },
    {
     "data": {
      "image/png": "[encoded data removed]",
      "text/plain": [
       "Plot with title \"Histogram of logCRP\""
      ]
     },
     "metadata": {},
     "output_type": "display_data"
    }
   ],
   "source": [
    "cat('Histogram:')\n",
    "hist(logCRP)"
   ]
  },
  {
   "cell_type": "markdown",
   "metadata": {},
   "source": [
    "Although the histogram displays the same skewness, the boxplot shows that the outliers in the original crp data are no longer outliers in the logarithmic distribution of data. Therefore the logarithmic distribution of the CRP data is a better dataset for determining associations."
   ]
  },
  {
   "cell_type": "markdown",
   "metadata": {},
   "source": [
    "### 1.109 Means and medians.  \n",
    "**a)**"
   ]
  },
  {
   "cell_type": "code",
   "execution_count": 318,
   "metadata": {},
   "outputs": [
    {
     "data": {
      "image/png": "[encoded data removed]",
      "text/plain": [
       "Plot with title \"density.default(x = x)\""
      ]
     },
     "metadata": {},
     "output_type": "display_data"
    }
   ],
   "source": [
    "x = rbeta(10000,10,2)\n",
    "sum = summary(x)\n",
    "plot(density(x), col='red')\n",
    "abline(v=c(sum['Mean'], sum['Median']), col=c(\"blue\",\"green\"))"
   ]
  },
  {
   "cell_type": "markdown",
   "metadata": {},
   "source": [
    "**b)**"
   ]
  },
  {
   "cell_type": "code",
   "execution_count": 324,
   "metadata": {},
   "outputs": [
    {
     "data": {
      "image/png": "[encoded data removed]",
      "text/plain": [
       "Plot with title \"density.default(x = x)\""
      ]
     },
     "metadata": {},
     "output_type": "display_data"
    }
   ],
   "source": [
    "x = rbeta(10000,2,10)\n",
    "sum = summary(x)\n",
    "plot(density(x), col='red')\n",
    "abline(v=c(sum['Mean'], sum['Median']), col=c(\"blue\",\"green\"))"
   ]
  },
  {
   "cell_type": "markdown",
   "metadata": {},
   "source": [
    "### 1.110 The effect of changing the standard deviation. \n",
    "**a)**"
   ]
  },
  {
   "cell_type": "code",
   "execution_count": 339,
   "metadata": {},
   "outputs": [
    {
     "data": {
      "image/png": "[encoded data removed]",
      "text/plain": [
       "Plot with title \"density.default(x = x)\""
      ]
     },
     "metadata": {},
     "output_type": "display_data"
    }
   ],
   "source": [
    "x = rnorm(1000,mean=20,sd=5)\n",
    "plot(density(x))"
   ]
  },
  {
   "cell_type": "markdown",
   "metadata": {},
   "source": [
    "**b)**"
   ]
  },
  {
   "cell_type": "code",
   "execution_count": 346,
   "metadata": {
    "scrolled": false
   },
   "outputs": [
    {
     "data": {
      "image/png": "[encoded data removed]",
      "text/plain": [
       "Plot with title \"density.default(x = x)\""
      ]
     },
     "metadata": {},
     "output_type": "display_data"
    }
   ],
   "source": [
    "x = rnorm(1000,mean=20,sd=5)\n",
    "y = rnorm(1000,mean=20,sd=10)\n",
    "plot(density(x), xlim=c(-10, 50))\n",
    "lines(density(y), col='red')"
   ]
  },
  {
   "cell_type": "markdown",
   "metadata": {},
   "source": [
    "**c)** The center of the distribution stays the same but the the higher standard deviated curve is stretched to a wider range and the maximum point of the distribution is pushed down."
   ]
  },
  {
   "cell_type": "markdown",
   "metadata": {},
   "source": [
    "### 1.111 The effect of changing the mean. \n",
    "**a) and b)**"
   ]
  },
  {
   "cell_type": "code",
   "execution_count": 366,
   "metadata": {
    "scrolled": false
   },
   "outputs": [
    {
     "data": {
      "image/png": "[encoded data removed]",
      "text/plain": [
       "Plot with title \"density.default(x = x)\""
      ]
     },
     "metadata": {},
     "output_type": "display_data"
    }
   ],
   "source": [
    "x = rnorm(10000,mean=20,sd=5)\n",
    "y = rnorm(10000,mean=30,sd=5)\n",
    "plot(density(x), xlim=c(-10, 50))\n",
    "lines(density(y), col='red')"
   ]
  },
  {
   "cell_type": "markdown",
   "metadata": {},
   "source": [
    "**c)** Since the mean value changed with the 2nd curve, the effect is a translation of the curve where the center of the distribution is 30. The spread and peak of the cure however remains largely the same."
   ]
  },
  {
   "cell_type": "markdown",
   "metadata": {},
   "source": [
    "### 1.128 Find some proportions.  \n",
    "**a)**"
   ]
  },
  {
   "cell_type": "code",
   "execution_count": 407,
   "metadata": {},
   "outputs": [
    {
     "name": "stdout",
     "output_type": "stream",
     "text": [
      "Proportion for Z > 1.55:"
     ]
    },
    {
     "data": {
      "text/html": [
       "0.06"
      ],
      "text/latex": [
       "0.06"
      ],
      "text/markdown": [
       "0.06"
      ],
      "text/plain": [
       "[1] 0.06"
      ]
     },
     "metadata": {},
     "output_type": "display_data"
    },
    {
     "data": {
      "image/png": "[encoded data removed]",
      "text/plain": [
       "Plot with title \"Z > 1.55\""
      ]
     },
     "metadata": {},
     "output_type": "display_data"
    }
   ],
   "source": [
    "cat('Proportion for Z > 1.55:')\n",
    "round(1 - pnorm(1.55,mean=0,sd=1), 2)\n",
    "\n",
    "x=seq(-3,3,length=200)\n",
    "y=dnorm(x,mean=0,sd=1)\n",
    "plot(x,y,type=\"l\", main=\"Z > 1.55\")\n",
    "\n",
    "\n",
    "x=seq(1.55,3,length=100)\n",
    "y=dnorm(x,mean=0,sd=1)\n",
    "polygon(c(1.55,x,3),c(0,y,0),col=\"gray\")"
   ]
  },
  {
   "cell_type": "markdown",
   "metadata": {},
   "source": [
    "**b)**"
   ]
  },
  {
   "cell_type": "code",
   "execution_count": 421,
   "metadata": {},
   "outputs": [
    {
     "name": "stdout",
     "output_type": "stream",
     "text": [
      "Proportion for Z < 1.55:"
     ]
    },
    {
     "data": {
      "text/html": [
       "0.94"
      ],
      "text/latex": [
       "0.94"
      ],
      "text/markdown": [
       "0.94"
      ],
      "text/plain": [
       "[1] 0.94"
      ]
     },
     "metadata": {},
     "output_type": "display_data"
    },
    {
     "data": {
      "image/png": "[encoded data removed]",
      "text/plain": [
       "Plot with title \"Z < 1.55\""
      ]
     },
     "metadata": {},
     "output_type": "display_data"
    }
   ],
   "source": [
    "cat('Proportion for Z < 1.55:')\n",
    "round(pnorm(1.55,mean=0,sd=1), 2)\n",
    "\n",
    "x=seq(-3,3,length=200)\n",
    "y=dnorm(x,mean=0,sd=1)\n",
    "plot(x,y,type=\"l\", main=\"Z < 1.55\")\n",
    "\n",
    "\n",
    "x=seq(-3,1.55,length=100)\n",
    "y=dnorm(x,mean=0,sd=1)\n",
    "polygon(c(-3,x,1.55),c(0,y,0),col=\"gray\")"
   ]
  },
  {
   "cell_type": "markdown",
   "metadata": {},
   "source": [
    "**c)**"
   ]
  },
  {
   "cell_type": "code",
   "execution_count": 415,
   "metadata": {},
   "outputs": [
    {
     "name": "stdout",
     "output_type": "stream",
     "text": [
      "Proportion for Z > -0.70 :"
     ]
    },
    {
     "data": {
      "text/html": [
       "0.76"
      ],
      "text/latex": [
       "0.76"
      ],
      "text/markdown": [
       "0.76"
      ],
      "text/plain": [
       "[1] 0.76"
      ]
     },
     "metadata": {},
     "output_type": "display_data"
    },
    {
     "data": {
      "image/png": "[encoded data removed]",
      "text/plain": [
       "Plot with title \"Z < -0.70\""
      ]
     },
     "metadata": {},
     "output_type": "display_data"
    }
   ],
   "source": [
    "cat('Proportion for Z > -0.70 :')\n",
    "round(1 - pnorm(-0.70,mean=0,sd=1), 2)\n",
    "\n",
    "x=seq(-3,3,length=200)\n",
    "y=dnorm(x,mean=0,sd=1)\n",
    "plot(x,y,type=\"l\", main=\"Z < -0.70\")\n",
    "\n",
    "\n",
    "x=seq(-0.70,3,length=100)\n",
    "y=dnorm(x,mean=0,sd=1)\n",
    "polygon(c(-0.70,x,3),c(0,y,0),col=\"gray\")"
   ]
  },
  {
   "cell_type": "markdown",
   "metadata": {},
   "source": [
    "**d)**"
   ]
  },
  {
   "cell_type": "code",
   "execution_count": 434,
   "metadata": {},
   "outputs": [
    {
     "name": "stdout",
     "output_type": "stream",
     "text": [
      "Proportion for -0.70 < Z < 1.55 :"
     ]
    },
    {
     "data": {
      "text/html": [
       "0.7"
      ],
      "text/latex": [
       "0.7"
      ],
      "text/markdown": [
       "0.7"
      ],
      "text/plain": [
       "[1] 0.7"
      ]
     },
     "metadata": {},
     "output_type": "display_data"
    },
    {
     "data": {
      "image/png": "[encoded data removed]",
      "text/plain": [
       "Plot with title \"-0.70 < Z < 1.55\""
      ]
     },
     "metadata": {},
     "output_type": "display_data"
    }
   ],
   "source": [
    "cat('Proportion for -0.70 < Z < 1.55 :')\n",
    "l = pnorm(-0.70,mean=0,sd=1)\n",
    "r = pnorm(1.55,mean=0,sd=1)\n",
    "round(\n",
    "    r-l\n",
    "    , 2)\n",
    "\n",
    "x=seq(-3,3,length=200)\n",
    "y=dnorm(x,mean=0,sd=1)\n",
    "plot(x,y,type=\"l\", main=\"-0.70 < Z < 1.55\")\n",
    "\n",
    "\n",
    "x=seq(-0.70,1.55,length=100)\n",
    "y=dnorm(x,mean=0,sd=1)\n",
    "polygon(c(-0.70,x,1.55),c(0,y,0),col=\"gray\")"
   ]
  },
  {
   "cell_type": "markdown",
   "metadata": {},
   "source": [
    "### 1.129 Find more proportions.  \n",
    "**a)**"
   ]
  },
  {
   "cell_type": "code",
   "execution_count": 422,
   "metadata": {},
   "outputs": [
    {
     "name": "stdout",
     "output_type": "stream",
     "text": [
      "Proportion for Z <= -1.7:"
     ]
    },
    {
     "data": {
      "text/html": [
       "0.04"
      ],
      "text/latex": [
       "0.04"
      ],
      "text/markdown": [
       "0.04"
      ],
      "text/plain": [
       "[1] 0.04"
      ]
     },
     "metadata": {},
     "output_type": "display_data"
    },
    {
     "data": {
      "image/png": "[encoded data removed]",
      "text/plain": [
       "Plot with title \"Z <= -1.7\""
      ]
     },
     "metadata": {},
     "output_type": "display_data"
    }
   ],
   "source": [
    "cat('Proportion for Z <= -1.7:')\n",
    "round(pnorm(-1.7,mean=0,sd=1), 2)\n",
    "\n",
    "x=seq(-3,3,length=200)\n",
    "y=dnorm(x,mean=0,sd=1)\n",
    "plot(x,y,type=\"l\", main=\"Z <= -1.7\")\n",
    "\n",
    "\n",
    "x=seq(-3,-1.7,length=100)\n",
    "y=dnorm(x,mean=0,sd=1)\n",
    "polygon(c(-3,x,-1.7),c(0,y,0),col=\"gray\")"
   ]
  },
  {
   "cell_type": "markdown",
   "metadata": {},
   "source": [
    "**b)**"
   ]
  },
  {
   "cell_type": "code",
   "execution_count": 424,
   "metadata": {},
   "outputs": [
    {
     "name": "stdout",
     "output_type": "stream",
     "text": [
      "Proportion for Z >= -1.7:"
     ]
    },
    {
     "data": {
      "text/html": [
       "0.96"
      ],
      "text/latex": [
       "0.96"
      ],
      "text/markdown": [
       "0.96"
      ],
      "text/plain": [
       "[1] 0.96"
      ]
     },
     "metadata": {},
     "output_type": "display_data"
    },
    {
     "data": {
      "image/png": "[encoded data removed]",
      "text/plain": [
       "Plot with title \"Z >= -1.7\""
      ]
     },
     "metadata": {},
     "output_type": "display_data"
    }
   ],
   "source": [
    "cat('Proportion for Z >= -1.7:')\n",
    "round(1 - pnorm(-1.7,mean=0,sd=1), 2)\n",
    "\n",
    "x=seq(-3,3,length=200)\n",
    "y=dnorm(x,mean=0,sd=1)\n",
    "plot(x,y,type=\"l\", main=\"Z >= -1.7\")\n",
    "\n",
    "\n",
    "x=seq(-1.7,3,length=100)\n",
    "y=dnorm(x,mean=0,sd=1)\n",
    "polygon(c(-1.7,x,3),c(0,y,0),col=\"gray\")"
   ]
  },
  {
   "cell_type": "markdown",
   "metadata": {},
   "source": [
    "**c)**"
   ]
  },
  {
   "cell_type": "code",
   "execution_count": 425,
   "metadata": {},
   "outputs": [
    {
     "name": "stdout",
     "output_type": "stream",
     "text": [
      "Proportion for Z > 1.9:"
     ]
    },
    {
     "data": {
      "text/html": [
       "0.03"
      ],
      "text/latex": [
       "0.03"
      ],
      "text/markdown": [
       "0.03"
      ],
      "text/plain": [
       "[1] 0.03"
      ]
     },
     "metadata": {},
     "output_type": "display_data"
    },
    {
     "data": {
      "image/png": "[encoded data removed]",
      "text/plain": [
       "Plot with title \"Z > 1.9\""
      ]
     },
     "metadata": {},
     "output_type": "display_data"
    }
   ],
   "source": [
    "cat('Proportion for Z > 1.9:')\n",
    "round(1 - pnorm(1.9,mean=0,sd=1), 2)\n",
    "\n",
    "x=seq(-3,3,length=200)\n",
    "y=dnorm(x,mean=0,sd=1)\n",
    "plot(x,y,type=\"l\", main=\"Z > 1.9\")\n",
    "\n",
    "\n",
    "x=seq(1.9,3,length=100)\n",
    "y=dnorm(x,mean=0,sd=1)\n",
    "polygon(c(1.9,x,3),c(0,y,0),col=\"gray\")"
   ]
  },
  {
   "cell_type": "markdown",
   "metadata": {},
   "source": [
    "**d)**"
   ]
  },
  {
   "cell_type": "code",
   "execution_count": 433,
   "metadata": {},
   "outputs": [
    {
     "name": "stdout",
     "output_type": "stream",
     "text": [
      "Proportion for -1.7 < Z < 1.9 :"
     ]
    },
    {
     "data": {
      "text/html": [
       "0.93"
      ],
      "text/latex": [
       "0.93"
      ],
      "text/markdown": [
       "0.93"
      ],
      "text/plain": [
       "[1] 0.93"
      ]
     },
     "metadata": {},
     "output_type": "display_data"
    },
    {
     "data": {
      "image/png": "[encoded data removed]",
      "text/plain": [
       "Plot with title \"-1.7 < Z < 1.9\""
      ]
     },
     "metadata": {},
     "output_type": "display_data"
    }
   ],
   "source": [
    "cat('Proportion for -1.7 < Z < 1.9 :')\n",
    "l = pnorm(-1.7,mean=0,sd=1)\n",
    "r = pnorm(1.9,mean=0,sd=1)\n",
    "round(\n",
    "    r-l\n",
    "    , 2)\n",
    "\n",
    "x=seq(-3,3,length=200)\n",
    "y=dnorm(x,mean=0,sd=1)\n",
    "plot(x,y,type=\"l\", main=\"-1.7 < Z < 1.9\")\n",
    "\n",
    "\n",
    "x=seq(-1.7,1.9,length=100)\n",
    "y=dnorm(x,mean=0,sd=1)\n",
    "polygon(c(-1.7,x,1.9),c(0,y,0),col=\"gray\")"
   ]
  },
  {
   "cell_type": "markdown",
   "metadata": {},
   "source": [
    "### Question 8\n",
    "\n",
    "**Normal Quantile plot from Question 1**"
   ]
  },
  {
   "cell_type": "code",
   "execution_count": 436,
   "metadata": {},
   "outputs": [
    {
     "data": {
      "image/png": "[encoded data removed]",
      "text/plain": [
       "Plot with title \"Normal Q-Q Plot\""
      ]
     },
     "metadata": {},
     "output_type": "display_data"
    }
   ],
   "source": [
    "ratios = c(94, 112, 78, 68, 46, 111, 66, 140, 428, 190, 118, 24)\n",
    "qqnorm(ratios)"
   ]
  },
  {
   "cell_type": "markdown",
   "metadata": {},
   "source": [
    "**Normal Quantile plot from Question 2**"
   ]
  },
  {
   "cell_type": "code",
   "execution_count": 437,
   "metadata": {},
   "outputs": [
    {
     "data": {
      "image/png": "[encoded data removed]",
      "text/plain": [
       "Plot with title \"Normal Q-Q Plot\""
      ]
     },
     "metadata": {},
     "output_type": "display_data"
    }
   ],
   "source": [
    "potatoes = c(7.6, 7.9, 8.0, 6.9, 6.7, 7.9, 7.9, 7.9, 7.6, 7.8, 7.0, 4.7, \n",
    "             7.6, 6.3, 4.7, 4.7, 4.7, 6.3, 6.0, 5.3, 4.3, 7.9, 5.2, 6.0, 3.7)\n",
    "qqnorm(potatoes)"
   ]
  },
  {
   "cell_type": "markdown",
   "metadata": {},
   "source": [
    "**Normal Quantile plot from Question 3**"
   ]
  },
  {
   "cell_type": "code",
   "execution_count": 438,
   "metadata": {},
   "outputs": [
    {
     "data": {
      "image/png": "[encoded data removed]",
      "text/plain": [
       "Plot with title \"Normal Q-Q Plot\""
      ]
     },
     "metadata": {},
     "output_type": "display_data"
    }
   ],
   "source": [
    "crp = c(0.00, 3.90, 5.64, 8.22, 0.00, 5.62, \n",
    "        3.92, 6.81, 30.61, 0.00, 73.20, 0.00,\n",
    "        46.70, 0.00, 0.00, 26.41, 22.82, 0.00,\n",
    "        0.00, 3.49, 0.00, 0.00, 4.81, 9.57, 5.36, \n",
    "        0.00, 5.66, 0.00, 59.76, 12.38, 15.74, 0.00,\n",
    "        0.00, 0.00, 0.00, 9.37, 20.78, 7.10, 7.89, 5.53)\n",
    "qqnorm(crp)"
   ]
  },
  {
   "cell_type": "markdown",
   "metadata": {},
   "source": [
    "Although the data from Question 2 comes the closest to a straight line, neither of the three sets of data form a straight line and are exponential in nature. Therefore we can concluded that none of the datasets are normal distributions."
   ]
  }
 ],
 "metadata": {
  "kernelspec": {
   "display_name": "R",
   "language": "R",
   "name": "ir"
  },
  "language_info": {
   "codemirror_mode": "r",
   "file_extension": ".r",
   "mimetype": "text/x-r-source",
   "name": "R",
   "pygments_lexer": "r",
   "version": "3.6.0"
  }
 },
 "nbformat": 4,
 "nbformat_minor": 2
}

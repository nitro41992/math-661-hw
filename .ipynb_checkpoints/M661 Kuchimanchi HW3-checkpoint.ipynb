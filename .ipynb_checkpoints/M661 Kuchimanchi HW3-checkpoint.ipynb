{
 "cells": [
  {
   "cell_type": "markdown",
   "metadata": {},
   "source": [
    "### 2.5 High click counts on twitter.  \n",
    "**a)** The cases are the individual twitter users.  \n",
    "**b)**  \n",
    "- Number of click counts: quantitative\n",
    "- Time of day: quantitative\n",
    "- Day of the week: categorical\n",
    "- Gender: categorical\n",
    "- Length of tweet: quantitative  \n",
    "\n",
    "**c)**  \n",
    "- Number of click counts: Response\n",
    "- Time of day: Explanatory\n",
    "- Day of the week: Explanatory\n",
    "- Gender: Explanatory\n",
    "- Length of tweet: Explanatory"
   ]
  },
  {
   "cell_type": "markdown",
   "metadata": {},
   "source": [
    "### 2.6 Protein and carbohydrates.  \n",
    "Cases: Individual college students  \n",
    "Variables and types:  \n",
    "- Age: categorical\n",
    "- Meal Size in calories: quantitative\n",
    "- % carbs: quantitative\n",
    "- % protien: quantitative  \n",
    "\n",
    "We can use age, meal size and percentage of carbohydrates explanatory variables to guage how a college student's protein percentage increases of decreases with meals that contain different quantities of carbohydrates."
   ]
  },
  {
   "cell_type": "markdown",
   "metadata": {},
   "source": [
    "### 2.18 Bone strength.  \n",
    "**a)**"
   ]
  },
  {
   "cell_type": "code",
   "execution_count": 8,
   "metadata": {},
   "outputs": [
    {
     "data": {
      "image/png": "[encoded data removed]",
      "text/plain": [
       "Plot with title \"Bone Strength\""
      ]
     },
     "metadata": {},
     "output_type": "display_data"
    }
   ],
   "source": [
    "ids = seq(1,15)\n",
    "nd_str = c(15.7, 25.2, 17.9, 19.1, 12.0, 20.0, 12.3, \n",
    "        14.4, 15.9, 13.7, 17.7, 15.5, 14.4, 14.1, 12.3)\n",
    "d_str = c(16.3, 26.9, 18.7, 22.0, 14.8, 19.8, 13.1,\n",
    "        17.5, 20.1, 18.7, 18.7, 15.2, 16.2, 15.0, 12.9)\n",
    "bone_data_control = data.frame(\n",
    "    ids,\n",
    "    nd_str,\n",
    "    d_str\n",
    ")\n",
    "plot(bone_data_control$nd_str, bone_data_control$d_str, main=\"Bone Strength\", \n",
    "   xlab=\"Nondominant \", ylab=\"Dominant\", pch=19)"
   ]
  },
  {
   "cell_type": "markdown",
   "metadata": {},
   "source": [
    "**b)** The overall pattern seems to be an increase in dominant strength with equivalent increases in nondominant strength. There does not appear to be any striking deviations.  \n",
    "\n",
    "**c)** The form, direction and strength of the data is linear, positive and strong respectively.  \n",
    "\n",
    "**d)** There do not seem to be any outliers based on the correlation of the relationship.\n",
    "\n",
    "**e)** Yes the relationship is approximately linear."
   ]
  },
  {
   "cell_type": "markdown",
   "metadata": {},
   "source": [
    "### 2.19 Bone strength for baseball players.\n",
    "**a)**"
   ]
  },
  {
   "cell_type": "code",
   "execution_count": 12,
   "metadata": {},
   "outputs": [
    {
     "data": {
      "image/png": "[encoded data removed]",
      "text/plain": [
       "Plot with title \"Bone Strength for baseball players\""
      ]
     },
     "metadata": {},
     "output_type": "display_data"
    }
   ],
   "source": [
    "ids = seq(1,15)\n",
    "nd_str = c(17.0, 16.9, 17.7, 21.2, 21.0, 14.6, 31.5,\n",
    "          14.9, 15.1, 13.5, 13.6, 20.3, 17.3, 14.6, 22.6)\n",
    "d_str = c(19.3, 19.0, 15.2, 37.7, 40.3, 20.8, 36.9,\n",
    "         21.2, 19.4, 20.4, 17.1, 26.5, 30.3, 17.4, 35.0)\n",
    "bone_data_players = data.frame(\n",
    "    ids,\n",
    "    nd_str,\n",
    "    d_str\n",
    ")\n",
    "plot(bone_data_players$nd_str, bone_data_players$d_str, main=\"Bone Strength for baseball players\", \n",
    "   xlab=\"Nondominant \", ylab=\"Dominant\", pch=19)"
   ]
  },
  {
   "cell_type": "markdown",
   "metadata": {},
   "source": [
    "**b)** The overall pattern seems to be an increase in dominant strength with equivalent increases in nondominant strength. On the other hand, the correlation is weaker and there are deviations from the trend like ID number 22 which does not correlate with the rest of the data.\n",
    "\n",
    "**c)** The form, direction and strength of the data is linear, positive and weak respectively.  \n",
    "\n",
    "**d)** As mentioned in part b, ID number 22 is an outlier since it is glaringly distant from the rest of the data.\n",
    "\n",
    "**e)** Yes the relationship is approximately linear."
   ]
  },
  {
   "cell_type": "markdown",
   "metadata": {},
   "source": [
    "### 2.20 Compare the baseball players witht he controls.\n",
    "**a)**"
   ]
  },
  {
   "cell_type": "code",
   "execution_count": 37,
   "metadata": {},
   "outputs": [
    {
     "data": {
      "image/png": "[encoded data removed]",
      "text/plain": [
       "plot without title"
      ]
     },
     "metadata": {},
     "output_type": "display_data"
    }
   ],
   "source": [
    "library(ggplot2)\n",
    "df = data.frame(\n",
    "    x1 = bone_data_control$nd_str,\n",
    "    y1 = bone_data_control$d_str,\n",
    "    x2 = bone_data_players$nd_str,\n",
    "    y2 = bone_data_players$d_str\n",
    ")\n",
    "ggplot(df) + geom_point(aes(x = x1, y = y1), color=\"blue\", shape=3) + geom_point(aes(x = x2, y = y2), color=\"red\", shape=4) + labs(title=\"Bone Strength\",\n",
    "        x =\"Nondominant\", y = \"Dominant\")"
   ]
  },
  {
   "cell_type": "markdown",
   "metadata": {},
   "source": [
    "**b)** The baseball player group seem to have a more positive linear relationship compared to the control group since the baseball players' Dominant strength increases at a much more dramatic rate, compared to the control group, as Nondominant strength increases. At lower ends of the strength data, there isnt a large deviation between the control group and the baseball players."
   ]
  },
  {
   "cell_type": "markdown",
   "metadata": {},
   "source": [
    "### 2.28 Bone strength for baseball players.\n",
    "**a)** The relationship is non-linear, negative and strong. The births decreases linearly per internet users but the rate decreases as internet users increase.  \n",
    "\n",
    "**b)** The relationship is not strong to make that association. Even if the data was more linear and strong, we can only imply correlation and cannot guarantee causation. There is not a definitive way to say that using the internet will decrease the amount of babies born."
   ]
  },
  {
   "cell_type": "markdown",
   "metadata": {},
   "source": [
    "### 2.29 Try a log.  \n",
    "**a)**"
   ]
  },
  {
   "cell_type": "code",
   "execution_count": 48,
   "metadata": {},
   "outputs": [
    {
     "data": {
      "image/png": "[encoded data removed]",
      "text/plain": [
       "plot without title"
      ]
     },
     "metadata": {},
     "output_type": "display_data"
    }
   ],
   "source": [
    "int_users = c(4.044249813,2.693004243,3.891820298,4.248495242,3.865015252,0.104360015,1.252762968,1.098612289,1.609437912,4.343805422,4.17438727,4.094344562,3.401197382,3.80666249,4.273406646,4.025351691,3.044522438,1.945910149,0.78845736,3.987015443,0.78845736,1.609437912,0.182321557,1.722766598,3.698829785,3.465735903,3.740522687,3.145444547,4.054910493,1.945910149,3.569532696,2.63905733,3.446807893,3.572907278,1.824549292,0.09531018,3.33220451,2.079441542,2.646883766,0.262364264,2.3860343,0.982827256,2.461927984,3.465735903,2.766319109,2.890371758,2.309560707,3.33220451,1.131402111,2.197224577,3.951243719,1.098612289,2.833101573,3.737919587,1.440971922,4.060443011,3.931825633,3.633606349,0.641853886,3.526360525,4.037774211,0.693147181,-0.020202707,3.688879454,2.995732274,1.458615023,1.504077397,3.569765172,1.202972304,4.110873864,2.48490665,0.262364264,3.347444926,2.360854001,2.197224577,4.456458251,4.219507705,3.75419892,3.597312261,3.36729583,0.693147181,3.173878459,3.891820298,4.456670178,1.945910149,2.862200881,1.791759469,2.872920137,3.003759965,3.465735903,3.017085567,0.641853886,1.252762968,3.165475048,2.567254391,1.609437912,-0.124287009,3.218875825,4.010962953,3.740047741,2.48490665,2.56599061,3.761432647,2.701696727,2.442347035,2.753660712)\n",
    "births = c(2.426836055,3.709613021,2.545374397,2.545923352,2.833566223,3.518150443,3.665431691,3.759198113,2.994030827,2.94143447,2.732157276,2.128826767,3.263696215,2.722281783,2.384994229,2.933644081,2.998727783,3.147938206,3.547517482,2.653945942,3.513126278,3.575234719,3.758965062,3.556347562,2.96547923,3.011113376,2.741162553,2.276138443,2.449365824,3.357001647,3.065118401,2.986237339,3.011064138,3.128294447,3.569926985,3.426767658,3.053529372,3.297723973,3.436210537,3.647432264,3.62676466,3.636216802,3.464954347,2.879535479,3.270595029,2.882899465,3.08282698,3.62052031,3.096888966,3.105527939,2.71866038,3.650969881,3.116843099,2.549445171,3.314731311,2.292029579,2.955430977,2.506831207,3.554147341,2.811448793,2.364902399,3.825745904,2.835152639,2.497658334,3.149868668,3.613751731,3.506277858,2.442347035,3.793397115,2.997530655,3.251884978,3.875151531,3.680418763,3.154614599,3.163363115,2.658159431,2.862600801,2.972975286,2.99857822,3.211125871,3.391651969,3.176886483,2.815887647,2.500862017,3.711741123,3.606502775,3.444448424,3.003700443,3.423252372,2.897402539,3.370291339,3.789018863,3.452935577,2.473087073,3.324064326,3.064558464,3.641499545,3.281550109,2.6804049,2.862829255,3.719457155,3.799615496,2.821200299,3.631435705,3.827053179,3.367399273)\n",
    "\n",
    "\n",
    "df = data.frame(\n",
    "    x = int_users,\n",
    "    y = births \n",
    ")\n",
    "\n",
    "plot(df$x, df$y, \n",
    "   xlab=\"Log of Internet users per 100 people \", ylab=\" Log of Births per 1000 people\", pch=19)"
   ]
  },
  {
   "cell_type": "markdown",
   "metadata": {},
   "source": [
    "**b)** Applying the log seems to convert the data into a more linear relation ship than the original set of data but it made the trend weaker and the data is more spread out.  \n",
    "\n",
    "**c)** The logarithmic data is more preferable because it is more linear and therefore is more useful when attempting to extrapolate and create a trend, even though the correlation is weaker than the original data set."
   ]
  },
  {
   "cell_type": "markdown",
   "metadata": {},
   "source": [
    "### 2.30 Make another plot.\n",
    "**a)**"
   ]
  },
  {
   "cell_type": "code",
   "execution_count": 63,
   "metadata": {},
   "outputs": [
    {
     "data": {
      "text/html": [
       "<table>\n",
       "<caption>A data.frame: 106 × 2</caption>\n",
       "<thead>\n",
       "\t<tr><th scope=col>int_users_10k</th><th scope=col>births_10k</th></tr>\n",
       "\t<tr><th scope=col>&lt;dbl&gt;</th><th scope=col>&lt;dbl&gt;</th></tr>\n",
       "</thead>\n",
       "<tbody>\n",
       "\t<tr><td>0.5706836</td><td>1.1323</td></tr>\n",
       "\t<tr><td>0.1477600</td><td>4.0838</td></tr>\n",
       "\t<tr><td>0.4900000</td><td>1.2748</td></tr>\n",
       "\t<tr><td>0.7000000</td><td>1.2755</td></tr>\n",
       "\t<tr><td>0.4770400</td><td>1.7006</td></tr>\n",
       "\t<tr><td>0.0111000</td><td>3.3722</td></tr>\n",
       "\t<tr><td>0.0350000</td><td>3.9073</td></tr>\n",
       "\t<tr><td>0.0300000</td><td>4.2914</td></tr>\n",
       "\t<tr><td>0.0500000</td><td>1.9966</td></tr>\n",
       "\t<tr><td>0.7700000</td><td>1.8943</td></tr>\n",
       "\t<tr><td>0.6500000</td><td>1.5366</td></tr>\n",
       "\t<tr><td>0.6000000</td><td>0.8405</td></tr>\n",
       "\t<tr><td>0.3000000</td><td>2.6146</td></tr>\n",
       "\t<tr><td>0.4500000</td><td>1.5215</td></tr>\n",
       "\t<tr><td>0.7176570</td><td>1.0859</td></tr>\n",
       "\t<tr><td>0.5600000</td><td>1.8796</td></tr>\n",
       "\t<tr><td>0.2100000</td><td>2.0060</td></tr>\n",
       "\t<tr><td>0.0700000</td><td>2.3288</td></tr>\n",
       "\t<tr><td>0.0220000</td><td>3.4727</td></tr>\n",
       "\t<tr><td>0.5389380</td><td>1.4210</td></tr>\n",
       "\t<tr><td>0.0220000</td><td>3.3553</td></tr>\n",
       "\t<tr><td>0.0500000</td><td>3.5703</td></tr>\n",
       "\t<tr><td>0.0120000</td><td>4.2904</td></tr>\n",
       "\t<tr><td>0.0560000</td><td>3.5035</td></tr>\n",
       "\t<tr><td>0.4040000</td><td>1.9404</td></tr>\n",
       "\t<tr><td>0.3200000</td><td>2.0310</td></tr>\n",
       "\t<tr><td>0.4212000</td><td>1.5505</td></tr>\n",
       "\t<tr><td>0.2323000</td><td>0.9739</td></tr>\n",
       "\t<tr><td>0.5768000</td><td>1.1581</td></tr>\n",
       "\t<tr><td>0.0700000</td><td>2.8703</td></tr>\n",
       "\t<tr><td>...</td><td>...</td></tr>\n",
       "\t<tr><td>0.680000000</td><td>1.7507</td></tr>\n",
       "\t<tr><td>0.427000000</td><td>1.9550</td></tr>\n",
       "\t<tr><td>0.365000000</td><td>2.0057</td></tr>\n",
       "\t<tr><td>0.290000000</td><td>2.4807</td></tr>\n",
       "\t<tr><td>0.020000000</td><td>2.9715</td></tr>\n",
       "\t<tr><td>0.239000000</td><td>2.3972</td></tr>\n",
       "\t<tr><td>0.490000000</td><td>1.6708</td></tr>\n",
       "\t<tr><td>0.862000000</td><td>1.2193</td></tr>\n",
       "\t<tr><td>0.070000000</td><td>4.0925</td></tr>\n",
       "\t<tr><td>0.175000000</td><td>3.6837</td></tr>\n",
       "\t<tr><td>0.060000000</td><td>3.1326</td></tr>\n",
       "\t<tr><td>0.176885960</td><td>2.0160</td></tr>\n",
       "\t<tr><td>0.201612000</td><td>3.0669</td></tr>\n",
       "\t<tr><td>0.320000000</td><td>1.8127</td></tr>\n",
       "\t<tr><td>0.204316581</td><td>2.9087</td></tr>\n",
       "\t<tr><td>0.019000000</td><td>4.4213</td></tr>\n",
       "\t<tr><td>0.035000000</td><td>3.1593</td></tr>\n",
       "\t<tr><td>0.237000000</td><td>1.1859</td></tr>\n",
       "\t<tr><td>0.130300000</td><td>2.7773</td></tr>\n",
       "\t<tr><td>0.050000000</td><td>2.1425</td></tr>\n",
       "\t<tr><td>0.008831263</td><td>3.8149</td></tr>\n",
       "\t<tr><td>0.250000000</td><td>2.6617</td></tr>\n",
       "\t<tr><td>0.552000000</td><td>1.4591</td></tr>\n",
       "\t<tr><td>0.421000000</td><td>1.7511</td></tr>\n",
       "\t<tr><td>0.120000000</td><td>4.1242</td></tr>\n",
       "\t<tr><td>0.130135433</td><td>4.4684</td></tr>\n",
       "\t<tr><td>0.430100000</td><td>1.6797</td></tr>\n",
       "\t<tr><td>0.149050000</td><td>3.7767</td></tr>\n",
       "\t<tr><td>0.115000000</td><td>4.5927</td></tr>\n",
       "\t<tr><td>0.157000000</td><td>2.9003</td></tr>\n",
       "</tbody>\n",
       "</table>\n"
      ],
      "text/latex": [
       "A data.frame: 106 × 2\n",
       "\\begin{tabular}{r|ll}\n",
       " int\\_users\\_10k & births\\_10k\\\\\n",
       " <dbl> & <dbl>\\\\\n",
       "\\hline\n",
       "\t 0.5706836 & 1.1323\\\\\n",
       "\t 0.1477600 & 4.0838\\\\\n",
       "\t 0.4900000 & 1.2748\\\\\n",
       "\t 0.7000000 & 1.2755\\\\\n",
       "\t 0.4770400 & 1.7006\\\\\n",
       "\t 0.0111000 & 3.3722\\\\\n",
       "\t 0.0350000 & 3.9073\\\\\n",
       "\t 0.0300000 & 4.2914\\\\\n",
       "\t 0.0500000 & 1.9966\\\\\n",
       "\t 0.7700000 & 1.8943\\\\\n",
       "\t 0.6500000 & 1.5366\\\\\n",
       "\t 0.6000000 & 0.8405\\\\\n",
       "\t 0.3000000 & 2.6146\\\\\n",
       "\t 0.4500000 & 1.5215\\\\\n",
       "\t 0.7176570 & 1.0859\\\\\n",
       "\t 0.5600000 & 1.8796\\\\\n",
       "\t 0.2100000 & 2.0060\\\\\n",
       "\t 0.0700000 & 2.3288\\\\\n",
       "\t 0.0220000 & 3.4727\\\\\n",
       "\t 0.5389380 & 1.4210\\\\\n",
       "\t 0.0220000 & 3.3553\\\\\n",
       "\t 0.0500000 & 3.5703\\\\\n",
       "\t 0.0120000 & 4.2904\\\\\n",
       "\t 0.0560000 & 3.5035\\\\\n",
       "\t 0.4040000 & 1.9404\\\\\n",
       "\t 0.3200000 & 2.0310\\\\\n",
       "\t 0.4212000 & 1.5505\\\\\n",
       "\t 0.2323000 & 0.9739\\\\\n",
       "\t 0.5768000 & 1.1581\\\\\n",
       "\t 0.0700000 & 2.8703\\\\\n",
       "\t ... & ...\\\\\n",
       "\t 0.680000000 & 1.7507\\\\\n",
       "\t 0.427000000 & 1.9550\\\\\n",
       "\t 0.365000000 & 2.0057\\\\\n",
       "\t 0.290000000 & 2.4807\\\\\n",
       "\t 0.020000000 & 2.9715\\\\\n",
       "\t 0.239000000 & 2.3972\\\\\n",
       "\t 0.490000000 & 1.6708\\\\\n",
       "\t 0.862000000 & 1.2193\\\\\n",
       "\t 0.070000000 & 4.0925\\\\\n",
       "\t 0.175000000 & 3.6837\\\\\n",
       "\t 0.060000000 & 3.1326\\\\\n",
       "\t 0.176885960 & 2.0160\\\\\n",
       "\t 0.201612000 & 3.0669\\\\\n",
       "\t 0.320000000 & 1.8127\\\\\n",
       "\t 0.204316581 & 2.9087\\\\\n",
       "\t 0.019000000 & 4.4213\\\\\n",
       "\t 0.035000000 & 3.1593\\\\\n",
       "\t 0.237000000 & 1.1859\\\\\n",
       "\t 0.130300000 & 2.7773\\\\\n",
       "\t 0.050000000 & 2.1425\\\\\n",
       "\t 0.008831263 & 3.8149\\\\\n",
       "\t 0.250000000 & 2.6617\\\\\n",
       "\t 0.552000000 & 1.4591\\\\\n",
       "\t 0.421000000 & 1.7511\\\\\n",
       "\t 0.120000000 & 4.1242\\\\\n",
       "\t 0.130135433 & 4.4684\\\\\n",
       "\t 0.430100000 & 1.6797\\\\\n",
       "\t 0.149050000 & 3.7767\\\\\n",
       "\t 0.115000000 & 4.5927\\\\\n",
       "\t 0.157000000 & 2.9003\\\\\n",
       "\\end{tabular}\n"
      ],
      "text/markdown": [
       "\n",
       "A data.frame: 106 × 2\n",
       "\n",
       "| int_users_10k &lt;dbl&gt; | births_10k &lt;dbl&gt; |\n",
       "|---|---|\n",
       "| 0.5706836 | 1.1323 |\n",
       "| 0.1477600 | 4.0838 |\n",
       "| 0.4900000 | 1.2748 |\n",
       "| 0.7000000 | 1.2755 |\n",
       "| 0.4770400 | 1.7006 |\n",
       "| 0.0111000 | 3.3722 |\n",
       "| 0.0350000 | 3.9073 |\n",
       "| 0.0300000 | 4.2914 |\n",
       "| 0.0500000 | 1.9966 |\n",
       "| 0.7700000 | 1.8943 |\n",
       "| 0.6500000 | 1.5366 |\n",
       "| 0.6000000 | 0.8405 |\n",
       "| 0.3000000 | 2.6146 |\n",
       "| 0.4500000 | 1.5215 |\n",
       "| 0.7176570 | 1.0859 |\n",
       "| 0.5600000 | 1.8796 |\n",
       "| 0.2100000 | 2.0060 |\n",
       "| 0.0700000 | 2.3288 |\n",
       "| 0.0220000 | 3.4727 |\n",
       "| 0.5389380 | 1.4210 |\n",
       "| 0.0220000 | 3.3553 |\n",
       "| 0.0500000 | 3.5703 |\n",
       "| 0.0120000 | 4.2904 |\n",
       "| 0.0560000 | 3.5035 |\n",
       "| 0.4040000 | 1.9404 |\n",
       "| 0.3200000 | 2.0310 |\n",
       "| 0.4212000 | 1.5505 |\n",
       "| 0.2323000 | 0.9739 |\n",
       "| 0.5768000 | 1.1581 |\n",
       "| 0.0700000 | 2.8703 |\n",
       "| ... | ... |\n",
       "| 0.680000000 | 1.7507 |\n",
       "| 0.427000000 | 1.9550 |\n",
       "| 0.365000000 | 2.0057 |\n",
       "| 0.290000000 | 2.4807 |\n",
       "| 0.020000000 | 2.9715 |\n",
       "| 0.239000000 | 2.3972 |\n",
       "| 0.490000000 | 1.6708 |\n",
       "| 0.862000000 | 1.2193 |\n",
       "| 0.070000000 | 4.0925 |\n",
       "| 0.175000000 | 3.6837 |\n",
       "| 0.060000000 | 3.1326 |\n",
       "| 0.176885960 | 2.0160 |\n",
       "| 0.201612000 | 3.0669 |\n",
       "| 0.320000000 | 1.8127 |\n",
       "| 0.204316581 | 2.9087 |\n",
       "| 0.019000000 | 4.4213 |\n",
       "| 0.035000000 | 3.1593 |\n",
       "| 0.237000000 | 1.1859 |\n",
       "| 0.130300000 | 2.7773 |\n",
       "| 0.050000000 | 2.1425 |\n",
       "| 0.008831263 | 3.8149 |\n",
       "| 0.250000000 | 2.6617 |\n",
       "| 0.552000000 | 1.4591 |\n",
       "| 0.421000000 | 1.7511 |\n",
       "| 0.120000000 | 4.1242 |\n",
       "| 0.130135433 | 4.4684 |\n",
       "| 0.430100000 | 1.6797 |\n",
       "| 0.149050000 | 3.7767 |\n",
       "| 0.115000000 | 4.5927 |\n",
       "| 0.157000000 | 2.9003 |\n",
       "\n"
      ],
      "text/plain": [
       "    int_users_10k births_10k\n",
       "1   0.5706836     1.1323    \n",
       "2   0.1477600     4.0838    \n",
       "3   0.4900000     1.2748    \n",
       "4   0.7000000     1.2755    \n",
       "5   0.4770400     1.7006    \n",
       "6   0.0111000     3.3722    \n",
       "7   0.0350000     3.9073    \n",
       "8   0.0300000     4.2914    \n",
       "9   0.0500000     1.9966    \n",
       "10  0.7700000     1.8943    \n",
       "11  0.6500000     1.5366    \n",
       "12  0.6000000     0.8405    \n",
       "13  0.3000000     2.6146    \n",
       "14  0.4500000     1.5215    \n",
       "15  0.7176570     1.0859    \n",
       "16  0.5600000     1.8796    \n",
       "17  0.2100000     2.0060    \n",
       "18  0.0700000     2.3288    \n",
       "19  0.0220000     3.4727    \n",
       "20  0.5389380     1.4210    \n",
       "21  0.0220000     3.3553    \n",
       "22  0.0500000     3.5703    \n",
       "23  0.0120000     4.2904    \n",
       "24  0.0560000     3.5035    \n",
       "25  0.4040000     1.9404    \n",
       "26  0.3200000     2.0310    \n",
       "27  0.4212000     1.5505    \n",
       "28  0.2323000     0.9739    \n",
       "29  0.5768000     1.1581    \n",
       "30  0.0700000     2.8703    \n",
       "... ...           ...       \n",
       "77  0.680000000   1.7507    \n",
       "78  0.427000000   1.9550    \n",
       "79  0.365000000   2.0057    \n",
       "80  0.290000000   2.4807    \n",
       "81  0.020000000   2.9715    \n",
       "82  0.239000000   2.3972    \n",
       "83  0.490000000   1.6708    \n",
       "84  0.862000000   1.2193    \n",
       "85  0.070000000   4.0925    \n",
       "86  0.175000000   3.6837    \n",
       "87  0.060000000   3.1326    \n",
       "88  0.176885960   2.0160    \n",
       "89  0.201612000   3.0669    \n",
       "90  0.320000000   1.8127    \n",
       "91  0.204316581   2.9087    \n",
       "92  0.019000000   4.4213    \n",
       "93  0.035000000   3.1593    \n",
       "94  0.237000000   1.1859    \n",
       "95  0.130300000   2.7773    \n",
       "96  0.050000000   2.1425    \n",
       "97  0.008831263   3.8149    \n",
       "98  0.250000000   2.6617    \n",
       "99  0.552000000   1.4591    \n",
       "100 0.421000000   1.7511    \n",
       "101 0.120000000   4.1242    \n",
       "102 0.130135433   4.4684    \n",
       "103 0.430100000   1.6797    \n",
       "104 0.149050000   3.7767    \n",
       "105 0.115000000   4.5927    \n",
       "106 0.157000000   2.9003    "
      ]
     },
     "metadata": {},
     "output_type": "display_data"
    }
   ],
   "source": [
    "int_users = c(57.06835805,14.776,49,70,47.704,1.11,3.5,3,5,77,65,60,30,45,71.7657,56,21,7,2.2,53.8938,2.2,5,1.2,5.6,40.4,32,42.12,23.23,57.68,7,35.5,14,31.4,35.62,6.2,1.1,28,8,14.11,1.3,10.8703,2.672,11.7274,32,15.9,18,10.07,28,3.1,9,52,3,16.9981,42.0105,4.2248,58,51,37.84906772,1.9,34,56.7,2,0.98,40,20,4.3,4.5,35.50825383,3.33,61,12,1.3,28.43,10.6,9,86.18173386,68,42.7,36.5,29,2,23.9,49,86.2,7,17.5,6,17.68859598,20.1612,32,20.43165813,1.9,3.5,23.7,13.03,5,0.883126339,25,55.2,42.1,12,13.01354333,43.01,14.905,11.5,15.7)\n",
    "births = c(11.323,40.838,12.748,12.755,17.006,33.722,39.073,42.914,19.966,18.943,15.366,8.405,26.146,15.215,10.859,18.796,20.06,23.288,34.727,14.21,33.553,35.703,42.904,35.035,19.404,20.31,15.505,9.739,11.581,28.703,21.437,19.811,20.309,22.835,35.514,30.777,21.19,27.051,31.069,38.376,37.591,37.948,31.975,17.806,26.327,17.866,21.82,37.357,22.129,22.321,15.16,38.512,22.575,12.8,27.515,9.895,19.21,12.266,34.958,16.634,10.643,45.867,17.033,12.154,23.333,37.105,33.324,11.5,44.407,20.036,25.839,48.19,39.663,23.444,23.65,14.27,17.507,19.55,20.057,24.807,29.715,23.972,16.708,12.193,40.925,36.837,31.326,20.16,30.669,18.127,29.087,44.213,31.593,11.859,27.773,21.425,38.149,26.617,14.591,17.511,41.242,44.684,16.797,37.767,45.927,29.003)\n",
    "\n",
    "int_users_10k = int_users / 100\n",
    "births_10k = births / 10\n",
    "\n",
    "df = data.frame(\n",
    "    int_users_10k = int_users_10k,\n",
    "    births_10k = births_10k \n",
    ")\n",
    "df"
   ]
  },
  {
   "cell_type": "markdown",
   "metadata": {},
   "source": [
    "**b)** These are linear transformations respective to each axis because each value is divided by the same factor and therefore every data point is translated by the same amount in the direction respective to the axis.  \n",
    "\n",
    "**c)**"
   ]
  },
  {
   "cell_type": "code",
   "execution_count": 64,
   "metadata": {
    "scrolled": false
   },
   "outputs": [
    {
     "data": {
      "image/png": "[encoded data removed]",
      "text/plain": [
       "plot without title"
      ]
     },
     "metadata": {},
     "output_type": "display_data"
    }
   ],
   "source": [
    "plot(df$int_users_10k, df$births_10k, \n",
    "   xlab=\"Internet users per 10000 people \", ylab=\"Births per 10000 people\", pch=19)\n"
   ]
  },
  {
   "cell_type": "markdown",
   "metadata": {},
   "source": [
    "**d)** The direction is largely the same but it is more obvious that the relationship is non-linear and the trend is much stronger because of the transformation to an equal scale on the x and y axes.  \n",
    "\n",
    "**e)** The analysts of the World Bank may have chosen the scale in Figure 2.11 because it is more linear compared to the scale above so regression and extrapolation is easier."
   ]
  }
 ],
 "metadata": {
  "kernelspec": {
   "display_name": "R",
   "language": "R",
   "name": "ir"
  },
  "language_info": {
   "codemirror_mode": "r",
   "file_extension": ".r",
   "mimetype": "text/x-r-source",
   "name": "R",
   "pygments_lexer": "r",
   "version": "3.6.0"
  }
 },
 "nbformat": 4,
 "nbformat_minor": 2
}

{
 "cells": [
  {
   "cell_type": "markdown",
   "metadata": {},
   "source": [
    "### 2.5 High click counts on twitter.  \n",
    "**a)** The cases are the individual twitter users.  \n",
    "**b)**  \n",
    "- Number of click counts: quantitative\n",
    "- Time of day: quantitative\n",
    "- Day of the week: categorical\n",
    "- Gender: categorical\n",
    "- Length of tweet: quantitative  \n",
    "\n",
    "**c)**  \n",
    "- Number of click counts: Response\n",
    "- Time of day: Explanatory\n",
    "- Day of the week: Explanatory\n",
    "- Gender: Explanatory\n",
    "- Length of tweet: Explanatory"
   ]
  },
  {
   "cell_type": "markdown",
   "metadata": {},
   "source": [
    "### 2.6 Protein and carbohydrates.  \n",
    "Cases: Individual college students  \n",
    "Variables and types:  \n",
    "- Age: categorical\n",
    "- Meal Size in calories: quantitative\n",
    "- % carbs: quantitative\n",
    "- % protien: quantitative  \n",
    "\n",
    "We can use age, meal size and percentage of carbohydrates explanatory variables to guage how a college student's protein percentage increases of decreases with meals that contain different quantities of carbohydrates."
   ]
  },
  {
   "cell_type": "markdown",
   "metadata": {},
   "source": [
    "### 2.18 Bone strength.  \n",
    "**a)**"
   ]
  },
  {
   "cell_type": "code",
   "execution_count": 14,
   "metadata": {},
   "outputs": [
    {
     "data": {
      "image/png": "[encoded data removed]",
      "text/plain": [
       "Plot with title \"Bone Strength\""
      ]
     },
     "metadata": {},
     "output_type": "display_data"
    }
   ],
   "source": [
    "ids = seq(1,15)\n",
    "nd_str = c(15.7, 25.2, 17.9, 19.1, 12.0, 20.0, 12.3, \n",
    "        14.4, 15.9, 13.7, 17.7, 15.5, 14.4, 14.1, 12.3)\n",
    "d_str = c(16.3, 26.9, 18.7, 22.0, 14.8, 19.8, 13.1,\n",
    "        17.5, 20.1, 18.7, 18.7, 15.2, 16.2, 15.0, 12.9)\n",
    "bone_data = data.frame(\n",
    "    ids,\n",
    "    nd_str,\n",
    "    d_str\n",
    ")\n",
    "plot(bone_data$nd_str, bone_data$d_str, main=\"Bone Strength\", \n",
    "   xlab=\"Nondominant \", ylab=\"Dominant\", pch=19)"
   ]
  },
  {
   "cell_type": "markdown",
   "metadata": {},
   "source": [
    "**b)** The overall pattern seems to be an increase in dominant strength with equivalent increases in nondominant strength. There do nto appeare to be any striking deviations.  \n",
    "\n",
    "**c)** The from, direction and strength of the data is linear, positive and strong respectively.  \n",
    "\n",
    "**d)** There do not seem to be any outliers based on the correlation of the relationship.\n",
    "\n",
    "**e)** Yes the relationship is approximately linear."
   ]
  },
  {
   "cell_type": "markdown",
   "metadata": {},
   "source": [
    "### 2.18 Bone strength for baseball players.\n",
    "**a)**"
   ]
  },
  {
   "cell_type": "code",
   "execution_count": 17,
   "metadata": {},
   "outputs": [
    {
     "data": {
      "image/png": "[encoded data removed]",
      "text/plain": [
       "Plot with title \"Bone Strength for baseball players\""
      ]
     },
     "metadata": {},
     "output_type": "display_data"
    }
   ],
   "source": [
    "ids = seq(1,15)\n",
    "nd_str = c(17.0, 16.9, 17.7, 21.2, 21.0, 14.6, 31.5,\n",
    "          14.9, 15.1, 13.5, 13.6, 20.3, 17.3, 14.6, 22.6)\n",
    "d_str = c(19.3, 19.0, 15.2, 37.7, 40.3, 20.8, 36.9,\n",
    "         21.2, 19.4, 20.4, 17.1, 26.5, 30.3, 17.4, 35.0)\n",
    "bone_data = data.frame(\n",
    "    ids,\n",
    "    nd_str,\n",
    "    d_str\n",
    ")\n",
    "plot(bone_data$nd_str, bone_data$d_str, main=\"Bone Strength for baseball players\", \n",
    "   xlab=\"Nondominant \", ylab=\"Dominant\", pch=19)"
   ]
  },
  {
   "cell_type": "code",
   "execution_count": null,
   "metadata": {},
   "outputs": [],
   "source": []
  }
 ],
 "metadata": {
  "kernelspec": {
   "display_name": "R",
   "language": "R",
   "name": "ir"
  },
  "language_info": {
   "codemirror_mode": "r",
   "file_extension": ".r",
   "mimetype": "text/x-r-source",
   "name": "R",
   "pygments_lexer": "r",
   "version": "3.6.0"
  }
 },
 "nbformat": 4,
 "nbformat_minor": 2
}

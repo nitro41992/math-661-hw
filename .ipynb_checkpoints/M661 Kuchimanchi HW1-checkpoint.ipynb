{
 "cells": [
  {
   "cell_type": "markdown",
   "metadata": {},
   "source": [
    "### 1.9 Employee application data\n",
    "\n",
    "**a)** The cases in the data file are the individual employees in the company. Every record is a different employee.  </br>\n",
    "\n",
    "**b)**\n",
    "- employee identification number: **label**\n",
    "- last name: **categorical**\n",
    "- first name: **categorical**\n",
    "- middle initial: **categorical**\n",
    "- department: **categorical**\n",
    "- number of years with the company: **quantitative**\n",
    "- salary: **quantitative**\n",
    "- education: **categorical**\n",
    "- age: **quatitative**\n",
    "\n",
    "**c)**  \n",
    "\n",
    "| employee identification number | last name | first name | middle initial | department | number of years with the company | salary | education | age |\n",
    "| ----------- | ----------- | ----------- | ----------- | ----------- | ----------- | ----------- | ----------- | ----------- |\n",
    "| 001 | Kuchimanchi | Narasimha | N | Product Development | 3 | 93,000 | college degree | 27 |\n",
    "| 002 | Laney | Sierra | E | Marketing | 4 | 93,000 | college degree | 24 |\n",
    "| 003 | Grijalva | Carlos | K | Engineering | 2 | 93,000 | some college | 30 |\n",
    "| 004 | Hasani | Aliasker | J | Engineering | 1 | 93,000 | college degree | 27 |\n",
    "| 005 | Thaker | Madhav | M | Data Analysis | 2 | 93,000 | college degree | 26 |"
   ]
  },
  {
   "cell_type": "markdown",
   "metadata": {},
   "source": [
    "### 1.14  Attending college in your state or in another state\n",
    "**a)** The cases identify the states in the U.S. and each row is defined by the total number of students from the state who went to college and the total number of students who went to college within the state.  \n",
    "\n",
    "**b)** The state is the label becuase the name of a state distinctly identifies each row.  \n",
    "\n",
    "**c)**  \n",
    "- state: **categorical**\n",
    "- number of students within the state who attend college: **quantitative**\n",
    "- number of students who attend college in their home state: **quantitative**  \n",
    "\n",
    "**d)** The number of students within a state who attend college can be used to explain the most and least higher educated states respectively. The number of students who attend college in their home state can be used to explain the average amount of students who stay instate across all the states.\n",
    "\n",
    "**e)** The number of students in each state who attend college in the state\n",
    "divided by the total number of students from the state who attend college would explain the state's ability to retain students seeking higher education within their own state."
   ]
  },
  {
   "cell_type": "markdown",
   "metadata": {},
   "source": [
    "### 1.15 Alcohol-impaired driving fatalities\n"
   ]
  },
  {
   "cell_type": "code",
   "execution_count": null,
   "metadata": {},
   "outputs": [],
   "source": []
  }
 ],
 "metadata": {
  "kernelspec": {
   "display_name": "R",
   "language": "R",
   "name": "ir"
  },
  "language_info": {
   "codemirror_mode": "r",
   "file_extension": ".r",
   "mimetype": "text/x-r-source",
   "name": "R",
   "pygments_lexer": "r",
   "version": "3.5.1"
  }
 },
 "nbformat": 4,
 "nbformat_minor": 2
}

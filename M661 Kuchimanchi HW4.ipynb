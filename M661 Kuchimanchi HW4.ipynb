{
 "cells": [
  {
   "cell_type": "markdown",
   "metadata": {},
   "source": [
    "### 4.2 Are these phenomena random?  \n",
    "**a)** Random because there is variability in the weather that can only be predicted but not determined.  \n",
    "**b)** This is not random because it is incremented and determined based on assignment from the school/university.  \n",
    "**c)** Random because there is variability and we cannot determine that the card chosen is definitely an Ace."
   ]
  },
  {
   "cell_type": "markdown",
   "metadata": {},
   "source": [
    "### 4.3 Interpret the probabilities.  \n",
    "**a)** The probability in this case can be obtained based on previous observations of the weather at the same time of the previous day or at the same time, on the same day, of the previous year in order to predict the weather.  \n",
    "**b)** The term probability does not make sense because there is a definitive pattern associated with an identification number.  \n",
    "**c)** The probability can be obtained by observing outcomes of selecting cards for a long set of trails or by calculating it based on the number of Aces in a deck and the total number of cards."
   ]
  },
  {
   "cell_type": "markdown",
   "metadata": {},
   "source": [
    "### 4.4 Are these trials independent?  \n",
    "**a)** Not independent because the probability of the weather on Groundhog day will change given the weather on the same day of the previous year.  \n",
    "**b)** Not independent because the probability of the number of tweets on Monday will change given the number of tweets of the prvious Monday.  \n",
    "**c)** Independent because the probability of the grade of a given class will not change given the grade of a different class."
   ]
  },
  {
   "cell_type": "markdown",
   "metadata": {},
   "source": [
    "### 4.20 Probability rules.  \n",
    "**a)** Rule 4: Complement rule is used and suggests that the probability of something not happening is 1 minus the probability of something happening. Rule 1 and 2 are also assumed because we assume that the probability is between 0 and 1 for the event and that the sample space is equal to 1."
   ]
  },
  {
   "cell_type": "code",
   "execution_count": 7,
   "metadata": {},
   "outputs": [
    {
     "name": "stdout",
     "output_type": "stream",
     "text": [
      "Probability that A does not occur:"
     ]
    },
    {
     "data": {
      "text/html": [
       "0.776"
      ],
      "text/latex": [
       "0.776"
      ],
      "text/markdown": [
       "0.776"
      ],
      "text/plain": [
       "[1] 0.776"
      ]
     },
     "metadata": {},
     "output_type": "display_data"
    }
   ],
   "source": [
    "A = 0.224\n",
    "PAc = 1 - 0.224\n",
    "cat('Probability that A does not occur:')\n",
    "PAc"
   ]
  },
  {
   "cell_type": "markdown",
   "metadata": {},
   "source": [
    "**b)** Rule 3: Addition rule is used because we can assume that both scenarios are disjoint of each other. Again, rule 1 and 2 are also assumed because we assume that the probability is between 0 and 1 for the event and that the sample space is equal to 1."
   ]
  },
  {
   "cell_type": "code",
   "execution_count": 5,
   "metadata": {},
   "outputs": [
    {
     "name": "stdout",
     "output_type": "stream",
     "text": [
      "Probability of same outcome of three tosses:"
     ]
    },
    {
     "data": {
      "text/html": [
       "0.25"
      ],
      "text/latex": [
       "0.25"
      ],
      "text/markdown": [
       "0.25"
      ],
      "text/plain": [
       "[1] 0.25"
      ]
     },
     "metadata": {},
     "output_type": "display_data"
    }
   ],
   "source": [
    "PofHeads = 1/8\n",
    "PofTails = 1/8\n",
    "cat('Probability of same outcome of three tosses:')\n",
    "PofHeads + PofTails"
   ]
  },
  {
   "cell_type": "markdown",
   "metadata": {},
   "source": [
    "**c)** The Complement rule and the Multiplication rule both apply here. The complement rule is used to determine the probability of atleast one heads occuring which is the opposite of no heads occuring. The multiplication rule is used to determine the probability of both independent events occuring together."
   ]
  },
  {
   "cell_type": "code",
   "execution_count": 6,
   "metadata": {},
   "outputs": [
    {
     "name": "stdout",
     "output_type": "stream",
     "text": [
      "Probability of atleast one head and one tail:"
     ]
    },
    {
     "data": {
      "text/html": [
       "0.77"
      ],
      "text/latex": [
       "0.77"
      ],
      "text/markdown": [
       "0.77"
      ],
      "text/plain": [
       "[1] 0.77"
      ]
     },
     "metadata": {},
     "output_type": "display_data"
    }
   ],
   "source": [
    "PofOneHeads = 1 - PofHeads\n",
    "PofOneTails = 1 - PofTails\n",
    "cat('Probability of atleast one head and one tail:')\n",
    "round(PofOneHeads * PofOneTails, 2)"
   ]
  },
  {
   "cell_type": "markdown",
   "metadata": {},
   "source": [
    "**d)** No this cannot happen because the probabilites add to greater than one and because they are disjoint, it violates Rule 2"
   ]
  },
  {
   "cell_type": "markdown",
   "metadata": {},
   "source": [
    "**e)** No, this violates Rule 1 that says that any event A has to be between, or equal to, 0 and 1."
   ]
  },
  {
   "cell_type": "markdown",
   "metadata": {},
   "source": [
    "### 4.29 Distribution of blood types.  \n",
    "**a)**"
   ]
  },
  {
   "cell_type": "code",
   "execution_count": 7,
   "metadata": {},
   "outputs": [
    {
     "name": "stdout",
     "output_type": "stream",
     "text": [
      "Probability of Blood Type AB:"
     ]
    },
    {
     "data": {
      "text/html": [
       "0.03"
      ],
      "text/latex": [
       "0.03"
      ],
      "text/markdown": [
       "0.03"
      ],
      "text/plain": [
       "[1] 0.03"
      ]
     },
     "metadata": {},
     "output_type": "display_data"
    }
   ],
   "source": [
    "PofAB = 1 - (0.42 + 0.11 + 0.44)\n",
    "cat('Probability of Blood Type AB:')\n",
    "PofAB"
   ]
  },
  {
   "cell_type": "markdown",
   "metadata": {},
   "source": [
    "**b)**"
   ]
  },
  {
   "cell_type": "code",
   "execution_count": 8,
   "metadata": {},
   "outputs": [
    {
     "name": "stdout",
     "output_type": "stream",
     "text": [
      "Probability of random person being able to donate:"
     ]
    },
    {
     "data": {
      "text/html": [
       "0.55"
      ],
      "text/latex": [
       "0.55"
      ],
      "text/markdown": [
       "0.55"
      ],
      "text/plain": [
       "[1] 0.55"
      ]
     },
     "metadata": {},
     "output_type": "display_data"
    }
   ],
   "source": [
    "PofRand = 0.44 + 0.11\n",
    "cat('Probability of random person being able to donate:')\n",
    "PofRand"
   ]
  },
  {
   "cell_type": "markdown",
   "metadata": {},
   "source": [
    "### 4.30 Blood types in Ireland."
   ]
  },
  {
   "cell_type": "code",
   "execution_count": 10,
   "metadata": {},
   "outputs": [
    {
     "name": "stdout",
     "output_type": "stream",
     "text": [
      "Probability they both have type O:"
     ]
    },
    {
     "data": {
      "text/html": [
       "0.23"
      ],
      "text/latex": [
       "0.23"
      ],
      "text/markdown": [
       "0.23"
      ],
      "text/plain": [
       "[1] 0.23"
      ]
     },
     "metadata": {},
     "output_type": "display_data"
    },
    {
     "name": "stdout",
     "output_type": "stream",
     "text": [
      "Probability of the same blood type:"
     ]
    },
    {
     "data": {
      "text/html": [
       "0.06"
      ],
      "text/latex": [
       "0.06"
      ],
      "text/markdown": [
       "0.06"
      ],
      "text/plain": [
       "[1] 0.06"
      ]
     },
     "metadata": {},
     "output_type": "display_data"
    }
   ],
   "source": [
    "cat('Probability they both have type O:')\n",
    "PofOIre = 0.52\n",
    "PofOUSA = 0.44\n",
    "round(PofOIre * PofOUSA, 2)\n",
    "\n",
    "cat('Probability of the same blood type:')\n",
    "PofBloodType = 1/4\n",
    "round((PofBloodType)^2, 2)"
   ]
  },
  {
   "cell_type": "markdown",
   "metadata": {},
   "source": [
    "### 4.50 Make a graphical display."
   ]
  },
  {
   "cell_type": "code",
   "execution_count": 32,
   "metadata": {},
   "outputs": [
    {
     "data": {
      "image/png": "[encoded data removed]",
      "text/plain": [
       "Plot with title \"Probability Histogram\""
      ]
     },
     "metadata": {},
     "output_type": "display_data"
    }
   ],
   "source": [
    "X = seq(from = 1, to = 6, by = 1)\n",
    "p = c(5, 5, 13, 26, 36, 15)\n",
    "p = p/100\n",
    "barplot(p, \n",
    "        space=0, \n",
    "        names.arg = X, \n",
    "        main = 'Probability Histogram',\n",
    "        xlab = 'Outcomes',\n",
    "        ylab = 'Probability')"
   ]
  },
  {
   "cell_type": "markdown",
   "metadata": {},
   "source": [
    "### 4.60 Nonstandard dice."
   ]
  },
  {
   "cell_type": "code",
   "execution_count": 2,
   "metadata": {},
   "outputs": [
    {
     "data": {
      "image/png": "[encoded data removed]",
      "text/plain": [
       "Plot with title \"Probability of Dots\""
      ]
     },
     "metadata": {},
     "output_type": "display_data"
    },
    {
     "data": {
      "image/png": "[encoded data removed]",
      "text/plain": [
       "Plot with title \"Density Curve of Dots\""
      ]
     },
     "metadata": {},
     "output_type": "display_data"
    }
   ],
   "source": [
    "di1 = c(1, 2, 3, 4, 5, 6)\n",
    "di2 = c(0, 0, 0, 6, 6, 6)\n",
    "\n",
    "sum = c()\n",
    "for (x in di1) {\n",
    "    sum = append(sum, di1[x] + di2)\n",
    "}\n",
    "x = data.frame(table(sum))\n",
    "f = x$Freq / length(sum)\n",
    "\n",
    "plot(f, main='Probability of Dots', xlab='Dot Count', ylab='Probability')\n",
    "plot(density(f), main='Density Curve of Dots')"
   ]
  },
  {
   "cell_type": "markdown",
   "metadata": {},
   "source": [
    "### 4.74 Find some means.  \n",
    "**a)**"
   ]
  },
  {
   "cell_type": "code",
   "execution_count": 4,
   "metadata": {},
   "outputs": [
    {
     "name": "stdout",
     "output_type": "stream",
     "text": [
      "Mean of Z: 202"
     ]
    }
   ],
   "source": [
    "MuX = 20 \n",
    "MuY = 40\n",
    "StdevX = 5\n",
    "StdevY = 10\n",
    "\n",
    "\n",
    "MeanZ = 2 + 10*MuX\n",
    "cat('Mean of Z:', MeanZ)"
   ]
  },
  {
   "cell_type": "markdown",
   "metadata": {},
   "source": [
    "**b)**"
   ]
  },
  {
   "cell_type": "code",
   "execution_count": 5,
   "metadata": {},
   "outputs": [
    {
     "name": "stdout",
     "output_type": "stream",
     "text": [
      "Mean of Z: 198"
     ]
    }
   ],
   "source": [
    "MeanZ = 10*MuX - 2\n",
    "cat('Mean of Z:', MeanZ)"
   ]
  },
  {
   "cell_type": "markdown",
   "metadata": {},
   "source": [
    "**c)**"
   ]
  },
  {
   "cell_type": "code",
   "execution_count": 6,
   "metadata": {},
   "outputs": [
    {
     "name": "stdout",
     "output_type": "stream",
     "text": [
      "Mean of Z: 60"
     ]
    }
   ],
   "source": [
    "MeanZ = MuX + MuY\n",
    "cat('Mean of Z:', MeanZ)"
   ]
  },
  {
   "cell_type": "markdown",
   "metadata": {},
   "source": [
    "**d)**"
   ]
  },
  {
   "cell_type": "code",
   "execution_count": 7,
   "metadata": {},
   "outputs": [
    {
     "name": "stdout",
     "output_type": "stream",
     "text": [
      "Mean of Z: -20"
     ]
    }
   ],
   "source": [
    "MeanZ = MuX - MuY\n",
    "cat('Mean of Z:', MeanZ)"
   ]
  },
  {
   "cell_type": "code",
   "execution_count": 8,
   "metadata": {},
   "outputs": [
    {
     "name": "stdout",
     "output_type": "stream",
     "text": [
      "Mean of Z: -140"
     ]
    }
   ],
   "source": [
    "MeanZ = -3*MuX - 2*MuY\n",
    "cat('Mean of Z:', MeanZ)"
   ]
  },
  {
   "cell_type": "markdown",
   "metadata": {},
   "source": [
    "### 4.76 Find some variances and standard deviations.  \n",
    "**a)**"
   ]
  },
  {
   "cell_type": "code",
   "execution_count": 9,
   "metadata": {},
   "outputs": [
    {
     "name": "stdout",
     "output_type": "stream",
     "text": [
      "Standard Deviation of Z: 50"
     ]
    }
   ],
   "source": [
    "StdevZ = sqrt((StdevX)^2*(10)^2)\n",
    "cat('Standard Deviation of Z:', StdevZ)"
   ]
  },
  {
   "cell_type": "markdown",
   "metadata": {},
   "source": [
    "**b)**"
   ]
  },
  {
   "cell_type": "code",
   "execution_count": 10,
   "metadata": {},
   "outputs": [
    {
     "name": "stdout",
     "output_type": "stream",
     "text": [
      "Standard Deviation of Z: 50"
     ]
    }
   ],
   "source": [
    "StdevZ = sqrt((StdevX)^2*(10)^2)\n",
    "cat('Standard Deviation of Z:', StdevZ)"
   ]
  },
  {
   "cell_type": "markdown",
   "metadata": {},
   "source": [
    "**c)**"
   ]
  },
  {
   "cell_type": "code",
   "execution_count": 11,
   "metadata": {},
   "outputs": [
    {
     "name": "stdout",
     "output_type": "stream",
     "text": [
      "Standard Deviation of Z: 11.18034"
     ]
    }
   ],
   "source": [
    "StdevZ = sqrt((StdevX)^2 + (StdevY)^2)\n",
    "cat('Standard Deviation of Z:', StdevZ)"
   ]
  },
  {
   "cell_type": "markdown",
   "metadata": {},
   "source": [
    "**d)**"
   ]
  },
  {
   "cell_type": "code",
   "execution_count": 12,
   "metadata": {},
   "outputs": [
    {
     "name": "stdout",
     "output_type": "stream",
     "text": [
      "Standard Deviation of Z: 11.18034"
     ]
    }
   ],
   "source": [
    "StdevZ = sqrt((StdevX)^2 + (StdevY)^2)\n",
    "cat('Standard Deviation of Z:', StdevZ)"
   ]
  },
  {
   "cell_type": "markdown",
   "metadata": {},
   "source": [
    "**e)**"
   ]
  },
  {
   "cell_type": "code",
   "execution_count": 42,
   "metadata": {},
   "outputs": [
    {
     "name": "stdout",
     "output_type": "stream",
     "text": [
      "Standard Deviation of Z: 13.22876"
     ]
    }
   ],
   "source": [
    "StdevZ = sqrt((-3^2)*(StdevX)^2 - (-2^2)*(StdevY)^2)\n",
    "cat('Standard Deviation of Z:', StdevZ)"
   ]
  },
  {
   "cell_type": "markdown",
   "metadata": {},
   "source": [
    "### 4.86 Toss a four-sided die twice."
   ]
  },
  {
   "cell_type": "code",
   "execution_count": 64,
   "metadata": {},
   "outputs": [
    {
     "name": "stdout",
     "output_type": "stream",
     "text": [
      "Mean: 6\n",
      "Standard Devation: 1.581139"
     ]
    }
   ],
   "source": [
    "X = c(3, 4, 5, 6, 7, 8, 9) \n",
    "\n",
    "ProbsOfX = c(1/16, 2/16, 3/16, 4/16, 3/16, 2/16, 1/16)\n",
    "\n",
    "MuX = X %*% ProbsOfX\n",
    "cat('Mean:', MuX)\n",
    "\n",
    "StdevX = 0\n",
    "for (i in 1:length(X)) {\n",
    "    StdevX = StdevX + (((X[i] - MuX)^2)*(ProbsOfX[i]))\n",
    "}\n",
    "StdevX = sqrt(StdevX)\n",
    "cat('\\n')\n",
    "cat('Standard Devation:',StdevX)"
   ]
  },
  {
   "cell_type": "markdown",
   "metadata": {},
   "source": [
    "### 4.104 Conditional Probabilities.  \n",
    "**a)** Probability that A and B occur is 0 because A and B are disjoint based on the rule that P(B|A) does not equal P(B)."
   ]
  },
  {
   "cell_type": "markdown",
   "metadata": {},
   "source": [
    "**b)**  <img src=\"4.103b.png\">"
   ]
  },
  {
   "cell_type": "markdown",
   "metadata": {},
   "source": [
    "**c)**\n"
   ]
  },
  {
   "cell_type": "code",
   "execution_count": 84,
   "metadata": {},
   "outputs": [
    {
     "name": "stdout",
     "output_type": "stream",
     "text": [
      "P(B / A)= 0.6"
     ]
    }
   ],
   "source": [
    "PofA = 0.5\n",
    "PofB = 0.3\n",
    "cat('P(B / A)=', 0.3/0.5)"
   ]
  },
  {
   "cell_type": "markdown",
   "metadata": {},
   "source": [
    "### 4.106 Why not?"
   ]
  },
  {
   "cell_type": "markdown",
   "metadata": {},
   "source": [
    "Because the probablilies intersect and since the overlapping area is a subset of the two respective probabilities A and B, it is not possible for the overlapping probability to be greater than the individual probabilities."
   ]
  },
  {
   "cell_type": "markdown",
   "metadata": {},
   "source": [
    "### 4.120 Drawing a Ven diagram."
   ]
  },
  {
   "cell_type": "markdown",
   "metadata": {},
   "source": [
    "**a)** <img src=\"4.120a.png\">"
   ]
  },
  {
   "cell_type": "markdown",
   "metadata": {},
   "source": [
    "**b)** <img src=\"4.120b.png\">"
   ]
  },
  {
   "cell_type": "markdown",
   "metadata": {},
   "source": [
    "**c)** <img src=\"4.120c.png\">"
   ]
  },
  {
   "cell_type": "markdown",
   "metadata": {},
   "source": [
    "**d)** <img src=\"4.120d.png\">"
   ]
  }
 ],
 "metadata": {
  "kernelspec": {
   "display_name": "R",
   "language": "R",
   "name": "ir"
  },
  "language_info": {
   "codemirror_mode": "r",
   "file_extension": ".r",
   "mimetype": "text/x-r-source",
   "name": "R",
   "pygments_lexer": "r",
   "version": "3.5.1"
  }
 },
 "nbformat": 4,
 "nbformat_minor": 2
}

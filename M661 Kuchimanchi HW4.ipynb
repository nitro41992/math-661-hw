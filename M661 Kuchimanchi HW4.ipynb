{
 "cells": [
  {
   "cell_type": "markdown",
   "metadata": {},
   "source": [
    "### 4.2 Are these phenomena random?  \n",
    "**a)** This is random because there is uncertainty in the outcome of the outside temperature on any day.  \n",
    "**b)** The first digit in the student ID will always be the same so there is no uncertainty of the outcome.  \n",
    "**c)** This is a random outcome because the outcome was random and uncertain."
   ]
  },
  {
   "cell_type": "markdown",
   "metadata": {},
   "source": [
    "### 4.3 Interpret the probabilities.  \n",
    "**a)** The probability of the pehnomena is the chances of what the temperature happened to be at noon on Groundhod Day, February 2nd.  \n",
    "**b)** The term probability does not apply because there is no uncertainty of outcome. The first digit will always remain the same.  \n",
    "**c)** The chances of drawing an ace from a shuffled deck can be interpreted as the probability in this scenario. "
   ]
  },
  {
   "cell_type": "markdown",
   "metadata": {},
   "source": [
    "### 4.4 Are these trials independent?  \n",
    "**a)** Independent, beccause the weatehr one year does not influence the weather the next year on the same day and therefore the likelihood remains the same.\n",
    "**b)** Independent, because the number of tweets one Monday does not influence the number of tweets on another monday\n",
    "**c)** No, because the likelihood of the grades for each course changes respective to the course."
   ]
  },
  {
   "cell_type": "markdown",
   "metadata": {},
   "source": [
    "### 4.20 Probability rules.  \n",
    "**a)** Rule 4: Complement rule is used and suggests that the probability of something not happening is 1 minus the probability of something happening. Rule 1 and 2 are also assumed because we assume that the probability is between 0 and 1 for the event and that the sample space is equal to 1."
   ]
  },
  {
   "cell_type": "code",
   "execution_count": 7,
   "metadata": {},
   "outputs": [
    {
     "name": "stdout",
     "output_type": "stream",
     "text": [
      "Probability that A does not occur:"
     ]
    },
    {
     "data": {
      "text/html": [
       "0.776"
      ],
      "text/latex": [
       "0.776"
      ],
      "text/markdown": [
       "0.776"
      ],
      "text/plain": [
       "[1] 0.776"
      ]
     },
     "metadata": {},
     "output_type": "display_data"
    }
   ],
   "source": [
    "A = 0.224\n",
    "PAc = 1 - 0.224\n",
    "cat('Probability that A does not occur:')\n",
    "PAc"
   ]
  },
  {
   "cell_type": "markdown",
   "metadata": {},
   "source": [
    "**b)** Rule 3: Addition rule is used because we can asssume that both scenarios are disjoint of each other. Again, rule 1 and 2 are also assumed because we assume that the probability is between 0 and 1 for the event and that the sample space is equal to 1."
   ]
  },
  {
   "cell_type": "code",
   "execution_count": 9,
   "metadata": {},
   "outputs": [
    {
     "name": "stdout",
     "output_type": "stream",
     "text": [
      "Probability of same outcome of three tosses:"
     ]
    },
    {
     "data": {
      "text/html": [
       "0.25"
      ],
      "text/latex": [
       "0.25"
      ],
      "text/markdown": [
       "0.25"
      ],
      "text/plain": [
       "[1] 0.25"
      ]
     },
     "metadata": {},
     "output_type": "display_data"
    }
   ],
   "source": [
    "PofHeads = 1/8\n",
    "PofTails = 1/8\n",
    "cat('Probability of same outcome of three tosses:')\n",
    "PofHeads + PofTails"
   ]
  },
  {
   "cell_type": "markdown",
   "metadata": {},
   "source": [
    "**c)** The Complement rule and the Multiplication rule both apply here. The complement rule is used to determine the probability of atleast one heads occuring which is the opposite of no heads occuring. The multiplication rule is used to determine the probability of both independent events occuring together."
   ]
  },
  {
   "cell_type": "code",
   "execution_count": 12,
   "metadata": {},
   "outputs": [
    {
     "name": "stdout",
     "output_type": "stream",
     "text": [
      "Probability of atleast one head and one tail:"
     ]
    },
    {
     "data": {
      "text/html": [
       "0.77"
      ],
      "text/latex": [
       "0.77"
      ],
      "text/markdown": [
       "0.77"
      ],
      "text/plain": [
       "[1] 0.77"
      ]
     },
     "metadata": {},
     "output_type": "display_data"
    }
   ],
   "source": [
    "PofOneHeads = 1 - PofHeads\n",
    "PofOneTails = 1 - PofTails\n",
    "cat('Probability of atleast one head and one tail:')\n",
    "round(PofOneHeads * PofOneTails,2)"
   ]
  },
  {
   "cell_type": "markdown",
   "metadata": {},
   "source": [
    "**d)** No this cannot happen because the probabilites add to greater than one and because they are disjoint, it violates Rule 2"
   ]
  },
  {
   "cell_type": "markdown",
   "metadata": {},
   "source": [
    "**e)** No, this violates Rule 1 that says that any event A has to be between, or equal to, 0 and 1."
   ]
  },
  {
   "cell_type": "markdown",
   "metadata": {},
   "source": [
    "### 4.29 Distribution of blood types.  \n",
    "**a)**"
   ]
  },
  {
   "cell_type": "code",
   "execution_count": 14,
   "metadata": {},
   "outputs": [
    {
     "name": "stdout",
     "output_type": "stream",
     "text": [
      "Probability of Blood Type AB:"
     ]
    },
    {
     "data": {
      "text/html": [
       "0.03"
      ],
      "text/latex": [
       "0.03"
      ],
      "text/markdown": [
       "0.03"
      ],
      "text/plain": [
       "[1] 0.03"
      ]
     },
     "metadata": {},
     "output_type": "display_data"
    }
   ],
   "source": [
    "PofAB = 1 - (0.42 + 0.11 + 0.44)\n",
    "cat('Probability of Blood Type AB:')\n",
    "PofAB"
   ]
  },
  {
   "cell_type": "markdown",
   "metadata": {},
   "source": [
    "**b)**"
   ]
  },
  {
   "cell_type": "code",
   "execution_count": 16,
   "metadata": {},
   "outputs": [
    {
     "name": "stdout",
     "output_type": "stream",
     "text": [
      "Probability of random person being able to donate:"
     ]
    },
    {
     "data": {
      "text/html": [
       "0.55"
      ],
      "text/latex": [
       "0.55"
      ],
      "text/markdown": [
       "0.55"
      ],
      "text/plain": [
       "[1] 0.55"
      ]
     },
     "metadata": {},
     "output_type": "display_data"
    }
   ],
   "source": [
    "PofRand = 0.44 + 0.11\n",
    "cat('Probability of random person being able to donate:')\n",
    "PofRand"
   ]
  },
  {
   "cell_type": "markdown",
   "metadata": {},
   "source": [
    "### 4.30 Blood types in Ireland."
   ]
  },
  {
   "cell_type": "code",
   "execution_count": 25,
   "metadata": {},
   "outputs": [
    {
     "name": "stdout",
     "output_type": "stream",
     "text": [
      "Probability they both have type O:"
     ]
    },
    {
     "data": {
      "text/html": [
       "0.23"
      ],
      "text/latex": [
       "0.23"
      ],
      "text/markdown": [
       "0.23"
      ],
      "text/plain": [
       "[1] 0.23"
      ]
     },
     "metadata": {},
     "output_type": "display_data"
    },
    {
     "name": "stdout",
     "output_type": "stream",
     "text": [
      "Probability of the same blood type:"
     ]
    },
    {
     "data": {
      "text/html": [
       "0.06"
      ],
      "text/latex": [
       "0.06"
      ],
      "text/markdown": [
       "0.06"
      ],
      "text/plain": [
       "[1] 0.06"
      ]
     },
     "metadata": {},
     "output_type": "display_data"
    }
   ],
   "source": [
    "cat('Probability they both have type O:')\n",
    "PofOIre = 0.52\n",
    "PofOUSA = 0.44\n",
    "round(PofOIre * PofOUSA, 2)\n",
    "\n",
    "cat('Probability of the same blood type:')\n",
    "PofBloodType = 1/4\n",
    "round((PofBloodType)^2, 2)"
   ]
  }
 ],
 "metadata": {
  "kernelspec": {
   "display_name": "R",
   "language": "R",
   "name": "ir"
  },
  "language_info": {
   "codemirror_mode": "r",
   "file_extension": ".r",
   "mimetype": "text/x-r-source",
   "name": "R",
   "pygments_lexer": "r",
   "version": "3.6.0"
  }
 },
 "nbformat": 4,
 "nbformat_minor": 2
}

{
 "cells": [
  {
   "cell_type": "markdown",
   "metadata": {},
   "source": [
    "### 1.9 Employee application data\n",
    "\n",
    "**a)** The cases in the data file are the individual employees in the company. Every record is a different employee.  </br>\n",
    "\n",
    "**b)**\n",
    "- employee identification number: **label**\n",
    "- last name: **categorical**\n",
    "- first name: **categorical**\n",
    "- middle initial: **categorical**\n",
    "- department: **categorical**\n",
    "- number of years with the company: **quantitative**\n",
    "- salary: **quantitative**\n",
    "- education: **categorical**\n",
    "- age: **quatitative**\n",
    "\n",
    "**c)**  \n",
    "\n",
    "| employee identification number | last name | first name | middle initial | department | number of years with the company | salary | education | age |\n",
    "| ----------- | ----------- | ----------- | ----------- | ----------- | ----------- | ----------- | ----------- | ----------- |\n",
    "| 001 | Kuchimanchi | Narasimha | N | Product Development | 3 | 93,000 | college degree | 27 |\n",
    "| 002 | Laney | Sierra | E | Marketing | 4 | 93,000 | college degree | 24 |\n",
    "| 003 | Grijalva | Carlos | K | Engineering | 2 | 93,000 | some college | 30 |\n",
    "| 004 | Hasani | Aliasker | J | Engineering | 1 | 93,000 | college degree | 27 |\n",
    "| 005 | Thaker | Madhav | M | Data Analysis | 2 | 93,000 | college degree | 26 |"
   ]
  },
  {
   "cell_type": "markdown",
   "metadata": {},
   "source": [
    "### 1.14  Attending college in your state or in another state\n",
    "**a)** The cases identify the states in the U.S. and each row is defined by the total number of students from the state who went to college and the total number of students who went to college within the state.  \n",
    "\n",
    "**b)** The state is the label becuase the name of a state distinctly identifies each row.  \n",
    "\n",
    "**c)**  \n",
    "- state: **categorical**\n",
    "- number of students within the state who attend college: **quantitative**\n",
    "- number of students who attend college in their home state: **quantitative**  \n",
    "\n",
    "**d)** The number of students within a state who attend college can be used to explain the most and least higher educated states respectively. The number of students who attend college in their home state can be used to explain the average amount of students who stay instate across all the states.\n",
    "\n",
    "**e)** The number of students in each state who attend college in the state\n",
    "divided by the total number of students from the state who attend college would explain the state's ability to retain students seeking higher education within their own state."
   ]
  },
  {
   "cell_type": "markdown",
   "metadata": {},
   "source": [
    "### 1.15 Alcohol-impaired driving fatalities\n",
    "\n",
    "- The number of alcohol-impaired driving fatalities could be divided by the total population per state which is advantageous because it would explain the rate of fatalaties by the entire state population. This is disadvantageous becuase its difficult to compare against other states with a large difference in populations.\n",
    "- The number of alcohol-impaired driving fatalities could be divided by the total number of alcohol-impaired fatalaties for all of the U.S. This would explain the state with the largest percentage of fatalaties in the U.S. This is disadvantages because it is not weighted by state and so it does not taking into consideration the size of the state population.\n",
    "- The number of alcohol-impaired driving fatalaties could be divided by the total number of fatalaties within a state. This would explain the prevalence of alcohol-impaired fatalaties within a state compared to all deaths.\n"
   ]
  },
  {
   "cell_type": "markdown",
   "metadata": {},
   "source": [
    "### 1.25 The *Titanic* and class\n",
    "\n",
    "**a)**"
   ]
  },
  {
   "cell_type": "code",
   "execution_count": 16,
   "metadata": {},
   "outputs": [
    {
     "data": {
      "image/png": "[encoded data removed]",
      "text/plain": [
       "Plot with title \"Number of Passwngers by Class\""
      ]
     },
     "metadata": {},
     "output_type": "display_data"
    }
   ],
   "source": [
    "max.temp <- c(323, 277, 709)\n",
    "barplot(max.temp,\n",
    "main = \"Number of Passwngers by Class\",\n",
    "xlab = \"Class\",\n",
    "ylab = \"Number of Passengers\",\n",
    "names.arg = c(\"First Class\", \"Second Class\", \"Third Class\"),\n",
    "col = \"gray\")"
   ]
  },
  {
   "cell_type": "markdown",
   "metadata": {},
   "source": [
    "**b)** Second Class had the least amount of passengers whereas Third Class had the most amount of passengers with First Class in the middle. This makes sense since the Third Class ticket was presumably the least luxurious and therefore the least expensive.  \n",
    "**c)** The general features would not differ if the graph was of the percents of passengers in each class because each number is divided equally by the total number of passengers and therefore the change would be proportional."
   ]
  }
 ],
 "metadata": {
  "kernelspec": {
   "display_name": "R",
   "language": "R",
   "name": "ir"
  },
  "language_info": {
   "codemirror_mode": "r",
   "file_extension": ".r",
   "mimetype": "text/x-r-source",
   "name": "R",
   "pygments_lexer": "r",
   "version": "3.5.1"
  }
 },
 "nbformat": 4,
 "nbformat_minor": 2
}
